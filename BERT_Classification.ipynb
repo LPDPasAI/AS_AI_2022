{
 "cells": [
  {
   "cell_type": "code",
   "execution_count": 3,
   "metadata": {},
   "outputs": [
    {
     "name": "stderr",
     "output_type": "stream",
     "text": [
      "ERROR: Could not install packages due to an OSError: [WinError 5] Accesso negato: 'C:\\\\Users\\\\lpdepersiis\\\\Anaconda3\\\\Lib\\\\site-packages\\\\~umpy\\\\core\\\\_multiarray_tests.cp38-win_amd64.pyd'\n",
      "Consider using the `--user` option or check the permissions.\n",
      "\n",
      "WARNING: You are using pip version 21.3.1; however, version 22.0.3 is available.\n",
      "You should consider upgrading via the 'c:\\users\\lpdepersiis\\anaconda3\\python.exe -m pip install --upgrade pip' command.\n"
     ]
    }
   ],
   "source": [
    "#!pip install -q -U \"tensorflow-text==2.8.*\""
   ]
  },
  {
   "cell_type": "code",
   "execution_count": 6,
   "metadata": {},
   "outputs": [
    {
     "name": "stderr",
     "output_type": "stream",
     "text": [
      "WARNING: You are using pip version 22.0.3; however, version 22.0.4 is available.\n",
      "You should consider upgrading via the 'c:\\users\\lpdepersiis\\anaconda3\\python.exe -m pip install --upgrade pip' command.\n"
     ]
    }
   ],
   "source": [
    "!pip install -q tf-models-official==2.7.0"
   ]
  },
  {
   "cell_type": "code",
   "execution_count": 1,
   "metadata": {},
   "outputs": [],
   "source": [
    "import os\n",
    "import shutil\n",
    "\n",
    "import tensorflow as tf\n",
    "import tensorflow_hub as hub\n",
    "import tensorflow_text as text\n",
    "from official.nlp import optimization  # to create AdamW optimizer\n",
    "\n",
    "import matplotlib.pyplot as plt\n",
    "import numpy as np\n",
    "\n",
    "tf.get_logger().setLevel('ERROR')"
   ]
  },
  {
   "cell_type": "code",
   "execution_count": 2,
   "metadata": {},
   "outputs": [
    {
     "data": {
      "text/plain": [
       "'2.8.0'"
      ]
     },
     "execution_count": 2,
     "metadata": {},
     "output_type": "execute_result"
    }
   ],
   "source": [
    "tf.__version__"
   ]
  },
  {
   "cell_type": "code",
   "execution_count": 3,
   "metadata": {},
   "outputs": [],
   "source": [
    "#url = 'https://ai.stanford.edu/~amaas/data/sentiment/aclImdb_v1.tar.gz'\n",
    "\n",
    "#dataset = tf.keras.utils.get_file('aclImdb_v1.tar.gz', url, untar=True, cache_dir='.', cache_subdir='')\n",
    "\n",
    "#dataset_dir = os.path.join(os.path.dirname(dataset), 'aclImdb')\n",
    "\n",
    "#train_dir = os.path.join(dataset_dir, 'train')\n",
    "\n",
    "# remove unused folders to make it easier to load the data\n",
    "#remove_dir = os.path.join(train_dir, 'unsup')\n",
    "#shutil.rmtree(remove_dir)"
   ]
  },
  {
   "cell_type": "code",
   "execution_count": 9,
   "metadata": {},
   "outputs": [
    {
     "name": "stdout",
     "output_type": "stream",
     "text": [
      "Found 64 files belonging to 7 classes.\n",
      "Using 52 files for training.\n",
      "Found 64 files belonging to 7 classes.\n",
      "Using 12 files for validation.\n"
     ]
    }
   ],
   "source": [
    "AUTOTUNE = tf.data.AUTOTUNE\n",
    "batch_size = 32\n",
    "seed = 42\n",
    "\n",
    "raw_train_ds = tf.keras.utils.text_dataset_from_directory(\n",
    "    'dataset',\n",
    "    batch_size=batch_size,\n",
    "    validation_split=0.2,\n",
    "    subset='training',\n",
    "    seed=seed)\n",
    "\n",
    "class_names = raw_train_ds.class_names\n",
    "train_ds = raw_train_ds.cache().prefetch(buffer_size=AUTOTUNE)\n",
    "\n",
    "val_ds = tf.keras.utils.text_dataset_from_directory(\n",
    "    'dataset',\n",
    "    batch_size=batch_size,\n",
    "    validation_split=0.2,\n",
    "    subset='validation',\n",
    "    seed=seed)\n",
    "\n",
    "val_ds = val_ds.cache().prefetch(buffer_size=AUTOTUNE)\n",
    "\n"
   ]
  },
  {
   "cell_type": "code",
   "execution_count": 10,
   "metadata": {},
   "outputs": [
    {
     "name": "stdout",
     "output_type": "stream",
     "text": [
      "Review: b'The Bugatti Chiron is a mid-engine two-seater sports car designed and developed in Germany by Bugatti Engineering GmbH and manufactured in Molsheim, France, by French automobile manufacturer Bugatti Automobiles S.A.S. The successor to the Bugatti Veyron, the Chiron was first shown at the Geneva Motor Show on 1 March 2016. The car is based on the Bugatti Vision Gran Turismo concept car.\\r\\nThe car is named after the Mon\\xc3\\xa9gasque driver Louis Chiron. The car shares the name with the 1999 Bugatti 18/3 Chiron concept car.\\r\\nIn January 2022 it was announced that every Chiron had been sold. As of January 2022, some of these sold vehicles still need to be physically manufactured and delivered to their owners.\\r\\n\\r\\n\\r\\n  Specifications and performance  \\r\\n\\r\\nThe main carry over component from the Veyron is the 7,993 cc (8.0 L) quad-turbocharged W16 engine, though it is heavily updated. The engine in the Chiron has a peak power output of 1,103 kW (1,479 hp; 1,500 PS) at 6,700 rpm and 1,600 N\\xe2\\x8b\\x85m (1,180 lb\\xe2\\x8b\\x85ft) of torque starting from 2,000 to 6,000 rpm.\\r\\nThe engine in the most powerful variant of its predecessor, the Veyron Super Sport generates 221 kW (296 hp; 300 PS) less than the new Chiron, while the engine in the original Veyron generates 367 kW (492 hp; 499 PS) less power.Like its predecessor, the Veyron, the Chiron utilises a carbon fibre body structure, independent suspension and a Haldex All-wheel drive system. The carbon fibre body has a stiffness of 50,000 Nm per degree.The Chiron can accelerate from 0\\xe2\\x80\\x93100 km/h (0\\xe2\\x80\\x9362 mph) in 2.4 seconds according to the manufacturer, 0\\xe2\\x80\\x93200 km/h (0\\xe2\\x80\\x93124 mph) in 6.5 seconds and 0\\xe2\\x80\\x93300 km/h (0\\xe2\\x80\\x93186 mph) in 13.6 seconds. In a world-record-setting test at the time in 2017, the Chiron reached 400 km/h (249 mph) in 32.6 seconds, after which it needed 9.4 seconds to brake to standstill.The Chiron\\'s top speed is electronically limited to 420 km/h (261 mph), or 375\\xe2\\x80\\x93380 km/h (233\\xe2\\x80\\x93236 mph) without the specific key, for safety reasons, mainly arising from the tyres as Bugatti concluded that no tyre currently manufactured would be able to handle the stress at the top speed the Chiron is capable of achieving. Independent testing by an owner has indicated that the Chiron can easily attain its limited top speed. Mixed fuel consumption is 22.5 L/100 km (12.55 mpg\\xe2\\x80\\x91imp; 10.45 mpg\\xe2\\x80\\x91US).\\r\\n\\r\\n\\r\\n  Sales  \\r\\nThe first 200 cars were sold before the first was delivered. The base price is \\xe2\\x82\\xac2,400,000 and buyers were required to place a \\xe2\\x82\\xac200,000 deposit before their purchase.\\r\\n\\r\\n\\r\\n  Variants  \\r\\n\\r\\n\\r\\n  Chiron Sport (2018)  \\r\\n\\r\\nAt the 2018 Geneva Motor Show, Bugatti unveiled the track focused version of the Chiron, named the Chiron Sport. Mechanically the car is identical to the regular version, generating 1,103 kW (1,479 hp; 1,500 PS) from a quad-turbocharged W16 engine but is 18 kg (40 lb) lighter due to the extensive use of carbon fibre and has a stiffer suspension in order to increase the cornering ability of the car while maintaining its grand touring characteristics. The steering of the car has also received modifications and a torque vectoring system to control the power sent to each wheel of the car for improved handling in tight corners has been added. Aerodynamic improvements and light weight have been given special consideration in order to keep the car competitive on the race track. The Chiron Sport became available in late 2018 for an additional US$400,000 on the standard Chiron.\\r\\n\\r\\n\\r\\n   110 Ans Bugatti (2019)   \\r\\n\\r\\nIntroduced in February 2019, the 110 Ans Bugatti is a limited edition variant of the Chiron Sport developed to celebrate 110 years of Bugatti. The car features carbon fibre bodywork finished in matte Steel Blue exterior colour. The body is also accented with Steel Blue bare carbon fibre. The exhaust system of the car is finished in matte black colour.\\r\\nThe colours of the French flag are present on the wing mirrors, fuel filler cap and on the underside of the rear wing. The brake calipers are finished in blue colour.\\r\\nThe interior of the car is upholstered in blue Alcantara and also has the colours of the French flag present on the headrests of the seats, on the back of the seats and on top of the steering wheel. Production will be limited to 20 units.\\r\\n\\r\\n\\r\\n   Les L\\xc3\\xa9gendes du Ciel (2020)   \\r\\n\\r\\nIntroduced in November 2020, the \"Les L\\xc3\\xa9gendes du Ciel\" Chiron is a limited edition version of the Chiron Sport developed to celebrate Bugatti\\'s racing drivers that flew in the French Air Force.\\r\\nThe car features a new grill, a French flag behind the front wheels, a matte grey (\"Gris Serpent\") exterior colour with a gloss white stripe in the centre.\\r\\nThe interior is upholstered in tan leather and turned aluminium.\\r\\n\\r\\nProduction will be limited to 20 units at \\xe2\\x82\\xac2.88 million each.\\r\\n\\r\\n\\r\\n  Chiron Super Sport 300+ (2019) /  Chiron Super Sport 300 (2021)  \\r\\n\\r\\nOn 2 August 2019 Bugatti presented a limited production high performance variant of the Chiron called the Chiron Super Sport to owners taking part in the company\\'s 110th-anniversary tour in Europe. The variant is limited to 30 examples and closely resembles the prototype performing the top speed record run. Changes from the standard Chiron include a more powerful engine, increased top speed, and a characteristic paint scheme featuring a lacquer-coated carbon fibre body with orange stripes, echoing the aesthetics of the company\\'s previous top speed record-breaking cars, the Veyron Super Sport World Record Edition and the Veyron Grand Sport Vitesse World Record Car.\\r\\nThe car is powered by a 1,175 kW (1,580 hp; 1,600 PS) quad-turbocharged W16 engine shared with the Bugatti Centodieci, nicknamed \"Thor\". This car has a grey Bugatti logo made of black enamel and silver, the exhaust system from the Centodieci, a modified gearbox with longer ratios and front and rear bumpers optimised for aerodynamics at high speed, resulting in the overall length increase of the car by 248.9 mm (9.8 in).\\r\\nThe Super Sport 300+ will also be equipped with a top speed limiter, akin to the one found in the standard Chiron. Without the limiter, Bugatti claims that the car can attain a maximum speed in excess of 483 km/h (300 mph). Bugatti will also prepare the cars of owners who want to take the car to its full potential at the Ehra-Lessien test track.\\r\\n\\r\\n\\r\\n  Chiron Super Sport (2022)  \\r\\n\\r\\nThe standard version of the 300+ world record car. Unlike the 300+, it does not come with interior stiffening and has more leather in the interior like a typical Bugatti Chiron. More visual differences include special redesigned wheels and a paint finish instead of the bare carbon fibre seen in the 300+. The Chiron Super Sport will have the same power output as the 300+ but will be limited to 440 km/h (273 mph). It also has the capability to accelerate from 0\\xe2\\x80\\x93200 km/h (0\\xe2\\x80\\x93124 mph) in 5.8 seconds and from 0\\xe2\\x80\\x93300 km/h (0\\xe2\\x80\\x93186 mph) in 12.1 seconds. Unlike the 300+, the limiter cannot be disabled by Bugatti in the Super Sport for prepared runs. Production will start in early 2022. This is the next generation supercar of the Bugatti Super Sport series present in Veyron and EB110 series cars. \\r\\n\\r\\n\\r\\n  Chiron Pur Sport (2020)  \\r\\n\\r\\nOn 3 March 2020, Bugatti introduced the Chiron Pur Sport, a handling-focused model which will be limited to 60 units. The tachometer has an additional 200 rpm, increasing the redline to 6,900 rpm. 80 percent of the transmission has been revised for a 15 percent closer gear-ratio spread benefiting the power band. The Pur Sport is 50 kg (110 lb) lighter than the standard Chiron due to a lightweight 3D printed titanium exhaust, a fixed rear spoiler and extensive use of Alcantara, anodised aluminium and titanium on the interior. The wheels have special spokes called \"aero blades\" which are designed to channel turbulent air near the wheel down the side of the vehicle to the rear diffuser. The tyres are Michelin Sport Cup 2R increasing lateral grip by 10 percent, and were co-developed with Michelin. To improve handling, the springs were made 65 percent stiffer at the front and 33 percent at the rear, aided by revised damper tuning and wheel camber along with additional front and rear carbon-fibre anti-roll bars and a new Sport+ drive mode. Production of the Pur Sport is expected to start in late 2020.\\r\\n\\r\\n\\r\\n  Chiron Noire (2020)  \\r\\nBugatti announced a special-edition, the Chiron Noire, celebrating the 1936 Bugatti Type 57SC Coup\\xc3\\xa9 Aero No. 57453 (also known as \"La Voiture Noire\") following the 2019 one-off homage and namesake \"La Voiture Noire\". The special edition comes in two versions, the Noire \\xc3\\x89l\\xc3\\xa9gance (black exposed carbon body) and the Noire Sportive (black exposed carbon body covered with a matte black finish). Only 20 will be made. The Noire starts at around $3.3 million, and deliveries are expected to begin in mid-2020. The Chiron Noire package is available for the entry-level Chiron or the Chiron Sport, in this case at an extra charge of \\xe2\\x82\\xac100,000.\\r\\n\\r\\n\\r\\n  Bugatti La Voiture Noire  \\r\\n\\r\\nThe La Voiture Noire is a one-off special introduced at the 2019 Geneva Motor Show. Based on the Chiron, the design of the car harkens back to the Type 57 SC Atlantic and is a celebration of the company\\'s distinctive design history. The car has a hand-built body made from carbon fibre designed by Bugatti designer Etienne Salom\\xc3\\xa9 which has an elongated nose (similar to that on the Divo) and an elongated rear section. Other notable features include unique wing mirrors, LED taillight strip, and wheels. Unlike the original, the car retains the mid-engine layout.\\r\\nA trim piece running from the front of the car to the rear spoiler recalls the dorsal fin present on the Type 57 SC. The car features a floating windscreen and has masked A-pillars. The La Voiture Noire\\'s shares large design similarities from the Bugatti Rembrandt, a cancelled front-engine grand tourer powered by the Chiron\\'s W16 engine.The La Voiture Noire will be powered by the same 8.0-litre quad-turbocharged W16 engine from the Chiron having the same power output figures but the 7-speed dual-clutch gearbox and the all-wheel-drive system are heavily revised in order to allow for a more relaxed driving experience. Softer dampers and a revised chassis contribute to the factor. The car features six exhaust pipes recalling the innovative design of the past.\\r\\nPerformance figures remain unknown but the company states that the car is likely to have a lower top speed and acceleration times as compared to the Chiron due to its Grand Touring nature. The car was sold for a price of $18.68 million, making it one of the most expensive cars built to date.A statement made later by the company confirmed that the car on display was a concept car and that the final product would take two and a half years more to complete. The show car had electric motors instead of an engine for easy maneuverability.\\r\\n\\r\\n\\r\\n  Records  \\r\\n\\r\\n\\r\\n  Acceleration and braking record  \\r\\n\\r\\nAt the 2017 IAA show in Frankfurt, Bugatti announced that the Chiron broke the record of fastest 0\\xe2\\x80\\x93400\\xe2\\x80\\x930 km/h (0\\xe2\\x80\\x93249\\xe2\\x80\\x930 mph) acceleration time, completing it in 41.96 seconds in a span of 3.2 kilometres (2 miles) at the Ehra-Lessien high-speed oval. The car was driven by Colombian racing driver Juan Pablo Montoya.Bugatti also added an extra livery to the Chiron on display to confirm that it was the same car that broke the 0\\xe2\\x80\\x93400\\xe2\\x80\\x930 km/h (0\\xe2\\x80\\x93249\\xe2\\x80\\x930 mph) record. During the show, Bugatti also mentioned that during the run, the car accelerated from 0\\xe2\\x80\\x93100 km/h (0\\xe2\\x80\\x9362 mph) in 2.4 seconds, 0\\xe2\\x80\\x93200 km/h (0\\xe2\\x80\\x93124 mph) in 6.1 seconds, 0\\xe2\\x80\\x93300 km/h (0\\xe2\\x80\\x93186 mph) in 13.1 seconds, and 0\\xe2\\x80\\x93400 km/h (0\\xe2\\x80\\x93248.5 mph) in 32.6 seconds, which altogether, also makes the Chiron faster than its predecessor, the Veyron.\\r\\n\\r\\n\\r\\n  Top speed achievement  \\r\\nOn 2 August 2019, Bugatti test driver Andy Wallace achieved a speed of 490.48 km/h (304.77 mph) in a pre-production Chiron Super Sport 300+ prototype at Volkswagen\\'s test facility in Ehra-Lessien. The speed was verified by the T\\xc3\\x9cV, Germany\\'s Technical Inspection Association. This speed was not achieved using a production model. In its final, road-legal production form, the Chiron SS 300+ has a limited top speed of 436 km/h (271 mph). \\r\\nThe car was developed under Bugatti head exterior designer Frank Heyl in collaboration with Italian automobile engineering firm Dallara and tyre manufacturer Michelin over the course of six months. The overall length of the car was increased by 248.9 mm (9.8 in) and it is fitted by a laser-controlled ride height system in order to reduce drag. To further reduce drag and aid aerodynamics, the electronically controlled rear wing was removed and was replaced with a long tail incorporating a rear wing with a short cross-section. A full roll cage was added for safety reasons, and the passenger seat was removed to make way for data recording equipment used to validate the record run. The car incorporates an exhaust system first introduced on the Bugatti Centodieci in order to further reduce aerodynamic drag. Mechanically, the engine was modified to generate 1,177 kW (1,578 hp; 1,600 PS) of power output with no changes to the gearbox and all-wheel-drive system.\\r\\n\\r\\n\\r\\n  Cars made on the basis of the Bugatti Chiron by car tuners  \\r\\n\\r\\n\\r\\n  Mansory Centuria  \\r\\n\\r\\nThe Mansory Centuria is a car made on the basis of the Bugatti Chiron by the German car modification firm, Mansory. It was unveiled at the 2019 Geneva Motor Show. \\r\\nThe car features a new rim system, a new air intake on the roof, new lower bodywork made on the basis of the Bugatti Divo\\'s and a new exhaust system. \\r\\nThe Interior has been handcrafted, utilizing more leather while new carbon fibre applications have been added. The Mansory and Centuria badges replace the stock badges inside (on the headrests etc.).\\r\\nThe Centuria has a tuned version of an original Chiron engine, increasing its capabilities.The Mansory Centuria was worth 4.7 million U.S. Dollars in 2019.\\r\\n\\r\\n\\r\\n  Production  \\r\\nProduction as of March 2021:\\r\\n\\r\\n\\r\\n  Marketing  \\r\\nThe Chiron was recreated in Lego as 2018\\'s annual Technic sports car. It was released on 1 June 2018 as a 1:8 scale model with 3,600 individual parts.On 30 August 2018, Lego unveiled a working full-sized model of the Chiron. It was constructed almost entirely with Lego Technic elements (339 unique types, over 1,000,000 pieces in total) with exceptions for the Bugatti badge, the wheels, a steel frame, a steel roll cage, a steel drive chain and the seat belts. The engine was created from 2,304 Lego Power Function motors found in standard models; it was estimated to produce 4 kW (5.4 hp; 5.4 PS) and 92 N\\xe2\\x8b\\x85m (68 lb\\xe2\\x8b\\x85ft) of torque. The car was test driven by Andy Wallace, Bugatti\\'s official test driver, at Volkswagen\\'s Ehra-Lessien test track. Top speed is 20 km/h (12 mph).\\r\\n\\r\\n\\r\\n  See also  \\r\\nBugatti Vision Gran Turismo\\r\\nBugatti Divo\\r\\nBugatti Centodieci\\r\\nList of production cars by power output\\r\\n\\r\\n\\r\\n  References  \\r\\n\\r\\n\\r\\n  External links  \\r\\n Media related to Bugatti Chiron at Wikimedia Commons\\r\\nOfficial website'\n",
      "Label : 6 (sport)\n",
      "Review: b\"Western literature, also known as European literature, is the literature written in the context of Western culture in the languages of Europe, including the ones belonging to the Indo-European language family as well as several geographically or historically related languages such as Basque and Hungarian. Western literature is considered one of the defining elements of Western civilization.\\r\\nThe best of Western literature is considered to be the Western canon. The list of works in the Western canon varies according to the critic's opinions on Western culture and the relative importance of its defining characteristics.\\r\\nWestern literature includes written works in many languages:\\r\\n\\r\\n\\r\\n  See also  \\r\\nPersian literature in Western culture\\r\\nOceanian literature\\r\\n\\r\\n\\r\\n  References  \"\n",
      "Label : 1 (literature)\n",
      "Review: b'Developmental psychology is the scientific study of how and why human beings change over the course of their life. Originally concerned with infants and children, the field has expanded to include adolescence, adult development, aging, and the entire lifespan. Developmental psychologists aim to explain how thinking, feeling, and behaviors change throughout life.  This field examines change across three major dimensions, which are physical development, cognitive development, and social emotional development. Within these three dimensions are a broad range of topics including motor skills, executive functions, moral understanding, language acquisition, social change, personality, emotional development, self-concept, and identity formation.\\r\\nDevelopmental psychology examines the influences of nature and nurture on the process of human development, as well as processes of change in context across time. Many researchers are interested in the interactions among personal characteristics, the individual\\'s behavior, and environmental factors. This includes the social context and the built environment. Ongoing debates in regards to developmental psychology include biological essentialism vs. neuroplasticity and stages of development vs. dynamic systems of development.\\r\\nDevelopmental psychology involves a range of fields, such as educational psychology, child psychopathology, forensic developmental psychology, child development, cognitive psychology, ecological psychology, and cultural psychology. Influential developmental psychologists from the 20th century include Urie Bronfenbrenner, Erik Erikson, Sigmund Freud, Anna Freud, Jean Piaget, Barbara Rogoff, Esther Thelen, and Lev Vygotsky.\\r\\n\\r\\n\\r\\n  Historical Antecedents  \\r\\nJean-Jacques Rousseau and John B. Watson are typically cited as providing the foundation for modern developmental psychology. In the mid-18th century, Jean Jacques Rousseau described three stages of development: infants (infancy), puer (childhood) and adolescence in Emile: Or, On Education. Rousseau\\'s ideas were adopted and supported by educators at the time.\\r\\nDevelopmental psychology generally focuses on how and why certain changes (cognitive, social, intellectual, personality) occur over time in the course of a human life. Many theorists have made a profound contribution to this area of psychology. One of them, Erik Erikson developed a model of eight stages of psychological development. He believed that humans developed in stages throughout their lifetimes and that this would affect their behaviors.\\r\\n\\r\\nIn the late 19th century, psychologists familiar with the evolutionary theory of Darwin began seeking an evolutionary description of psychological development; prominent here was the pioneering psychologist G. Stanley Hall, who attempted to correlate ages of childhood with previous ages of humanity. James Mark Baldwin, who wrote essays on topics that included Imitation: A Chapter in the Natural History of Consciousness and Mental Development in the Child and the Race: Methods and Processes, was significantly involved in the theory of developmental psychology. Sigmund Freud, whose concepts were developmental, significantly affected public perceptions.\\r\\n\\r\\n\\r\\n  Theories  \\r\\n\\r\\n\\r\\n  Psychosexual development  \\r\\n\\r\\nSigmund Freud believed that everyone has a conscious, preconscious, and unconscious level of awareness. According to Freud, a conscious level of awareness is aware of the mental process. The preconscious level of awareness involves information that, though not currently part of our thoughts, can be introduced into consciousness. Lastly, the unconscious level of awareness includes mental processes that a person is unaware of.\\r\\nHe believed there is tension between the conscious and unconscious because the conscious tries to hold back what the unconscious tries to express. To explain this, he developed three personality structures: id, ego, and superego. The id, the most primitive of the three, functions according to the pleasure principle: seek pleasure and avoid pain. The superego plays the critical and moralizing role, while the ego is the organized, realistic part that mediates between the desires of the id and the superego.Based on these developments, he proposed five universal stages of development. Each is characterized by the erogenous zone, which is the source of the child\\'s psychosexual energy. The first is the oral stage, which occurs between about birth to 12 months of age. During the oral stage, the source of the child\\'s psychosexual energy is motivated by the mouth. For example, the baby looks to suck on or bite things. The second is the anal stage, from one to three years of age. During the anal stage, the child defecates from the anus and is often fascinated with their defecation. The third is the phallic stage, which occurs from three to five years of age (most of a person\\'s personality forms by this age). During the phallic stage, the child is aware of their sexual organs. The fourth is the latency stage, which occurs from age five until puberty. During the latency stage, the child\\'s sexual interests are repressed. Stage five is the genital stage, which takes place from puberty until adulthood. During the genital stage, puberty starts happening.\\r\\n\\r\\n\\r\\n  Theories of cognitive development  \\r\\n\\r\\nJean Piaget, a Swiss theorist, posited that children learn by actively constructing knowledge through hands-on experience. He suggested that the adult\\'s role in helping the child learn was to provide appropriate materials that the child can interact with and use to construct. He used Socratic questioning to get children to reflect on what they were doing, and he tried to get them to see contradictions in their explanations.\\r\\nPiaget believed that intellectual development takes place through a series of stages, which he described in his theory on cognitive development. Each stage consists of steps the child must master before moving to the next step. He believed that these stages are not separate from one another, but rather that each stage builds on the previous one in a continuous learning process. He proposed four stages: sensorimotor, pre-operational, concrete operational, and formal operational. Though he did not believe these stages occurred at any given age, many studies have determined when these cognitive abilities should take place.\\r\\n\\r\\n\\r\\n  Stages of moral development  \\r\\n\\r\\nPiaget claimed that logic and morality develop through constructive stages. Expanding on Piaget\\'s work, Lawrence Kohlberg determined that the process of moral development was principally concerned with justice, and that it continued throughout the individual\\'s lifetime.He suggested three levels of moral reasoning; pre-conventional moral reasoning, conventional moral reasoning, and post-conventional moral reasoning.  The pre-conventional moral reasoning is typical of children and is characterized by reasoning that is based on rewards and punishments associated with different courses of action. Conventional moral reason occurs during late childhood and early adolescence and is characterized by reasoning based on rules and conventions of society. Lastly, post-conventional moral reasoning is a stage during which the individual sees society\\'s rules and conventions as relative and subjective, rather than as authoritative.Kohlberg used the Heinz Dilemma to apply to his stages of moral development. The Heinz Dilemma involves Heinz\\'s wife dying from cancer and Heinz having the dilemma to save his wife by stealing a drug. Preconventional morality, conventional morality, and post-conventional morality applies to Heinz\\'s situation.\\r\\n\\r\\n\\r\\n  Stages of psychosocial development  \\r\\n\\r\\nGerman-American psychologist Erik Erikson and his collaborator and wife, Joan Erikson, conceptualized eight stages of psychosocial development that they theorized healthy individuals pass through as they develop from infancy to adulthood. At each stage the person must resolve a challenge, or an existential dilemma.  Successful resolution of the dilemma results in the person ingraining a positive virtue, but failure to resolve the fundamental challenge of that stage reinforces negative perceptions of the person or the world around them and the person\\'s personal development is unable to progress.  The first stage, \"Trust vs. Mistrust\", takes place in infancy. The positive virtue for the first stage is hope, in the infant learning whom to trust and having hope for a supportive group of people to be there for him/her. The second stage is \"Autonomy vs. Shame and Doubt\" with the positive virtue being will. This takes place in early childhood when the child learns to become more independent by discovering what they are capable of whereas if the child is overly controlled, feelings of inadequacy are reinforced, which can lead to low self-esteem and doubt. The third stage is \"Initiative vs. Guilt.\" The virtue of being gained is a sense of purpose. This takes place primarily via play. This is the stage where the child will be curious and have many interactions with other kids. They will ask many questions as their curiosity grows. If too much guilt is present, the child may have a slower and harder time interacting with their world and other children in it. The fourth stage is \"Industry (competence) vs. Inferiority\". The virtue for this stage is competency and is the result of the child\\'s early experiences in school. This stage is when the child will try to win the approval of others and understand the value of their accomplishments. The fifth stage is \"Identity vs. Role Confusion\". The virtue gained is fidelity and it takes place in adolescence. This is when the child ideally starts to identify their place in society, particularly in terms of their gender role. The sixth stage is \"Intimacy vs. Isolation\", which happens in young adults and the virtue gained is love. This is when the person starts to share his/her life with someone else intimately and emotionally. Not doing so can reinforce feelings of isolation. The seventh stage is \"Generativity vs. Stagnation\". This happens in adulthood and the virtue gained is care. A person becomes stable and starts to give back by raising a family and becoming involved in the community. The eighth stage is \"Ego Integrity vs. Despair\". When one grows old, they look back on their life and contemplate their successes and failures.  If they resolve this positively, the virtue of wisdom is gained. This is also the stage when one can gain a sense of closure and accept death without regret or fear.\\r\\n\\r\\n\\r\\n  Stages based on the model of hierarchical complexity  \\r\\n\\r\\nMichael Commons enhanced and simplified B\\xc3\\xa4rbel Inhelder and Piaget\\'s developmental theory and offers a standard method of examining the universal pattern of development. The Model of Hierarchical Complexity (MHC) is not based on the assessment of domain-specific information, It divides the Order of Hierarchical Complexity of tasks to be addressed from the Stage performance on those tasks.  A stage is the order hierarchical complexity of the tasks the participant\\'s successfully addresses. He expanded Piaget\\'s original eight stage (counting the half stages) to fifteen stages. The stages are : 0 Calculatory; 1 Sensory & Motor; 2 Circular sensory-motor; 3 Sensory-motor; 4 Nominal; 5 Sentential; 6 Preoperational; 7 Primary; 8 Concrete; 9 Abstract; 10 Formal; 11 Systematic; 12 Metasystematic; 13 Paradigmatic; 14 Cross-paradigmatic; 15 Meta-Cross-paradigmatic. The order of hierarchical complexity of tasks predicts how difficult the performance is with an R ranging from 0.9 to 0.98.\\r\\nIn the MHC, there are three main axioms for an order to meet in order for the higher order task to coordinate the next lower order task. Axioms are rules that are followed to determine how the MHC orders actions to form a hierarchy. These axioms are: a) defined in terms of tasks at the next lower order of hierarchical complexity task action; b) defined as the higher order task action that organizes two or more less complex actions; that is, the more complex action specifies the way in which the less complex actions combine; c) defined as the lower order task actions have to be carried out non-arbitrarily.\\r\\n\\r\\n\\r\\n  Ecological systems theory  \\r\\n\\r\\nEcological systems theory, originally formulated by Urie Bronfenbrenner, specifies four types of nested environmental systems, with bi-directional influences within and between the systems. The four systems are microsystem, mesosystem, exosystem, and macrosystem. Each system contains roles, norms and rules that can powerfully shape development. The microsystem is the direct environment in our lives such as our home and school. Mesosystem is how relationships connect to the microsystem. Exosystem is a larger social system where the child plays no role. Macrosystem refers to the cultural values, customs and laws of society.The microsystem is the immediate environment surrounding and influencing the individual (example: school or the home setting). The mesosystem is the combination of two microsystems and how they influence each other (example: sibling relationships at home vs. peer relationships at school). The exosystem is the interaction among two or more settings that are indirectly linked (example: a father\\'s job requiring more overtime ends up influencing his daughter\\'s performance in school because he can no longer help with her homework). The macrosystem is broader taking into account social economic status, culture, beliefs, customs and morals (example: a child from a wealthier family sees a peer from a less wealthy family as inferior for that reason). Lastly, the chronosystem refers to the chronological nature of life events and how they interact and change the individual and their circumstances through transition (example: a mother losing her own mother to illness and no longer having that support in her life).Since its publication in 1979, Bronfenbrenner\\'s major statement of this theory, The Ecology of Human Development, has had widespread influence on the way psychologists and others approach the study of human beings and their environments. As a result of this conceptualization of development, these environments\\xe2\\x80\\x94from the family to economic and political structures\\xe2\\x80\\x94have come to be viewed as part of the life course from childhood through to adulthood.\\r\\n\\r\\n\\r\\n  Zone of proximal development  \\r\\n\\r\\nLev Vygotsky was a Russian theorist from the Soviet era, who posited that children learn through hands-on experience and social interactions with members of their culture.  Unlike Piaget, he claimed that timely and sensitive intervention by adults when a child is on the edge of learning a new task (called the \"zone of proximal development\") could help children learn new tasks. This adult role is often referred to as the skilled \"master\", whereas the child is considered the learning apprentice through an educational process often termed \"cognitive apprenticeship\" Martin Hill stated that \"The world of reality does not apply to the mind of a child.\" This technique is called \"scaffolding\", because it builds upon knowledge children already have with new knowledge that adults can help the child learn. Vygotsky was strongly focused on the role of culture in determining the child\\'s pattern of development, arguing that development moves from the social level to the individual level. In other words, Vygotsky claimed that psychology should focus on the progress of human consciousness through the relationship of an individual and their environment. He felt that if scholars continued to disregard this connection, then this disregard would inhibit the full comprehension of the human consciousness.\\r\\n\\r\\n\\r\\n  Constructivism  \\r\\n\\r\\nConstructivism is a paradigm in psychology that characterizes learning as a process of actively constructing knowledge. Individuals create meaning for themselves or make sense of new information by selecting, organizing, and integrating information with other knowledge, often in the context of social interactions.  Constructivism can occur in two ways: individual and social. Individual constructivism is when a person constructs knowledge through cognitive processes of their own experiences rather than by memorizing facts provided by others.  Social constructivism is when individuals construct knowledge through an interaction between the knowledge they bring to a situation and social or cultural exchanges within that content.Jean Piaget, a Swiss developmental psychologist, proposed that learning is an active process because children learn through experience and make mistakes and solve problems. Piaget proposed that learning should be whole by helping students understand that meaning is constructed.\\r\\n\\r\\n\\r\\n  Evolutionary developmental psychology  \\r\\n\\r\\nEvolutionary developmental psychology is a research paradigm that applies the basic principles of Darwinian evolution, particularly natural selection, to understand the development of human behavior and cognition. It involves the study of both the genetic and environmental mechanisms that underlie the development of social and cognitive competencies, as well as the epigenetic (gene-environment interactions) processes that adapt these competencies to local conditions.EDP considers both the reliably developing, species-typical features of ontogeny (developmental adaptations), as well as individual differences in behavior, from an evolutionary perspective. While evolutionary views tend to regard most individual differences as the result of either random genetic noise (evolutionary byproducts) and/or idiosyncrasies (for example, peer groups, education, neighborhoods, and chance encounters) rather than products of natural selection, EDP asserts that natural selection can favor the emergence of individual differences via \"adaptive developmental plasticity\". From this perspective, human development follows alternative life-history strategies in response to environmental variability, rather than following one species-typical pattern of development.EDP is closely linked to the theoretical framework of evolutionary psychology (EP), but is also distinct from EP in several domains, including research emphasis (EDP focuses on adaptations of ontogeny, as opposed to adaptations of adulthood) and consideration of proximate ontogenetic and environmental factors (i.e., how development happens) in addition to more ultimate factors (i.e., why development happens), which are the focus of mainstream evolutionary psychology.\\r\\n\\r\\n\\r\\n  Attachment theory  \\r\\n\\r\\nAttachment theory, originally developed by John Bowlby, focuses on the importance of open, intimate, emotionally meaningful relationships. Attachment is described as a biological system or powerful survival impulse that evolved to ensure the survival of the infant. A threatened or stressed child will move toward caregivers who create a sense of physical, emotional, and psychological safety for the individual. Attachment feeds on body contact and familiarity. Later Mary Ainsworth developed the Strange Situation protocol and the concept of the secure base. This tool has been found to help understand and surveillance attachment, such as the Strange Situation Test and the Adult Attachment Interview.  Both of which help determine factors to certain attachment styles.  The Strange Situation Test help finds \"disturbances in attachment\" and whether certain attributes are found to contribute to a certain attachment issue. The Adult Attachment Interview is a tool that is similar to the Strange Situation Test but instead focuses attachment issues found in adults. Both tests have helped many researchers gain more information on the risks and how to identify them.Theorists have proposed four types of attachment styles: secure, anxious-avoidant, anxious-resistant, and disorganized. Secure attachment is a healthy attachment between the infant and the caregiver. It is characterized by trust. Anxious-avoidant is an insecure attachment between an infant and a caregiver. This is characterized by the infant\\'s indifference toward the caregiver. Anxious-resistant is an insecure attachment between the infant and the caregiver characterized by distress from the infant when separated and anger when reunited. Disorganized is an attachment style without a consistent pattern of responses upon return of the parent.A child can be hindered in its natural tendency to form attachments. Some babies are raised without the stimulation and attention of a regular caregiver or locked away under conditions of abuse or extreme neglect. The possible short-term effects of this deprivation are anger, despair, detachment, and temporary delay in intellectual development. Long-term effects include increased aggression, clinging behavior, detachment, psychosomatic disorders, and an increased risk of depression as an adult.Attachment is established in early childhood and attachment continues into adulthood. When involved in intimate relationships the way adults are able to handle relationship issues depends on their attachment styles that were formed during their childhood. An example of secure attachment continuing in adulthood would be when the person feels confident and is able to meet their own needs. Having a secure attachment allows the adult to have a healthy trusting relationship. An example of anxious attachment during adulthood is when the adult chooses a partner with anxious-avoidant attachment. Having an anxious/ ambivalent attachment style can affect an adult\\'s trust issues in a committed relationship. By understanding what attachment style an individual formed with their caregiver when they were children, we can better understand their interpersonal relationships as adults.\\r\\n\\r\\n\\r\\n  Nature vs nurture  \\r\\nA significant issue in developmental psychology is the relationship between innateness and environmental influence in regard to any particular aspect of development. This is often referred to as \"nature and nurture\" or nativism versus empiricism. A nativist account of development would argue that the processes in question are innate, that is, they are specified by the organism\\'s genes.An empiricist perspective would argue that those processes are acquired in interaction with the environment. Today developmental psychologists rarely take such polarized positions with regard to most aspects of development; rather they investigate, among many other things, the relationship between innate and environmental influences. One of the ways this relationship has been explored in recent years is through the emerging field of evolutionary developmental psychology.\\r\\nOne area where this innateness debate has been prominently portrayed is in research on language acquisition. A major question in this area is whether or not certain properties of human language are specified genetically or can be acquired through learning. The empiricist position on the issue of language acquisition suggests that the language input provides the necessary information required for learning the structure of language and that infants acquire language through a process of statistical learning. From this perspective, language can be acquired via general learning methods that also apply to other aspects of development, such as perceptual learning.\\r\\nThe nativist position argues that the input from language is too impoverished for infants and children to acquire the structure of language. Linguist Noam Chomsky asserts that, evidenced by the lack of sufficient information in the language input, there is a universal grammar that applies to all human languages and is pre-specified. This has led to the idea that there is a special cognitive module suited for learning language, often called the language acquisition device. Chomsky\\'s critique of the behaviorist model of language acquisition is regarded by many as a key turning point in the decline in the prominence of the theory of behaviorism generally. But Skinner\\'s conception of \"Verbal Behavior\" has not died, perhaps in part because it has generated successful practical applications.\\r\\n\\r\\n\\r\\n  Continuity vs discontinuity  \\r\\nOne of the major discussions in developmental psychology includes whether development is discontinuous or continuous.\\r\\nContinuous development is quantifiable and quantitative, whereas discontinuous development is qualitative. Quantitative estimations of development can be measuring the stature of a child, and measuring their memory or consideration span. \"Particularly dramatic examples of qualitative changes are metamorphoses, such as the emergence of a caterpillar into a butterfly.\"Those psychologists who bolster the continuous view of improvement propose that improvement includes slow and progressing changes all through the life span, with behavior within the prior stages of advancement giving the premise of abilities and capacities required for the other stages. \"To many, the concept of continuous, quantifiable measurement seems to be the essence of science\".Not all psychologists, be that as it may, concur that advancement could be a continuous process. A few see advancement as a discontinuous process. They accept advancement includes unmistakable and partitioned stages with diverse sorts of behavior happening in each organization. This proposes that the development of certain capacities in each arrange, such as particular feelings or ways of considering, have a definite beginning and finishing point. Be that as it may, there\\'s no correct time at which a capacity abruptly shows up or disappears. Although some sorts of considering, feeling or carrying on could seem to seem abruptly, it is more than likely that this has been developing gradually for some time.Stage theories of development rest on the suspicion that development may be a discontinuous process including particular stages which are characterized by subjective contrasts in behavior. They moreover assume that the structure of the stages isn\\'t variable concurring to each person, in any case, the time of each arrangement may shift separately. Stage theories can be differentiated with ceaseless hypotheses, which set that development is an incremental process.\\r\\n\\r\\n\\r\\n  Stability vs change  \\r\\nThis issue involves the degree to which one becomes older renditions of their early experience or whether they develop into something different from who they were at an earlier point in development. It considers the extent to which early experiences (especially infancy) or later experiences are the key determinants of a person\\'s development.\\r\\nMost lifespan developmentalists recognize that extreme positions are unwise. Therefore, the key to a comprehensive understanding of development at any stage requires the interaction of different factors and not only one.\\r\\n\\r\\n\\r\\n  Mathematical models  \\r\\nDevelopmental psychology is concerned not only with describing the characteristics of psychological change over time but also seeks to explain the principles and internal workings underlying these changes. Psychologists have attempted to better understand these factors by using models. A model must simply account for the means by which a process takes place. This is sometimes done in reference to changes in the brain that may correspond to changes in behavior over the course of the development.\\r\\nMathematical modeling is useful in developmental psychology for implementing theory in a precise and easy-to-study manner, allowing generation, explanation, integration, and prediction of diverse phenomena. Several modeling techniques are applied to development: symbolic, connectionist (neural network), or dynamical systems models.\\r\\nDynamic systems models illustrate how many different features of a complex system may interact to yield emergent behaviors and abilities. Nonlinear dynamics has been applied to human systems specifically to address issues that require attention to temporality such as life transitions, human development, and behavioral or emotional change over time. Nonlinear dynamic systems is currently being explored as a way to explain discrete phenomena of human development such as affect, second language acquisition, and locomotion.\\r\\n\\r\\n\\r\\n  Research areas  \\r\\n\\r\\n\\r\\n  Cognitive development  \\r\\n\\r\\nCognitive development is primarily concerned with the ways that infants and children acquire, develop, and use internal mental capabilities such as: problem-solving, memory, and language. Major topics in cognitive development are the study of language acquisition and the development of perceptual and motor skills. Piaget was one of the influential early psychologists to study the development of cognitive abilities. His theory suggests that development proceeds through a set of stages from infancy to adulthood and that there is an end point or goal.\\r\\nOther accounts, such as that of Lev Vygotsky, have suggested that development does not progress through stages, but rather that the developmental process that begins at birth and continues until death is too complex for such structure and finality. Rather, from this viewpoint, developmental processes proceed more continuously. Thus, development should be analyzed, instead of treated as a product to obtain.\\r\\nK. Warner Schaie has expanded the study of cognitive development into adulthood.  Rather than being stable from adolescence, Schaie sees adults as progressing in the application of their cognitive abilities.Modern cognitive development has integrated the considerations of cognitive psychology and the psychology of individual differences into the interpretation and modeling of development. Specifically, the neo-Piagetian theories of cognitive development showed that the successive levels or stages of cognitive development are associated with increasing processing efficiency and working memory capacity. These increases explain differences between stages, progression to higher stages, and individual differences of children who are the same-age and of the same grade-level. However, other theories have moved away from Piagetian stage theories, and are influenced by accounts of domain-specific information processing, which posit that development is guided by innate evolutionarily-specified and content-specific information processing mechanisms.\\r\\n\\r\\n\\r\\n  Social and emotional development  \\r\\n\\r\\nDevelopmental psychologists who are interested in social development examine how individuals develop social and emotional competencies. For example, they study how children form friendships, how they understand and deal with emotions, and how identity develops. Research in this area may involve study of the relationship between cognition or cognitive development and social behavior.\\r\\nEmotional regulation or ER refers to an individual\\'s ability to modulate emotional responses across a variety of contexts. In young children, this modulation is in part controlled externally, by parents and other authority figures. As children develop, they take on more and more responsibility for their internal state. Studies have shown that the development of ER is affected by the emotional regulation children observe in parents and caretakers, the emotional climate in the home, and the reaction of parents and caretakers to the child\\'s emotions.Music also has an influence on stimulating and enhancing the senses of a child through self-expression.A child\\'s social and emotional development can be disrupted by motor coordination problems, evidenced by the environmental stress hypothesis.  The environmental hypothesis explains how children with coordination problems and developmental coordination disorder are exposed to several psychosocial consequences which act as secondary stressors, leading to an increase in internalizing symptoms such as depression and anxiety.  Motor coordination problems affect fine and gross motor movement as well as perceptual-motor skills.  Secondary stressors commonly identified include the tendency for children with poor motor skills to be less likely to participate in organized play with other children and more likely to feel socially isolated.Social and emotional development focuses on five keys areas: Self-Awareness, Self Management, Social Awareness, Relationship Skills and Responsible Decision Making.\\r\\n\\r\\n\\r\\n  Physical development  \\r\\nPhysical development concerns the physical maturation of an individual\\'s body until it reaches the adult stature. Although physical growth is a highly regular process, all children differ tremendously in the timing of their growth spurts. Studies are being done to analyze how the differences in these timings affect and are related to other variables of developmental psychology such as information processing speed. Traditional measures of physical maturity using x-rays are less in practice nowadays, compared to simple measurements of body parts such as height, weight, head circumference, and arm span.A few other studies and practices with physical developmental psychology are the phonological abilities of mature 5- to 11-year-olds, and the controversial hypotheses of left-handers being maturationally delayed compared to right-handers. A study by Eaton, Chipperfield, Ritchot, and Kostiuk in 1996 found in three different samples that there was no difference between right- and left-handers.\\r\\n\\r\\n\\r\\n  Memory development  \\r\\nResearchers interested in memory development look at the way our memory develops from childhood and onward. According to fuzzy-trace theory, people have two separate memory processes: verbatim and gist. These two traces begin to develop at different times as well as at a different pace. Children as young as four years old have verbatim memory, memory for surface information, which increases up to early adulthood, at which point it begins to decline. On the other hand, our capacity for gist memory, memory for semantic information, increases up to early adulthood, at which point it is consistent through old age. Furthermore, one\\'s reliance on gist memory traces increases as one ages.\\r\\n\\r\\n\\r\\n  Research methods and designs  \\r\\n\\r\\n\\r\\n  Main research methods  \\r\\nDevelopmental psychology employs many of the research methods used in other areas of psychology. However, infants and children cannot be tested in the same ways as adults, so different methods are often used to study their development.\\r\\nDevelopmental psychologists have a number of methods to study changes in individuals over time. Common research methods include systematic observation, including naturalistic observation or structured observation; self-reports, which could be clinical interviews or structured interviews; clinical or case study method; and ethnography or participant observation.:\\xe2\\x80\\x8a31\\xe2\\x80\\x9335\\xe2\\x80\\x8a These methods differ in the extent of control researchers impose on study conditions, and how they construct ideas about which variables to study. Every developmental investigation can be characterized in terms of whether its underlying strategy involves the experimental, correlational, or case study approach. The experimental method involves \"actual manipulation of various treatments, circumstances, or events to which the participant or subject is exposed; the experimental design points to cause-and-effect relationships. This method allows for strong inferences to be made of causal relationships between the manipulation of one or more independent variables and subsequent behavior, as measured by the dependent variable. The advantage of using this research method is that it permits determination of cause-and-effect relationships among variables. On the other hand, the limitation is that data obtained in an artificial environment may lack generalizability. The correlational method explores the relationship between two or more events by gathering information about these variables without researcher intervention. The advantage of using a correlational design is that it estimates the strength and direction of relationships among variables in the natural environment; however, the limitation is that it does not permit determination of cause-and-effect relationships among variables. The case study approach allows investigations to obtain an in-depth understanding of an individual participant by collecting data based on interviews, structured questionnaires, observations, and test scores. Each of these methods have its strengths and weaknesses but the experimental method when appropriate is the preferred method of developmental scientists because it provides a controlled situation and conclusions to be drawn about cause-and-effect relationships.\\r\\n\\r\\n\\r\\n  Research designs  \\r\\nMost developmental studies, regardless of whether they employ the experimental, correlational, or case study method, can also be constructed using research designs. Research designs are logical frameworks used to make key comparisons within research studies such as:\\r\\n\\r\\ncross-sectional design\\r\\nlongitudinal design\\r\\nsequential design\\r\\nmicrogenetic designIn a longitudinal study, a researcher observes many individuals born at or around the same time (a cohort) and carries out new observations as members of the cohort age. This method can be used to draw conclusions about which types of development are universal (or normative) and occur in most members of a cohort. As an example a longitudinal study of early literacy development examined in detail the early literacy experiences of one child in each of 30 families.Researchers may also observe ways that development varies between individuals, and hypothesize about the causes of variation in their data. Longitudinal studies often require large amounts of time and funding, making them unfeasible in some situations. Also, because members of a cohort all experience historical events unique to their generation, apparently normative developmental trends may, in fact, be universal only to their cohort.:\\xe2\\x80\\x8a40\\xe2\\x80\\x8aIn a cross-sectional study, a researcher observes differences between individuals of different ages at the same time. This generally requires fewer resources than the longitudinal method, and because the individuals come from different cohorts, shared historical events are not so much of a confounding factor. By the same token, however, cross-sectional research may not be the most effective way to study differences between participants, as these differences may result not from their different ages but from their exposure to different historical events.:\\xe2\\x80\\x8a41\\xe2\\x80\\x8aA third study design, the sequential design, combines both methodologies. Here, a researcher observes members of different birth cohorts at the same time, and then tracks all participants over time, charting changes in the groups. While much more resource-intensive, the format aids in a clearer distinction between what changes can be attributed to an individual or historical environment from those that are truly universal.:\\xe2\\x80\\x8a42\\xe2\\x80\\x8aBecause every method has some weaknesses, developmental psychologists rarely rely on one study or even one method to reach conclusions by finding consistent evidence from as many converging sources as possible.\\r\\n\\r\\n\\r\\n  Life stages of psychological development  \\r\\n\\r\\n\\r\\n  Prenatal development  \\r\\n\\r\\nPrenatal development is of interest to psychologists investigating the context of early psychological development. The whole prenatal development involves three main stages: germinal stage, embryonic stage and fetal stage. Germinal stage begins at conception until 2 weeks; embryonic stage means the development from 2 weeks to 8 weeks; fetal stage represents 9 weeks until birth of the baby. The senses develop in the womb itself: a fetus can both see and hear by the second trimester (13 to 24 weeks of age). The sense of touch develops in the embryonic stage (5 to 8 weeks).:\\xe2\\x80\\x8a97\\xe2\\x80\\x8a Most of the brain\\'s billions of neurons also are developed by the second trimester.:\\xe2\\x80\\x8a100\\xe2\\x80\\x8a Babies are hence born with some odor, taste and sound preferences, largely related to the mother\\'s environment.:\\xe2\\x80\\x8a101\\xe2\\x80\\x8aSome primitive reflexes too arise before birth and are still present in newborns. One hypothesis is that these reflexes are vestigial and have limited use in early human life. Piaget\\'s theory of cognitive development suggested that some early reflexes are building blocks for infant sensorimotor development. For example, the tonic neck reflex may help development by bringing objects into the infant\\'s field of view.Other reflexes, such as the walking reflex, appear to be replaced by more sophisticated voluntary control later in infancy. This may be because the infant gains too much weight after birth to be strong enough to use the reflex, or because the reflex and subsequent development are functionally different. It has also been suggested that some reflexes (for example the moro and walking reflexes) are predominantly adaptations to life in the womb with little connection to early infant development.  Primitive reflexes reappear in adults under certain conditions, such as neurological conditions like dementia or traumatic lesions.\\r\\nUltrasound has shown that infants are capable of a range of movements in the womb, many of which appear to be more than simple reflexes. By the time they are born, infants can recognize and have a preference for their mother\\'s voice suggesting some prenatal development of auditory perception. Prenatal development and birth complications may also be connected to neurodevelopmental disorders, for example in schizophrenia. With the advent of cognitive neuroscience, embryology and the neuroscience of prenatal development is of increasing interest to developmental psychology research.\\r\\nSeveral environmental agents\\xe2\\x80\\x94teratogens\\xe2\\x80\\x94can cause damage during the prenatal period. These include prescription and nonprescription drugs, illegal drugs, tobacco, alcohol, environmental pollutants, infectious disease agents such as the rubella virus and the toxoplasmosis parasite, maternal malnutrition, maternal emotional stress, and Rh factor blood incompatibility between mother and child.:\\xe2\\x80\\x8a102\\xe2\\x80\\x93115\\xe2\\x80\\x8a There are many statistics which prove the effects of the aforementioned substances. A leading example of this would be that, in America alone, approximately 100,000-375,000 \\'cocaine babies\\' are born on an annual basis. This is a result of an expectant mother abusing the drug while pregnant. \\'Cocaine babies\\' are proven to have quite severe and lasting difficulties which persist throughout infancy and right throughout childhood. The drug also encourages behavioural problems in the affected children and defects of various vital organs.\\r\\n\\r\\n\\r\\n  Infancy  \\r\\n\\r\\nFrom birth until the first year, the child is referred to as an infant. Developmental psychologists vary widely in their assessment of infant psychology, and the influence the outside world has upon it, but certain aspects are relatively clear.\\r\\nThe majority of a newborn infant\\'s time is spent in sleep. At first, this sleep is evenly spread throughout the day and night, but after a couple of months, infants generally become diurnal.\\r\\nInfants can be seen to have six states, grouped into pairs:\\r\\n\\r\\nquiet sleep and active sleep (dreaming, when REM sleep occurs)\\r\\nquiet waking, and active waking\\r\\nfussing and crying\\r\\n\\r\\n\\r\\n   Infant perception   \\r\\nInfant perception is what a newborn can see, hear, smell, taste, and touch.  These five features are better known as one\\'s \"five senses\". Infants respond to stimuli differently in these different states.\\r\\nVision is significantly worse in infants than in older children. Infant sight tends to be blurry in early stages but improves over time. Color perception similar to that seen in adults has been demonstrated in infants as young as four months, using habituation methods. Infants attain adult-like vision in about six months.:\\xe2\\x80\\x8a191\\xe2\\x80\\x8a\\r\\nHearing is well-developed prior to birth, unlike vision. Newborns prefer complex sounds to pure tones, human speech to other sounds, mother\\'s voice to other voices, and the native language to other languages. Scientist believe these features are probably learned in the womb.:\\xe2\\x80\\x8a151\\xe2\\x80\\x8a Infants are fairly good at detecting the direction a sound comes from, and by 18 months their hearing ability is approximately equal to an adult\\'s.\\r\\nSmell and taste are present, with infants showing different expressions of disgust or pleasure when presented with pleasant odors (honey, milk, etc.) or unpleasant odors (rotten egg) and tastes (e.g. sour taste). Newborns are born with odor and taste preferences acquired in the womb from the smell and taste of amniotic fluid, in turn influenced by what the mother eats. Both breast- and bottle-fed babies around three days old prefer the smell of human milk to that of formula, indicating an innate preference.:\\xe2\\x80\\x8a150\\xe2\\x80\\x8a There is good evidence for older infants preferring the smell of their mother to that of others.\\r\\nTouch and feel is one of the better-developed senses at birth as it is one of the first senses to develop inside the womb.  This is evidenced by the primitive reflexes described above, and the relatively advanced development of the somatosensory cortex.\\r\\nPain: Infants feel pain similarly, if not more strongly than older children, but pain relief in infants has not received so much attention as an area of research. Glucose is known to relieve pain in newborns.\\r\\n\\r\\n\\r\\n   Language   \\r\\n\\r\\nBabies are born with the ability to discriminate virtually all sounds of all human languages.:\\xe2\\x80\\x8a189\\xe2\\x80\\x8a Infants of around six months can differentiate between phonemes in their own language, but not between similar phonemes in another language. At this stage infants also start to babble, producing phonemes.\\r\\n\\r\\n\\r\\n   Infant cognition: the Piagetian era   \\r\\nPiaget suggested that an infant\\'s perception and understanding of the world depended on their motor development, which was required for the infant to link visual, tactile and motor representations of objects. According to this view, it is through touching and handling objects that infants develop object permanence, the understanding that objects are solid and permanent and continue to exist when out of sight.Piaget\\'s sensorimotor stage comprised six sub-stages (see sensorimotor stages for more detail). In the early stages, development arises out of movements caused by primitive reflexes. Discovery of new behaviors results from classical and operant conditioning, and the formation of habits. From eight months the infant is able to uncover a hidden object but will persevere when the object is moved.\\r\\nPiaget came to his conclusion that infants lacked a complete understanding of object permanence before 18 months after observing infants\\' failure before this age to look for an object where it was last seen. Instead, infants continue to look for an object where it was first seen, committing the \"A-not-B error\". Some researchers have suggested that before the age of eight to nine months, infants\\' inability to understand object permanence extends to people, which explains why infants at this age do not cry when their mothers are gone (\"Out of sight, out of mind\").\\r\\n\\r\\n\\r\\n   Recent findings in infant cognition   \\r\\nIn the 1980s and 1990s, researchers have developed many new methods of assessing infants\\' understanding of the world with far more precision and subtlety than Piaget was able to do in his time. Since then, many studies based on these methods suggest that young infants understand far more about the world than first thought.\\r\\nBased on recent findings, some researchers (such as Elizabeth Spelke and Renee Baillargeon) have proposed that an understanding of object permanence is not learned at all, but rather comprises part of the innate cognitive capacities of our species.\\r\\nOther research has suggested that young infants in their first six months of life may possess an understanding of numerous aspects of the world around them, including:\\r\\n\\r\\nan early numerical cognition, that is, an ability to represent number and even compute the outcomes of addition and subtraction operations;\\r\\nan ability to infer the goals of people in their environment;\\r\\nan ability to engage in simple causal reasoning.\\r\\n\\r\\n\\r\\n   Critical periods of development   \\r\\nThere are critical periods in infancy and childhood during which development of certain perceptual, sensorimotor, social and language systems depends crucially on environmental stimulation. Feral children such as Genie, deprived of adequate stimulation, fail to acquire important skills and are unable to learn in later childhood. The concept of critical periods is also well-established in neurophysiology, from the work of Hubel and Wiesel among others.\\r\\n\\r\\n\\r\\n   Developmental delays   \\r\\nStudies have been done to look at the differences in children who have developmental delays versus typical development. Normally when being compared to one another, mental age (MA) is not taken into consideration. There still may be differences in developmentally delayed (DD) children vs. typical development (TD) behavioral, emotional and other mental disorders. When compared to MA children there is a bigger difference between normal developmental behaviors overall. DDs can cause lower MA, so comparing DDs with TDs may not be as accurate. Pairing DDs specifically with TD children at similar MA can be more accurate. There are levels of behavioral differences that are considered as normal at certain ages. When we look at DDs and MA kids, we want to see if those with DDs have a larger amount of behavior that is not normal for their MA group. Developmental delays tend to contribute to other disorders or difficulties than their TD counterparts.\\r\\n\\r\\n\\r\\n  Toddlerhood  \\r\\n\\r\\nInfants shift between ages of one and two to a developmental stage known as toddlerhood. In this stage, an infant\\'s transition into toddlerhood is highlighted through self-awareness, developing maturity in language use, and presence of memory and imagination.\\r\\nDuring toddlerhood, babies begin learning how to walk, talk, and make decisions for themselves. An important characteristic of this age period is the development of language, where children are learning how to communicate and express their emotions and desires through the use of vocal sounds, babbling, and eventually words. Self-control also begins to develop. At this age, children take initiative to explore, experiment and learn from making mistakes. Caretakers who encourage toddlers to try new things and test their limits, help the child become autonomous, self-reliant, and confident. If the caretaker is overprotective or disapproving of independent actions, the toddler may begin to doubt their abilities and feel ashamed of the desire for independence. The child\\'s autonomic development is inhibited, leaving them less prepared to deal with the world in the future. Toddlers also begin to identify themselves in gender roles, acting according to their perception of what a man or woman should do.Socially, the period of toddler-hood is commonly called the \"terrible twos\". Toddlers often use their new-found language abilities to voice their desires, but are often misunderstood by parents due to their language skills just beginning to develop.  A person at this stage testing their independence is another reason behind the stage\\'s infamous label. Tantrums in a fit of frustration are also common.\\r\\n\\r\\n\\r\\n  Childhood  \\r\\n\\r\\nErik Erikson divides childhood into four stages, each with its distinct social crisis:\\r\\nStage 1: Infancy (0 to 1\\xc2\\xbd) in which the psychosocial crisis is Trust vs. Mistrust\\r\\nStage 2: Early childhood (2\\xc2\\xbd to 3) in which the psychosocial crisis is Autonomy vs. Shame and doubt\\r\\nStage 3: Play age (3 to 5) in which the psychosocial crisis is Initiative vs. Guilt. (This stage is also called the \"pre-school age\", \"exploratory age\" and \"toy age\".)\\r\\nStage 4: School age (5 to 12) in which the psychosocial crisis is Industry vs. InferiorityPlay (or preschool) ages 3\\xe2\\x80\\x935.\\r\\nIn the earliest years, children are \"completely dependent on the care of others\". Therefore, they develop a \"social relationship\" with their care givers and, later, with family members. During their preschool years (3-5), they \"enlarge their social horizons\" to include people outside the family.Preoperational and then operational thinking develops, which means actions are reversible, and egocentric thought diminishes.The motor skills of preschoolers increase so they can do more things for themselves. They become more independent. No longer completely dependent on the care of others, the world of this age group expands. More people have a role in shaping their individual personalities. Preschoolers explore and question their world. For Jean Piaget, the child is \"a little scientist exploring and reflecting on these explorations to increase competence\" and this is done in \"a very independent way\".:\\xe2\\x80\\x8a7,\\xe2\\x80\\x8a9\\xe2\\x80\\x8aPlay is a major activity for ages 3\\xe2\\x80\\x935. For Piaget, through play \"a child reaches higher levels of cognitive development.\":\\xe2\\x80\\x8a14\\xe2\\x80\\x8aIn their expanded world, children in the 3\\xe2\\x80\\x935 age group attempt to find their own way. If this is done in a socially acceptable way, the child develops the initiative. If not, the child develops guilt. Children who develop \"guilt\" rather than \"initiative\" have failed Erikson\\'s psychosocial crisis for the 3\\xe2\\x80\\x935 age group.\\r\\nMiddle childhood ages 6\\xe2\\x80\\x9312.\\r\\nFor Erik Erikson, the psychosocial crisis during middle childhood is Industry vs. Inferiority which, if successfully met, instills a sense of Competency in the child.In all cultures, middle childhood is a time for developing \"skills that will be needed in their society.\" School offers an arena in which children can gain a view of themselves as \"industrious (and worthy)\". They are \"graded for their school work and often for their industry\". They can also develop industry outside of school in sports, games, and doing volunteer work. Children who achieve \"success in school or games might develop a feeling of competence.\"\\r\\nThe \"peril during this period is that feelings of inadequacy and inferiority will develop. Parents and teachers can \"undermine\" a child\\'s development by failing to recognize accomplishments or being overly critical of a child\\'s efforts.\\r\\nChildren who are \"encouraged and praised\" develop a belief in their competence. Lack of encouragement or ability to excel lead to \"feelings of inadequacy and inferiority\".The Centers for Disease Control (CDC) divides Middle Childhood into two stages, 6\\xe2\\x80\\x938 years and 9\\xe2\\x80\\x9311 years, and gives \"developmental milestones for each stage\".Middle Childhood (7\\xe2\\x80\\x9310).\\r\\nEntering elementary school, children in this age group begin to thinks about the future and their \"place in the world\". Working with other students and wanting their friendship and acceptance become more important. This leads to \"more independence from parents and family\". As students, they develop the mental and verbal skills \"to describe experiences and talk about thoughts and feelings\". They become less self-centered and show \"more concern for others\".Middle Childhood (9\\xe2\\x80\\x9311).\\r\\nFor children ages 9\\xe2\\x80\\x9311 \"friendships and peer relationships\" increase in strength, complexity, and importance. This results in greater \"peer pressure\". They grow even less dependent on their families and they are challenged academically. To meet this challenge, they increase their attention span and learn to see other points of view.\\r\\n\\r\\n\\r\\n  Adolescence  \\r\\n\\r\\nAdolescence is the period of life between the onset of puberty and the full commitment to an adult social role, such as worker, parent, and/or citizen. It is the period known for the formation of personal and social identity (see Erik Erikson) and the discovery of moral purpose (see William Damon). Intelligence is demonstrated through the logical use of symbols related to abstract concepts and formal reasoning. A return to egocentric thought often occurs early in the period. Only 35% develop the capacity to reason formally during adolescence or adulthood. (Huitt, W. and Hummel, J. January 1998)It is divided into three parts, namely:\\r\\n\\r\\nEarly Adolescence: 9 to 13 years\\r\\nMid Adolescence: 13 to 15 years and\\r\\nLate Adolescence: 15 to 18 yearsThe adolescent unconsciously explores questions such as \"Who am I? Who do I want to be?\" Like toddlers, adolescents must explore, test limits, become autonomous, and commit to an identity, or sense of self. Different roles, behaviors and ideologies must be tried out to select an identity. Role confusion and inability to choose vocation can result from a failure to achieve a sense of identity through, for example, friends.\\r\\n\\r\\n\\r\\n  Early adulthood  \\r\\n\\r\\nEarly adulthood generally refers to the period between ages 18 to 29, and according to theorists such as Erik Erikson, is a stage where development is mainly focused on maintaining relationships.  Examples include creating bond of intimacy, sustaining friendships, and starting a family. Some theorists state that development of intimacy skills rely on the resolution of previous developmental stages. A sense of identity gained in the previous stages is also necessary for intimacy to develop. If this skill is not learned the alternative is alienation, isolation, a fear of commitment, and the inability to depend on others.\\r\\nA related framework for studying this part of the lifespan is that of emerging adulthood. Scholars of emerging adulthood, such as Jeffrey Arnett, are not necessarily interested in relationship development. Instead, this concept suggests that people transition after their teenage years into a period not characterized as relationship building and an overall sense of constancy with life, but with years of living with parents, phases of self-discovery, and experimentation.\\r\\n\\r\\n\\r\\n  Middle adulthood  \\r\\n\\r\\nMiddle adulthood generally refers to the period between ages 29 to 49. During this period, middle-aged adults experience a conflict between generativity and stagnation. They may either feel a sense of contributing to society, the next generation, or their immediate community; or develop a sense of purposelessness.\\r\\nPhysically, the middle-aged experience a decline in muscular strength, reaction time, sensory keenness, and cardiac output. Also, women experience menopause at an average age of 48.8 and a sharp drop in the hormone estrogen. Men experience an equivalent endocrine system event to menopause. Andropause in males is a hormone fluctuation with physical and psychological effects that can be similar to those seen in menopausal females. As men age lowered testosterone levels can contribute to mood swings and a decline in sperm count. Sexual responsiveness can also be affected, including delays in erection and longer periods of penile stimulation required to achieve ejaculation.\\r\\nThe important influence of biological and social changes experienced by women and men in middle adulthood is reflected in that fact that depression is highest at age 48.5 around the world.\\r\\n\\r\\n\\r\\n  Old age  \\r\\n\\r\\nThe World Health Organization finds \"no general agreement on the age at which a person becomes old.\" Most \"developed countries\" set the age as 60 or 65. However, in developing countries inability to make \"active contribution\" to society, not chronological age, marks the beginning of old age. According to Erikson\\'s stages of psychosocial development, old age is the stage in which individuals assess the quality of their lives. In reflecting on their lives, people in this age group develop a feeling of integrity if deciding that their lives were successful or a feeling of despair if evaluation of one\\'s life indicates a failure to achieve goals.Physically, older people experience a decline in muscular strength, reaction time, stamina, hearing, distance perception, and the sense of smell. They also are more susceptible to diseases such as cancer and pneumonia due to a weakened immune system. Programs aimed at balance, muscle strength, and mobility have been shown to reduce disability among mildly (but not more severely) disabled elderly.Sexual expression depends in large part upon the emotional and physical health of the individual. Many older adults continue to be sexually active and satisfied with their sexual activity.Mental disintegration may also occur, leading to dementia or ailments such as Alzheimer\\'s disease. The average age of onset for dementia in males is 78.8 and 81.9 for women. It is generally believed that crystallized intelligence increases up to old age, while fluid intelligence decreases with age. Whether or not normal intelligence increases or decreases with age depends on the measure and study. Longitudinal studies show that perceptual speed, inductive reasoning, and spatial orientation decline. An article on adult cognitive development reports that cross-sectional studies show that \"some abilities remained stable into early old age\".\\r\\n\\r\\n\\r\\n  Parenting  \\r\\nParenting variables alone have typically accounted for 20 to 50 percent of the variance in child outcomes.All parents have their own parenting styles. Parenting styles, according to Kimberly Kopko, are \"based upon two aspects of parenting behavior; control and warmth. Parental control refers to the degree to which parents manage their children\\'s behavior. Parental warmth refers to the degree to which parents are accepting and responsive to their children\\'s behavior.\"\\r\\n\\r\\n\\r\\n  Parenting styles  \\r\\nThe following parenting styles have been described in the child development literature:\\r\\n\\r\\nAuthoritative parenting is characterized as parents who have high parental warmth, responsiveness, and demandingness, but rate low in negativity and conflict. These parents are assertive but not intrusive or overly restrictive.  This method of parenting is associated with more positive social and academic outcomes. The beneficial outcomes of authoritative parenting are not necessarily universal. Among African American adolescents, authoritative parenting is not associated with academic achievement without peer support for achievement. Children who are raised by authoritative parents are \"more likely to become independent, self-reliant, socially accepted, academically successful, and well-behaved. They are less likely to report depression and anxiety, and less likely to engage in antisocial behavior like delinquency and drug use.\"\\r\\nAuthoritarian parenting is characterized by low levels of warmth and responsiveness with high levels of demandingness and firm control. These parents focus on obedience and they monitor their children regularly. In general, this style of parenting is associated with maladaptive outcomes.  The outcomes are more harmful for middle-class boys than girls, preschool white girls than preschool black girls, and for white boys than Hispanic boys.\\r\\nPermissive parenting is characterized by high levels of responsiveness combined with low levels of demandingness. These parents are lenient and do not necessarily require mature behavior.  They allow for a high degree of self-regulation and typically avoid confrontation.  Compared to children raised using the authoritative style, preschool girls raised in permissive families are less assertive.  Additionally, preschool children of both sexes are less cognitively competent than those children raised under authoritative parenting styles.\\r\\nRejecting or neglectful parenting is the final category. This is characterized by low levels of demandingness and responsiveness. These parents are typically disengaged in their child\\'s lives, lacking structure in their parenting styles and are unsupportive.  Children in this category are typically the least competent of all the categories.\\r\\n\\r\\n\\r\\n  Mother and father factors  \\r\\nParenting roles in child development have typically focused on the role of the mother. Recent literature, however, has looked toward the father as having an important role in child development.  Affirming a role for fathers, studies have shown that children as young as 15 months benefit significantly from substantial engagement with their father. In particular, a study in the U.S. and New Zealand found the presence of the natural father was the most significant factor in reducing rates of early sexual activity and rates of teenage pregnancy in girls.  Furthermore, another argument is that neither a mother nor a father is actually essential in successful parenting, and that single parents as well as homosexual couples can support positive child outcomes. According to this set of research, children need at least one consistently responsible adult with whom the child can have a positive emotional connection. Having more than one of these figures contributes to a higher likelihood of positive child outcomes.\\r\\n\\r\\n\\r\\n  Divorce  \\r\\nAnother parental factor often debated in terms of its effects on child development is divorce.  Divorce in itself is not a determining factor of negative child outcomes. In fact, the majority of children from divorcing families fall into the normal range on measures of psychological and cognitive functioning. A number of mediating factors play a role in determining the effects divorce has on a child, for example, divorcing families with young children often face harsher consequences in terms of demographic, social, and economic changes than do families with older children. Positive coparenting after divorce is part of a pattern associated with positive child coping, while hostile parenting behaviors lead to a destructive pattern leaving children at risk. Additionally, direct parental relationship with the child also affects the development of a child after a divorce.  Overall, protective factors facilitating positive child development after a divorce are maternal warmth, positive father-child relationship, and cooperation between parents.\\r\\n\\r\\n\\r\\n  See also  \\r\\n\\r\\n\\r\\n  Journals  \\r\\n\\r\\n\\r\\n  References  \\r\\n\\r\\n\\r\\n  Further reading  \\r\\n\\r\\n\\r\\n  External links  \\r\\n Media related to Developmental psychology at Wikimedia Commons\\r\\nThe Society for Research in Child Development\\r\\nThe British Psychological Society, Developmental Psychology Section\\r\\nDevelopmental Psychology: lessons for teaching and learning developmental psychology\\r\\nGMU\\'s On-Line Resources for Developmental Psychology: a web directory of developmental psychology organizations\\r\\nHome Economics Archive: Research, Tradition, History (HEARTH)An e-book collection of over 1,000 books spanning 1850 to 1950, created by Cornell University\\'s Mann Library. Includes several hundred works on human development, child raising, and family studies itemized in a specific bibliography.\\r\\nDevelopmental psychology Subject Area page at PLOS'\n",
      "Label : 5 (psychology)\n"
     ]
    }
   ],
   "source": [
    "for text_batch, label_batch in train_ds.take(1):\n",
    "    for i in range(5, 8):\n",
    "        print(f'Review: {text_batch.numpy()[i]}')\n",
    "        label = label_batch.numpy()[i]\n",
    "        print(f'Label : {label} ({class_names[label]})')"
   ]
  },
  {
   "cell_type": "code",
   "execution_count": 11,
   "metadata": {},
   "outputs": [],
   "source": [
    "map_name_to_handle = {\n",
    "    'bert_en_uncased_L-12_H-768_A-12':\n",
    "        'https://tfhub.dev/tensorflow/bert_en_uncased_L-12_H-768_A-12/3',\n",
    "    'bert_en_cased_L-12_H-768_A-12':\n",
    "        'https://tfhub.dev/tensorflow/bert_en_cased_L-12_H-768_A-12/3',\n",
    "    'bert_multi_cased_L-12_H-768_A-12':\n",
    "        'https://tfhub.dev/tensorflow/bert_multi_cased_L-12_H-768_A-12/3',\n",
    "    'small_bert/bert_en_uncased_L-2_H-128_A-2':\n",
    "        'https://tfhub.dev/tensorflow/small_bert/bert_en_uncased_L-2_H-128_A-2/1',\n",
    "    'small_bert/bert_en_uncased_L-2_H-256_A-4':\n",
    "        'https://tfhub.dev/tensorflow/small_bert/bert_en_uncased_L-2_H-256_A-4/1',\n",
    "    'small_bert/bert_en_uncased_L-2_H-512_A-8':\n",
    "        'https://tfhub.dev/tensorflow/small_bert/bert_en_uncased_L-2_H-512_A-8/1',\n",
    "    'small_bert/bert_en_uncased_L-2_H-768_A-12':\n",
    "        'https://tfhub.dev/tensorflow/small_bert/bert_en_uncased_L-2_H-768_A-12/1',\n",
    "    'small_bert/bert_en_uncased_L-4_H-128_A-2':\n",
    "        'https://tfhub.dev/tensorflow/small_bert/bert_en_uncased_L-4_H-128_A-2/1',\n",
    "    'small_bert/bert_en_uncased_L-4_H-256_A-4':\n",
    "        'https://tfhub.dev/tensorflow/small_bert/bert_en_uncased_L-4_H-256_A-4/1',\n",
    "    'small_bert/bert_en_uncased_L-4_H-512_A-8':\n",
    "        'https://tfhub.dev/tensorflow/small_bert/bert_en_uncased_L-4_H-512_A-8/1',\n",
    "    'small_bert/bert_en_uncased_L-4_H-768_A-12':\n",
    "        'https://tfhub.dev/tensorflow/small_bert/bert_en_uncased_L-4_H-768_A-12/1',\n",
    "    'small_bert/bert_en_uncased_L-6_H-128_A-2':\n",
    "        'https://tfhub.dev/tensorflow/small_bert/bert_en_uncased_L-6_H-128_A-2/1',\n",
    "    'small_bert/bert_en_uncased_L-6_H-256_A-4':\n",
    "        'https://tfhub.dev/tensorflow/small_bert/bert_en_uncased_L-6_H-256_A-4/1',\n",
    "    'small_bert/bert_en_uncased_L-6_H-512_A-8':\n",
    "        'https://tfhub.dev/tensorflow/small_bert/bert_en_uncased_L-6_H-512_A-8/1',\n",
    "    'small_bert/bert_en_uncased_L-6_H-768_A-12':\n",
    "        'https://tfhub.dev/tensorflow/small_bert/bert_en_uncased_L-6_H-768_A-12/1',\n",
    "    'small_bert/bert_en_uncased_L-8_H-128_A-2':\n",
    "        'https://tfhub.dev/tensorflow/small_bert/bert_en_uncased_L-8_H-128_A-2/1',\n",
    "    'small_bert/bert_en_uncased_L-8_H-256_A-4':\n",
    "        'https://tfhub.dev/tensorflow/small_bert/bert_en_uncased_L-8_H-256_A-4/1',\n",
    "    'small_bert/bert_en_uncased_L-8_H-512_A-8':\n",
    "        'https://tfhub.dev/tensorflow/small_bert/bert_en_uncased_L-8_H-512_A-8/1',\n",
    "    'small_bert/bert_en_uncased_L-8_H-768_A-12':\n",
    "        'https://tfhub.dev/tensorflow/small_bert/bert_en_uncased_L-8_H-768_A-12/1',\n",
    "    'small_bert/bert_en_uncased_L-10_H-128_A-2':\n",
    "        'https://tfhub.dev/tensorflow/small_bert/bert_en_uncased_L-10_H-128_A-2/1',\n",
    "    'small_bert/bert_en_uncased_L-10_H-256_A-4':\n",
    "        'https://tfhub.dev/tensorflow/small_bert/bert_en_uncased_L-10_H-256_A-4/1',\n",
    "    'small_bert/bert_en_uncased_L-10_H-512_A-8':\n",
    "        'https://tfhub.dev/tensorflow/small_bert/bert_en_uncased_L-10_H-512_A-8/1',\n",
    "    'small_bert/bert_en_uncased_L-10_H-768_A-12':\n",
    "        'https://tfhub.dev/tensorflow/small_bert/bert_en_uncased_L-10_H-768_A-12/1',\n",
    "    'small_bert/bert_en_uncased_L-12_H-128_A-2':\n",
    "        'https://tfhub.dev/tensorflow/small_bert/bert_en_uncased_L-12_H-128_A-2/1',\n",
    "    'small_bert/bert_en_uncased_L-12_H-256_A-4':\n",
    "        'https://tfhub.dev/tensorflow/small_bert/bert_en_uncased_L-12_H-256_A-4/1',\n",
    "    'small_bert/bert_en_uncased_L-12_H-512_A-8':\n",
    "        'https://tfhub.dev/tensorflow/small_bert/bert_en_uncased_L-12_H-512_A-8/1',\n",
    "    'small_bert/bert_en_uncased_L-12_H-768_A-12':\n",
    "        'https://tfhub.dev/tensorflow/small_bert/bert_en_uncased_L-12_H-768_A-12/1',\n",
    "    'albert_en_base':\n",
    "        'https://tfhub.dev/tensorflow/albert_en_base/2',\n",
    "    'electra_small':\n",
    "        'https://tfhub.dev/google/electra_small/2',\n",
    "    'electra_base':\n",
    "        'https://tfhub.dev/google/electra_base/2',\n",
    "    'experts_pubmed':\n",
    "        'https://tfhub.dev/google/experts/bert/pubmed/2',\n",
    "    'experts_wiki_books':\n",
    "        'https://tfhub.dev/google/experts/bert/wiki_books/2',\n",
    "    'talking-heads_base':\n",
    "        'https://tfhub.dev/tensorflow/talkheads_ggelu_bert_en_base/1',\n",
    "}\n",
    "\n",
    "map_model_to_preprocess = {\n",
    "    'bert_en_uncased_L-12_H-768_A-12':\n",
    "        'https://tfhub.dev/tensorflow/bert_en_uncased_preprocess/3',\n",
    "    'bert_en_cased_L-12_H-768_A-12':\n",
    "        'https://tfhub.dev/tensorflow/bert_en_cased_preprocess/3',\n",
    "    'small_bert/bert_en_uncased_L-2_H-128_A-2':\n",
    "        'https://tfhub.dev/tensorflow/bert_en_uncased_preprocess/3',\n",
    "    'small_bert/bert_en_uncased_L-2_H-256_A-4':\n",
    "        'https://tfhub.dev/tensorflow/bert_en_uncased_preprocess/3',\n",
    "    'small_bert/bert_en_uncased_L-2_H-512_A-8':\n",
    "        'https://tfhub.dev/tensorflow/bert_en_uncased_preprocess/3',\n",
    "    'small_bert/bert_en_uncased_L-2_H-768_A-12':\n",
    "        'https://tfhub.dev/tensorflow/bert_en_uncased_preprocess/3',\n",
    "    'small_bert/bert_en_uncased_L-4_H-128_A-2':\n",
    "        'https://tfhub.dev/tensorflow/bert_en_uncased_preprocess/3',\n",
    "    'small_bert/bert_en_uncased_L-4_H-256_A-4':\n",
    "        'https://tfhub.dev/tensorflow/bert_en_uncased_preprocess/3',\n",
    "    'small_bert/bert_en_uncased_L-4_H-512_A-8':\n",
    "        'https://tfhub.dev/tensorflow/bert_en_uncased_preprocess/3',\n",
    "    'small_bert/bert_en_uncased_L-4_H-768_A-12':\n",
    "        'https://tfhub.dev/tensorflow/bert_en_uncased_preprocess/3',\n",
    "    'small_bert/bert_en_uncased_L-6_H-128_A-2':\n",
    "        'https://tfhub.dev/tensorflow/bert_en_uncased_preprocess/3',\n",
    "    'small_bert/bert_en_uncased_L-6_H-256_A-4':\n",
    "        'https://tfhub.dev/tensorflow/bert_en_uncased_preprocess/3',\n",
    "    'small_bert/bert_en_uncased_L-6_H-512_A-8':\n",
    "        'https://tfhub.dev/tensorflow/bert_en_uncased_preprocess/3',\n",
    "    'small_bert/bert_en_uncased_L-6_H-768_A-12':\n",
    "        'https://tfhub.dev/tensorflow/bert_en_uncased_preprocess/3',\n",
    "    'small_bert/bert_en_uncased_L-8_H-128_A-2':\n",
    "        'https://tfhub.dev/tensorflow/bert_en_uncased_preprocess/3',\n",
    "    'small_bert/bert_en_uncased_L-8_H-256_A-4':\n",
    "        'https://tfhub.dev/tensorflow/bert_en_uncased_preprocess/3',\n",
    "    'small_bert/bert_en_uncased_L-8_H-512_A-8':\n",
    "        'https://tfhub.dev/tensorflow/bert_en_uncased_preprocess/3',\n",
    "    'small_bert/bert_en_uncased_L-8_H-768_A-12':\n",
    "        'https://tfhub.dev/tensorflow/bert_en_uncased_preprocess/3',\n",
    "    'small_bert/bert_en_uncased_L-10_H-128_A-2':\n",
    "        'https://tfhub.dev/tensorflow/bert_en_uncased_preprocess/3',\n",
    "    'small_bert/bert_en_uncased_L-10_H-256_A-4':\n",
    "        'https://tfhub.dev/tensorflow/bert_en_uncased_preprocess/3',\n",
    "    'small_bert/bert_en_uncased_L-10_H-512_A-8':\n",
    "        'https://tfhub.dev/tensorflow/bert_en_uncased_preprocess/3',\n",
    "    'small_bert/bert_en_uncased_L-10_H-768_A-12':\n",
    "        'https://tfhub.dev/tensorflow/bert_en_uncased_preprocess/3',\n",
    "    'small_bert/bert_en_uncased_L-12_H-128_A-2':\n",
    "        'https://tfhub.dev/tensorflow/bert_en_uncased_preprocess/3',\n",
    "    'small_bert/bert_en_uncased_L-12_H-256_A-4':\n",
    "        'https://tfhub.dev/tensorflow/bert_en_uncased_preprocess/3',\n",
    "    'small_bert/bert_en_uncased_L-12_H-512_A-8':\n",
    "        'https://tfhub.dev/tensorflow/bert_en_uncased_preprocess/3',\n",
    "    'small_bert/bert_en_uncased_L-12_H-768_A-12':\n",
    "        'https://tfhub.dev/tensorflow/bert_en_uncased_preprocess/3',\n",
    "    'bert_multi_cased_L-12_H-768_A-12':\n",
    "        'https://tfhub.dev/tensorflow/bert_multi_cased_preprocess/3',\n",
    "    'albert_en_base':\n",
    "        'https://tfhub.dev/tensorflow/albert_en_preprocess/3',\n",
    "    'electra_small':\n",
    "        'https://tfhub.dev/tensorflow/bert_en_uncased_preprocess/3',\n",
    "    'electra_base':\n",
    "        'https://tfhub.dev/tensorflow/bert_en_uncased_preprocess/3',\n",
    "    'experts_pubmed':\n",
    "        'https://tfhub.dev/tensorflow/bert_en_uncased_preprocess/3',\n",
    "    'experts_wiki_books':\n",
    "        'https://tfhub.dev/tensorflow/bert_en_uncased_preprocess/3',\n",
    "    'talking-heads_base':\n",
    "        'https://tfhub.dev/tensorflow/bert_en_uncased_preprocess/3',\n",
    "}"
   ]
  },
  {
   "cell_type": "code",
   "execution_count": 12,
   "metadata": {},
   "outputs": [
    {
     "name": "stdout",
     "output_type": "stream",
     "text": [
      "BERT model selected           : https://tfhub.dev/tensorflow/small_bert/bert_en_uncased_L-4_H-512_A-8/1\n",
      "Preprocess model auto-selected: https://tfhub.dev/tensorflow/bert_en_uncased_preprocess/3\n"
     ]
    }
   ],
   "source": [
    "bert_model_name = 'small_bert/bert_en_uncased_L-4_H-512_A-8'\n",
    "\n",
    "tfhub_handle_encoder = map_name_to_handle[bert_model_name]\n",
    "tfhub_handle_preprocess = map_model_to_preprocess[bert_model_name]\n",
    "\n",
    "print(f'BERT model selected           : {tfhub_handle_encoder}')\n",
    "print(f'Preprocess model auto-selected: {tfhub_handle_preprocess}')"
   ]
  },
  {
   "cell_type": "code",
   "execution_count": 13,
   "metadata": {},
   "outputs": [],
   "source": [
    "bert_preprocess_model = hub.KerasLayer(tfhub_handle_preprocess)"
   ]
  },
  {
   "cell_type": "code",
   "execution_count": 14,
   "metadata": {},
   "outputs": [
    {
     "name": "stdout",
     "output_type": "stream",
     "text": [
      "Keys       : ['input_mask', 'input_type_ids', 'input_word_ids']\n",
      "Shape      : (1, 128)\n",
      "Word Ids   : [ 101 2023 2003 2107 2019 6429 3185  999  102    0    0    0]\n",
      "Input Mask : [1 1 1 1 1 1 1 1 1 0 0 0]\n",
      "Type Ids   : [0 0 0 0 0 0 0 0 0 0 0 0]\n"
     ]
    }
   ],
   "source": [
    "text_test = ['this is such an amazing movie!']\n",
    "text_preprocessed = bert_preprocess_model(text_test)\n",
    "\n",
    "print(f'Keys       : {list(text_preprocessed.keys())}')\n",
    "print(f'Shape      : {text_preprocessed[\"input_word_ids\"].shape}')\n",
    "print(f'Word Ids   : {text_preprocessed[\"input_word_ids\"][0, :12]}')\n",
    "print(f'Input Mask : {text_preprocessed[\"input_mask\"][0, :12]}')\n",
    "print(f'Type Ids   : {text_preprocessed[\"input_type_ids\"][0, :12]}')"
   ]
  },
  {
   "cell_type": "code",
   "execution_count": 15,
   "metadata": {},
   "outputs": [],
   "source": [
    "bert_model = hub.KerasLayer(tfhub_handle_encoder)"
   ]
  },
  {
   "cell_type": "code",
   "execution_count": 16,
   "metadata": {},
   "outputs": [
    {
     "name": "stdout",
     "output_type": "stream",
     "text": [
      "Loaded BERT: https://tfhub.dev/tensorflow/small_bert/bert_en_uncased_L-4_H-512_A-8/1\n",
      "Pooled Outputs Shape:(1, 512)\n",
      "Pooled Outputs Values:[ 0.76262885  0.99280983 -0.18611872  0.3667386   0.15233792  0.65504557\n",
      "  0.9681154  -0.948627    0.00216077 -0.9877732   0.06842785 -0.9763061 ]\n",
      "Sequence Outputs Shape:(1, 128, 512)\n",
      "Sequence Outputs Values:[[-0.28946352  0.34321296  0.3323149  ...  0.2130083   0.71020764\n",
      "  -0.05771133]\n",
      " [-0.2874205   0.31981108 -0.2301845  ...  0.5845506  -0.2132971\n",
      "   0.7269202 ]\n",
      " [-0.6615705   0.6887687  -0.8743301  ...  0.10877223 -0.26173192\n",
      "   0.47855487]\n",
      " ...\n",
      " [-0.22561216 -0.2892565  -0.07064489 ...  0.4756605   0.832772\n",
      "   0.40025362]\n",
      " [-0.2982421  -0.2747309  -0.05450581 ...  0.48849702  1.095536\n",
      "   0.18163332]\n",
      " [-0.44378197  0.00930689  0.07223699 ...  0.17290227  1.1833242\n",
      "   0.07898021]]\n"
     ]
    }
   ],
   "source": [
    "bert_results = bert_model(text_preprocessed)\n",
    "\n",
    "print(f'Loaded BERT: {tfhub_handle_encoder}')\n",
    "print(f'Pooled Outputs Shape:{bert_results[\"pooled_output\"].shape}')\n",
    "print(f'Pooled Outputs Values:{bert_results[\"pooled_output\"][0, :12]}')\n",
    "print(f'Sequence Outputs Shape:{bert_results[\"sequence_output\"].shape}')\n",
    "print(f'Sequence Outputs Values:{bert_results[\"sequence_output\"][0, :12]}')"
   ]
  },
  {
   "cell_type": "code",
   "execution_count": 17,
   "metadata": {},
   "outputs": [
    {
     "name": "stdout",
     "output_type": "stream",
     "text": [
      "In layer  word_embeddings/embeddings:0\n",
      "In layer  position_embedding/embeddings:0\n",
      "In layer  type_embeddings/embeddings:0\n",
      "In layer  embeddings/layer_norm/gamma:0\n",
      "In layer  embeddings/layer_norm/beta:0\n",
      "In layer  transformer/layer_0/self_attention/query/kernel:0\n",
      "In layer  transformer/layer_0/self_attention/query/bias:0\n",
      "In layer  transformer/layer_0/self_attention/key/kernel:0\n",
      "In layer  transformer/layer_0/self_attention/key/bias:0\n",
      "In layer  transformer/layer_0/self_attention/value/kernel:0\n",
      "In layer  transformer/layer_0/self_attention/value/bias:0\n",
      "In layer  transformer/layer_0/self_attention/attention_output/kernel:0\n",
      "In layer  transformer/layer_0/self_attention/attention_output/bias:0\n",
      "In layer  transformer/layer_0/self_attention_layer_norm/gamma:0\n",
      "In layer  transformer/layer_0/self_attention_layer_norm/beta:0\n",
      "In layer  transformer/layer_0/intermediate/kernel:0\n",
      "In layer  transformer/layer_0/intermediate/bias:0\n",
      "In layer  transformer/layer_0/output/kernel:0\n",
      "In layer  transformer/layer_0/output/bias:0\n",
      "In layer  transformer/layer_0/output_layer_norm/gamma:0\n",
      "In layer  transformer/layer_0/output_layer_norm/beta:0\n",
      "In layer  transformer/layer_1/self_attention/query/kernel:0\n",
      "In layer  transformer/layer_1/self_attention/query/bias:0\n",
      "In layer  transformer/layer_1/self_attention/key/kernel:0\n",
      "In layer  transformer/layer_1/self_attention/key/bias:0\n",
      "In layer  transformer/layer_1/self_attention/value/kernel:0\n",
      "In layer  transformer/layer_1/self_attention/value/bias:0\n",
      "In layer  transformer/layer_1/self_attention/attention_output/kernel:0\n",
      "In layer  transformer/layer_1/self_attention/attention_output/bias:0\n",
      "In layer  transformer/layer_1/self_attention_layer_norm/gamma:0\n",
      "In layer  transformer/layer_1/self_attention_layer_norm/beta:0\n",
      "In layer  transformer/layer_1/intermediate/kernel:0\n",
      "In layer  transformer/layer_1/intermediate/bias:0\n",
      "In layer  transformer/layer_1/output/kernel:0\n",
      "In layer  transformer/layer_1/output/bias:0\n",
      "In layer  transformer/layer_1/output_layer_norm/gamma:0\n",
      "In layer  transformer/layer_1/output_layer_norm/beta:0\n",
      "In layer  transformer/layer_2/self_attention/query/kernel:0\n",
      "In layer  transformer/layer_2/self_attention/query/bias:0\n",
      "In layer  transformer/layer_2/self_attention/key/kernel:0\n",
      "In layer  transformer/layer_2/self_attention/key/bias:0\n",
      "In layer  transformer/layer_2/self_attention/value/kernel:0\n",
      "In layer  transformer/layer_2/self_attention/value/bias:0\n",
      "In layer  transformer/layer_2/self_attention/attention_output/kernel:0\n",
      "In layer  transformer/layer_2/self_attention/attention_output/bias:0\n",
      "In layer  transformer/layer_2/self_attention_layer_norm/gamma:0\n",
      "In layer  transformer/layer_2/self_attention_layer_norm/beta:0\n",
      "In layer  transformer/layer_2/intermediate/kernel:0\n",
      "In layer  transformer/layer_2/intermediate/bias:0\n",
      "In layer  transformer/layer_2/output/kernel:0\n",
      "In layer  transformer/layer_2/output/bias:0\n",
      "In layer  transformer/layer_2/output_layer_norm/gamma:0\n",
      "In layer  transformer/layer_2/output_layer_norm/beta:0\n",
      "In layer  transformer/layer_3/self_attention/query/kernel:0\n",
      "In layer  transformer/layer_3/self_attention/query/bias:0\n",
      "In layer  transformer/layer_3/self_attention/key/kernel:0\n",
      "In layer  transformer/layer_3/self_attention/key/bias:0\n",
      "In layer  transformer/layer_3/self_attention/value/kernel:0\n",
      "In layer  transformer/layer_3/self_attention/value/bias:0\n",
      "In layer  transformer/layer_3/self_attention/attention_output/kernel:0\n",
      "In layer  transformer/layer_3/self_attention/attention_output/bias:0\n",
      "In layer  transformer/layer_3/self_attention_layer_norm/gamma:0\n",
      "In layer  transformer/layer_3/self_attention_layer_norm/beta:0\n",
      "In layer  transformer/layer_3/intermediate/kernel:0\n",
      "In layer  transformer/layer_3/intermediate/bias:0\n",
      "In layer  transformer/layer_3/output/kernel:0\n",
      "In layer  transformer/layer_3/output/bias:0\n",
      "In layer  transformer/layer_3/output_layer_norm/gamma:0\n",
      "In layer  transformer/layer_3/output_layer_norm/beta:0\n",
      "In layer  pooler_transform/kernel:0\n",
      "In layer  pooler_transform/bias:0\n",
      "In layer  Variable:0\n"
     ]
    }
   ],
   "source": [
    "for i in range(len(bert_model.weights)):\n",
    "    print(\"In layer \", bert_model.weights[i].name)"
   ]
  },
  {
   "cell_type": "code",
   "execution_count": 19,
   "metadata": {},
   "outputs": [],
   "source": [
    "# build classifier model\n",
    "\n",
    "text_input = tf.keras.layers.Input(shape=(), dtype=tf.string, name='text')\n",
    "\n",
    "preprocessing_layer = hub.KerasLayer(tfhub_handle_preprocess, name='preprocessing')\n",
    "encoder_inputs = preprocessing_layer(text_input)\n",
    "encoder = hub.KerasLayer(tfhub_handle_encoder, trainable=True, name='BERT_encoder')\n",
    "outputs = encoder(encoder_inputs)\n",
    "net = outputs['pooled_output']\n",
    "net = tf.keras.layers.Dropout(0.1)(net)\n",
    "net = tf.keras.layers.Dense(7, activation='softmax', name='classifier')(net)\n",
    "\n",
    "classifier_model =  tf.keras.Model(text_input, net)\n"
   ]
  },
  {
   "cell_type": "code",
   "execution_count": 20,
   "metadata": {},
   "outputs": [
    {
     "name": "stdout",
     "output_type": "stream",
     "text": [
      "Model: \"model_1\"\n",
      "__________________________________________________________________________________________________\n",
      " Layer (type)                   Output Shape         Param #     Connected to                     \n",
      "==================================================================================================\n",
      " text (InputLayer)              [(None,)]            0           []                               \n",
      "                                                                                                  \n",
      " preprocessing (KerasLayer)     {'input_mask': (Non  0           ['text[0][0]']                   \n",
      "                                e, 128),                                                          \n",
      "                                 'input_type_ids':                                                \n",
      "                                (None, 128),                                                      \n",
      "                                 'input_word_ids':                                                \n",
      "                                (None, 128)}                                                      \n",
      "                                                                                                  \n",
      " BERT_encoder (KerasLayer)      {'default': (None,   28763649    ['preprocessing[0][0]',          \n",
      "                                512),                             'preprocessing[0][1]',          \n",
      "                                 'encoder_outputs':               'preprocessing[0][2]']          \n",
      "                                 [(None, 128, 512),                                               \n",
      "                                 (None, 128, 512),                                                \n",
      "                                 (None, 128, 512),                                                \n",
      "                                 (None, 128, 512)],                                               \n",
      "                                 'pooled_output': (                                               \n",
      "                                None, 512),                                                       \n",
      "                                 'sequence_output':                                               \n",
      "                                 (None, 128, 512)}                                                \n",
      "                                                                                                  \n",
      " dropout_1 (Dropout)            (None, 512)          0           ['BERT_encoder[0][5]']           \n",
      "                                                                                                  \n",
      " classifier (Dense)             (None, 7)            3591        ['dropout_1[0][0]']              \n",
      "                                                                                                  \n",
      "==================================================================================================\n",
      "Total params: 28,767,240\n",
      "Trainable params: 28,767,239\n",
      "Non-trainable params: 1\n",
      "__________________________________________________________________________________________________\n"
     ]
    }
   ],
   "source": [
    "classifier_model.summary()"
   ]
  },
  {
   "cell_type": "code",
   "execution_count": 21,
   "metadata": {},
   "outputs": [
    {
     "data": {
      "image/png": "[encoded data removed]",
      "text/plain": [
       "<IPython.core.display.Image object>"
      ]
     },
     "execution_count": 21,
     "metadata": {},
     "output_type": "execute_result"
    }
   ],
   "source": [
    "tf.keras.utils.plot_model(classifier_model)"
   ]
  },
  {
   "cell_type": "code",
   "execution_count": 22,
   "metadata": {},
   "outputs": [
    {
     "name": "stdout",
     "output_type": "stream",
     "text": [
      "['this is such an amazing movie!']\n",
      "tf.Tensor(\n",
      "[[0.5418708  0.51619184 0.5461518  0.5413611  0.51992255 0.5327994\n",
      "  0.5511348 ]], shape=(1, 7), dtype=float32)\n"
     ]
    }
   ],
   "source": [
    "print(text_test)\n",
    "bert_raw_result = classifier_model(tf.constant(text_test))\n",
    "print(tf.sigmoid(bert_raw_result))"
   ]
  },
  {
   "cell_type": "code",
   "execution_count": 27,
   "metadata": {},
   "outputs": [],
   "source": [
    "loss = tf.keras.losses.CategoricalCrossentropy(from_logits=True)\n",
    "metrics = tf.metrics.CategoricalAccuracy()"
   ]
  },
  {
   "cell_type": "code",
   "execution_count": 28,
   "metadata": {},
   "outputs": [],
   "source": [
    "epochs = 5\n",
    "steps_per_epoch = tf.data.experimental.cardinality(train_ds).numpy()\n",
    "num_train_steps = steps_per_epoch * epochs\n",
    "num_warmup_steps = int(0.1*num_train_steps)\n",
    "\n",
    "init_lr = 3e-5\n",
    "optimizer = optimization.create_optimizer(init_lr=init_lr,\n",
    "                                          num_train_steps=num_train_steps,\n",
    "                                          num_warmup_steps=num_warmup_steps,\n",
    "                                          optimizer_type='adamw')"
   ]
  },
  {
   "cell_type": "code",
   "execution_count": 29,
   "metadata": {},
   "outputs": [],
   "source": [
    "classifier_model.compile(optimizer=optimizer,\n",
    "                         loss=loss,\n",
    "                         metrics=metrics)\n",
    "\n",
    "print(f'Training model with {tfhub_handle_encoder}')"
   ]
  },
  {
   "cell_type": "code",
   "execution_count": 30,
   "metadata": {},
   "outputs": [
    {
     "name": "stdout",
     "output_type": "stream",
     "text": [
      "Training model with https://tfhub.dev/tensorflow/small_bert/bert_en_uncased_L-4_H-512_A-8/1\n",
      "Epoch 1/5\n"
     ]
    },
    {
     "ename": "ValueError",
     "evalue": "in user code:\n\n    File \"C:\\Users\\lpdepersiis\\Anaconda3\\lib\\site-packages\\keras\\engine\\training.py\", line 1021, in train_function  *\n        return step_function(self, iterator)\n    File \"C:\\Users\\lpdepersiis\\Anaconda3\\lib\\site-packages\\keras\\engine\\training.py\", line 1010, in step_function  **\n        outputs = model.distribute_strategy.run(run_step, args=(data,))\n    File \"C:\\Users\\lpdepersiis\\Anaconda3\\lib\\site-packages\\keras\\engine\\training.py\", line 1000, in run_step  **\n        outputs = model.train_step(data)\n    File \"C:\\Users\\lpdepersiis\\Anaconda3\\lib\\site-packages\\keras\\engine\\training.py\", line 860, in train_step\n        loss = self.compute_loss(x, y, y_pred, sample_weight)\n    File \"C:\\Users\\lpdepersiis\\Anaconda3\\lib\\site-packages\\keras\\engine\\training.py\", line 918, in compute_loss\n        return self.compiled_loss(\n    File \"C:\\Users\\lpdepersiis\\Anaconda3\\lib\\site-packages\\keras\\engine\\compile_utils.py\", line 201, in __call__\n        loss_value = loss_obj(y_t, y_p, sample_weight=sw)\n    File \"C:\\Users\\lpdepersiis\\Anaconda3\\lib\\site-packages\\keras\\losses.py\", line 141, in __call__\n        losses = call_fn(y_true, y_pred)\n    File \"C:\\Users\\lpdepersiis\\Anaconda3\\lib\\site-packages\\keras\\losses.py\", line 245, in call  **\n        return ag_fn(y_true, y_pred, **self._fn_kwargs)\n    File \"C:\\Users\\lpdepersiis\\Anaconda3\\lib\\site-packages\\keras\\losses.py\", line 1789, in categorical_crossentropy\n        return backend.categorical_crossentropy(\n    File \"C:\\Users\\lpdepersiis\\Anaconda3\\lib\\site-packages\\keras\\backend.py\", line 5083, in categorical_crossentropy\n        target.shape.assert_is_compatible_with(output.shape)\n\n    ValueError: Shapes (None, 1) and (None, 7) are incompatible\n",
     "output_type": "error",
     "traceback": [
      "\u001b[1;31m---------------------------------------------------------------------------\u001b[0m",
      "\u001b[1;31mValueError\u001b[0m                                Traceback (most recent call last)",
      "\u001b[1;32m<ipython-input-30-6850c1f65b55>\u001b[0m in \u001b[0;36m<module>\u001b[1;34m\u001b[0m\n\u001b[0;32m      1\u001b[0m \u001b[0mprint\u001b[0m\u001b[1;33m(\u001b[0m\u001b[1;34mf'Training model with {tfhub_handle_encoder}'\u001b[0m\u001b[1;33m)\u001b[0m\u001b[1;33m\u001b[0m\u001b[1;33m\u001b[0m\u001b[0m\n\u001b[0;32m      2\u001b[0m \u001b[1;32mwith\u001b[0m \u001b[0mtf\u001b[0m\u001b[1;33m.\u001b[0m\u001b[0mdevice\u001b[0m\u001b[1;33m(\u001b[0m\u001b[1;34m\"/cpu:0\"\u001b[0m\u001b[1;33m)\u001b[0m\u001b[1;33m:\u001b[0m\u001b[1;33m\u001b[0m\u001b[1;33m\u001b[0m\u001b[0m\n\u001b[1;32m----> 3\u001b[1;33m     history = classifier_model.fit(x=train_ds,\n\u001b[0m\u001b[0;32m      4\u001b[0m                                    \u001b[0mvalidation_data\u001b[0m\u001b[1;33m=\u001b[0m\u001b[0mval_ds\u001b[0m\u001b[1;33m,\u001b[0m\u001b[1;33m\u001b[0m\u001b[1;33m\u001b[0m\u001b[0m\n\u001b[0;32m      5\u001b[0m                                    epochs=epochs)\n",
      "\u001b[1;32m~\\Anaconda3\\lib\\site-packages\\keras\\utils\\traceback_utils.py\u001b[0m in \u001b[0;36merror_handler\u001b[1;34m(*args, **kwargs)\u001b[0m\n\u001b[0;32m     65\u001b[0m     \u001b[1;32mexcept\u001b[0m \u001b[0mException\u001b[0m \u001b[1;32mas\u001b[0m \u001b[0me\u001b[0m\u001b[1;33m:\u001b[0m  \u001b[1;31m# pylint: disable=broad-except\u001b[0m\u001b[1;33m\u001b[0m\u001b[1;33m\u001b[0m\u001b[0m\n\u001b[0;32m     66\u001b[0m       \u001b[0mfiltered_tb\u001b[0m \u001b[1;33m=\u001b[0m \u001b[0m_process_traceback_frames\u001b[0m\u001b[1;33m(\u001b[0m\u001b[0me\u001b[0m\u001b[1;33m.\u001b[0m\u001b[0m__traceback__\u001b[0m\u001b[1;33m)\u001b[0m\u001b[1;33m\u001b[0m\u001b[1;33m\u001b[0m\u001b[0m\n\u001b[1;32m---> 67\u001b[1;33m       \u001b[1;32mraise\u001b[0m \u001b[0me\u001b[0m\u001b[1;33m.\u001b[0m\u001b[0mwith_traceback\u001b[0m\u001b[1;33m(\u001b[0m\u001b[0mfiltered_tb\u001b[0m\u001b[1;33m)\u001b[0m \u001b[1;32mfrom\u001b[0m \u001b[1;32mNone\u001b[0m\u001b[1;33m\u001b[0m\u001b[1;33m\u001b[0m\u001b[0m\n\u001b[0m\u001b[0;32m     68\u001b[0m     \u001b[1;32mfinally\u001b[0m\u001b[1;33m:\u001b[0m\u001b[1;33m\u001b[0m\u001b[1;33m\u001b[0m\u001b[0m\n\u001b[0;32m     69\u001b[0m       \u001b[1;32mdel\u001b[0m \u001b[0mfiltered_tb\u001b[0m\u001b[1;33m\u001b[0m\u001b[1;33m\u001b[0m\u001b[0m\n",
      "\u001b[1;32m~\\Anaconda3\\lib\\site-packages\\tensorflow\\python\\framework\\func_graph.py\u001b[0m in \u001b[0;36mautograph_handler\u001b[1;34m(*args, **kwargs)\u001b[0m\n\u001b[0;32m   1145\u001b[0m           \u001b[1;32mexcept\u001b[0m \u001b[0mException\u001b[0m \u001b[1;32mas\u001b[0m \u001b[0me\u001b[0m\u001b[1;33m:\u001b[0m  \u001b[1;31m# pylint:disable=broad-except\u001b[0m\u001b[1;33m\u001b[0m\u001b[1;33m\u001b[0m\u001b[0m\n\u001b[0;32m   1146\u001b[0m             \u001b[1;32mif\u001b[0m \u001b[0mhasattr\u001b[0m\u001b[1;33m(\u001b[0m\u001b[0me\u001b[0m\u001b[1;33m,\u001b[0m \u001b[1;34m\"ag_error_metadata\"\u001b[0m\u001b[1;33m)\u001b[0m\u001b[1;33m:\u001b[0m\u001b[1;33m\u001b[0m\u001b[1;33m\u001b[0m\u001b[0m\n\u001b[1;32m-> 1147\u001b[1;33m               \u001b[1;32mraise\u001b[0m \u001b[0me\u001b[0m\u001b[1;33m.\u001b[0m\u001b[0mag_error_metadata\u001b[0m\u001b[1;33m.\u001b[0m\u001b[0mto_exception\u001b[0m\u001b[1;33m(\u001b[0m\u001b[0me\u001b[0m\u001b[1;33m)\u001b[0m\u001b[1;33m\u001b[0m\u001b[1;33m\u001b[0m\u001b[0m\n\u001b[0m\u001b[0;32m   1148\u001b[0m             \u001b[1;32melse\u001b[0m\u001b[1;33m:\u001b[0m\u001b[1;33m\u001b[0m\u001b[1;33m\u001b[0m\u001b[0m\n\u001b[0;32m   1149\u001b[0m               \u001b[1;32mraise\u001b[0m\u001b[1;33m\u001b[0m\u001b[1;33m\u001b[0m\u001b[0m\n",
      "\u001b[1;31mValueError\u001b[0m: in user code:\n\n    File \"C:\\Users\\lpdepersiis\\Anaconda3\\lib\\site-packages\\keras\\engine\\training.py\", line 1021, in train_function  *\n        return step_function(self, iterator)\n    File \"C:\\Users\\lpdepersiis\\Anaconda3\\lib\\site-packages\\keras\\engine\\training.py\", line 1010, in step_function  **\n        outputs = model.distribute_strategy.run(run_step, args=(data,))\n    File \"C:\\Users\\lpdepersiis\\Anaconda3\\lib\\site-packages\\keras\\engine\\training.py\", line 1000, in run_step  **\n        outputs = model.train_step(data)\n    File \"C:\\Users\\lpdepersiis\\Anaconda3\\lib\\site-packages\\keras\\engine\\training.py\", line 860, in train_step\n        loss = self.compute_loss(x, y, y_pred, sample_weight)\n    File \"C:\\Users\\lpdepersiis\\Anaconda3\\lib\\site-packages\\keras\\engine\\training.py\", line 918, in compute_loss\n        return self.compiled_loss(\n    File \"C:\\Users\\lpdepersiis\\Anaconda3\\lib\\site-packages\\keras\\engine\\compile_utils.py\", line 201, in __call__\n        loss_value = loss_obj(y_t, y_p, sample_weight=sw)\n    File \"C:\\Users\\lpdepersiis\\Anaconda3\\lib\\site-packages\\keras\\losses.py\", line 141, in __call__\n        losses = call_fn(y_true, y_pred)\n    File \"C:\\Users\\lpdepersiis\\Anaconda3\\lib\\site-packages\\keras\\losses.py\", line 245, in call  **\n        return ag_fn(y_true, y_pred, **self._fn_kwargs)\n    File \"C:\\Users\\lpdepersiis\\Anaconda3\\lib\\site-packages\\keras\\losses.py\", line 1789, in categorical_crossentropy\n        return backend.categorical_crossentropy(\n    File \"C:\\Users\\lpdepersiis\\Anaconda3\\lib\\site-packages\\keras\\backend.py\", line 5083, in categorical_crossentropy\n        target.shape.assert_is_compatible_with(output.shape)\n\n    ValueError: Shapes (None, 1) and (None, 7) are incompatible\n"
     ]
    }
   ],
   "source": [
    "print(f'Training model with {tfhub_handle_encoder}')\n"
   ]
  },
  {
   "cell_type": "code",
   "execution_count": 49,
   "metadata": {},
   "outputs": [
    {
     "name": "stdout",
     "output_type": "stream",
     "text": [
      "Epoch 1/5\n",
      "625/625 [==============================] - 5814s 9s/step - loss: 0.1359 - binary_accuracy: 0.9488 - val_loss: 0.4729 - val_binary_accuracy: 0.8524\n",
      "Epoch 2/5\n",
      "625/625 [==============================] - 5782s 9s/step - loss: 0.1367 - binary_accuracy: 0.9474 - val_loss: 0.4729 - val_binary_accuracy: 0.8524\n",
      "Epoch 3/5\n",
      "625/625 [==============================] - 8176s 13s/step - loss: 0.1380 - binary_accuracy: 0.9473 - val_loss: 0.4729 - val_binary_accuracy: 0.8524\n",
      "Epoch 4/5\n",
      "625/625 [==============================] - 6083s 10s/step - loss: 0.1365 - binary_accuracy: 0.9495 - val_loss: 0.4729 - val_binary_accuracy: 0.8524\n",
      "Epoch 5/5\n",
      "625/625 [==============================] - 5788s 9s/step - loss: 0.1375 - binary_accuracy: 0.9498 - val_loss: 0.4729 - val_binary_accuracy: 0.8524\n"
     ]
    }
   ],
   "source": [
    "\n",
    "with tf.device(\"/cpu:0\"):\n",
    "    history = classifier_model.fit(x=train_ds,\n",
    "                                   validation_data=val_ds,\n",
    "                                   epochs=epochs)"
   ]
  },
  {
   "cell_type": "code",
   "execution_count": null,
   "metadata": {},
   "outputs": [],
   "source": []
  }
 ],
 "metadata": {
  "kernelspec": {
   "display_name": "Python 3",
   "language": "python",
   "name": "python3"
  },
  "language_info": {
   "codemirror_mode": {
    "name": "ipython",
    "version": 3
   },
   "file_extension": ".py",
   "mimetype": "text/x-python",
   "name": "python",
   "nbconvert_exporter": "python",
   "pygments_lexer": "ipython3",
   "version": "3.8.5"
  }
 },
 "nbformat": 4,
 "nbformat_minor": 4
}
