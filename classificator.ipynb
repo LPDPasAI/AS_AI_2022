{
 "cells": [
  {
   "cell_type": "markdown",
   "metadata": {},
   "source": [
    "# Text Classifiers"
   ]
  },
  {
   "cell_type": "code",
   "execution_count": 2,
   "metadata": {},
   "outputs": [],
   "source": [
    "from tensorflow.keras.preprocessing.text import Tokenizer\n",
    "import ipynb\n",
    "from ipynb.fs.defs.data_collect_preprocessing1 import get_x_y_preprocessed\n",
    "import numpy as np"
   ]
  },
  {
   "cell_type": "code",
   "execution_count": 3,
   "metadata": {},
   "outputs": [],
   "source": [
    "MY_EMBEDDING_PATH = \"C:\\\\Users\\\\lpdepersiis\\\\PycharmProjects\\\\autoencoderNlp\\\\embedding\\\\en\\\\glove\\\\\"\n"
   ]
  },
  {
   "cell_type": "code",
   "execution_count": 4,
   "metadata": {},
   "outputs": [],
   "source": [
    "x_rec, y_rec = get_x_y_preprocessed(\"dataset_cat\")"
   ]
  },
  {
   "cell_type": "code",
   "execution_count": 5,
   "metadata": {},
   "outputs": [
    {
     "name": "stdout",
     "output_type": "stream",
     "text": [
      "(3449, 7)\n"
     ]
    }
   ],
   "source": [
    "print(y_rec.shape)"
   ]
  },
  {
   "cell_type": "code",
   "execution_count": 6,
   "metadata": {},
   "outputs": [],
   "source": [
    "tokenizer = Tokenizer()"
   ]
  },
  {
   "cell_type": "code",
   "execution_count": 7,
   "metadata": {},
   "outputs": [],
   "source": [
    "tokenizer.fit_on_texts(x_rec)"
   ]
  },
  {
   "cell_type": "code",
   "execution_count": 8,
   "metadata": {},
   "outputs": [],
   "source": [
    "word_index = tokenizer.word_index"
   ]
  },
  {
   "cell_type": "code",
   "execution_count": 9,
   "metadata": {},
   "outputs": [
    {
     "data": {
      "text/plain": [
       "23"
      ]
     },
     "execution_count": 9,
     "metadata": {},
     "output_type": "execute_result"
    }
   ],
   "source": [
    "word_index[\"sport\"]"
   ]
  },
  {
   "cell_type": "code",
   "execution_count": 10,
   "metadata": {},
   "outputs": [
    {
     "name": "stdout",
     "output_type": "stream",
     "text": [
      "<class 'dict'>\n"
     ]
    }
   ],
   "source": [
    "print(type(word_index))"
   ]
  },
  {
   "cell_type": "code",
   "execution_count": 11,
   "metadata": {},
   "outputs": [
    {
     "name": "stdout",
     "output_type": "stream",
     "text": [
      "40977\n"
     ]
    }
   ],
   "source": [
    "print(len(word_index.keys()))"
   ]
  },
  {
   "cell_type": "code",
   "execution_count": 13,
   "metadata": {},
   "outputs": [],
   "source": []
  },
  {
   "cell_type": "code",
   "execution_count": 12,
   "metadata": {},
   "outputs": [],
   "source": [
    "def get_word_matrix():\n",
    "    \"\"\"\n",
    "    Questa funzione ci serve per crearci un dizionario avente come indice la parola e come valore il vettore dell'embedding corrispondente\n",
    "    \"\"\"\n",
    "    word_matrix = {}\n",
    "    with open(MY_EMBEDDING_PATH + 'glove.6B.100d.txt', 'r', encoding='UTF-8') as file_emb:\n",
    "        for row in file_emb: # leggo ogni riga del file di testo contenente l'embedding\n",
    "            row = row.split() # la divido nei suoi elementi\n",
    "            word_matrix[row[0]] = np.array(row[1:], dtype='float32') # il primo è la parola e sarà l'indice di questa voce, gli altri andranno a formare il vettore \n",
    "    return word_matrix"
   ]
  },
  {
   "cell_type": "markdown",
   "metadata": {},
   "source": [
    "##### proviamo se il dizionario è come ci aspettiamo"
   ]
  },
  {
   "cell_type": "code",
   "execution_count": 13,
   "metadata": {},
   "outputs": [],
   "source": [
    "word_matrix = get_word_matrix()\n"
   ]
  },
  {
   "cell_type": "code",
   "execution_count": 14,
   "metadata": {},
   "outputs": [
    {
     "data": {
      "text/plain": [
       "array([-0.18867  , -0.040943 ,  0.58878  ,  0.11062  ,  0.14236  ,\n",
       "        0.4885   , -0.31832  ,  0.53819  , -0.018549 ,  0.029687 ,\n",
       "        0.30299  , -0.16522  , -0.18896  ,  0.5148   , -0.79405  ,\n",
       "        0.26409  ,  0.027747 ,  0.041163 , -0.49378  , -0.14263  ,\n",
       "        0.29017  , -0.25369  ,  0.70559  , -1.0501   , -0.49344  ,\n",
       "       -0.37148  , -0.85796  , -0.55158  , -0.60251  , -0.0099676,\n",
       "        0.8725   ,  0.12149  ,  0.551    ,  0.49924  , -0.3088   ,\n",
       "        1.1067   , -0.15494  , -0.29923  ,  0.91149  ,  0.19859  ,\n",
       "       -0.73946  , -1.0182   ,  0.37208  , -0.10043  ,  0.13537  ,\n",
       "       -0.52687  , -0.60437  , -0.15906  ,  0.49283  , -0.61386  ,\n",
       "        0.046815 , -0.88806  ,  0.60229  ,  0.72199  , -0.4316   ,\n",
       "       -3.0706   , -0.11233  , -0.45713  ,  0.95737  ,  0.59174  ,\n",
       "       -0.17124  ,  0.65746  ,  0.44741  ,  0.6101   ,  1.0216   ,\n",
       "       -0.2458   ,  0.90191  ,  0.78319  ,  0.28272  , -0.4539   ,\n",
       "        0.16309  , -0.0078932, -0.27714  , -0.87249  , -0.19716  ,\n",
       "       -0.076285 , -0.28422  , -0.089584 , -1.3132   ,  0.16372  ,\n",
       "       -0.25441  , -0.076529 ,  0.44458  , -0.17525  , -0.74084  ,\n",
       "       -0.25415  ,  0.52886  , -0.46958  ,  0.16487  , -0.57443  ,\n",
       "        0.47239  , -0.52798  ,  0.65184  ,  0.803    , -0.93156  ,\n",
       "       -0.055967 ,  0.26932  ,  0.16221  ,  1.1238   , -0.4168   ],\n",
       "      dtype=float32)"
      ]
     },
     "execution_count": 14,
     "metadata": {},
     "output_type": "execute_result"
    }
   ],
   "source": [
    "word_matrix[\"house\"]  "
   ]
  },
  {
   "cell_type": "markdown",
   "metadata": {},
   "source": [
    "##### ora abbiamo l'indice ottenuto tramite Tokenizer dai nostri testi ed abbiamo un dizionario che fa corrispondere ad ogni parola il vettore corrispondente dell'embedding GloVe, dobbiamo creare una matrice in cui le righe siano nello stesso ordine dell'indice ottenuto dal tokenizer e che contenga solo quei vettori (più lo 0 che è lasciato con un vettore di zeri per essere usato ad indicare l'assenza di una parola)"
   ]
  },
  {
   "cell_type": "code",
   "execution_count": null,
   "metadata": {},
   "outputs": [],
   "source": []
  },
  {
   "cell_type": "markdown",
   "metadata": {},
   "source": [
    "###### aggiungo qui la costante relativa alla dimensione dei vettori dell'embedding, perché non si perda la consequenzialità, ma andrebbe messa sopra insieme alle altre variabili (la stessa già impostata nell'altro file)"
   ]
  },
  {
   "cell_type": "code",
   "execution_count": 15,
   "metadata": {},
   "outputs": [],
   "source": [
    "EMBEDDING_DIM = 100"
   ]
  },
  {
   "cell_type": "markdown",
   "metadata": {},
   "source": [
    "##### Recuperiamo anche la costante relativa alla lunghezza delle frasi"
   ]
  },
  {
   "cell_type": "code",
   "execution_count": 16,
   "metadata": {},
   "outputs": [],
   "source": [
    "SENTENCE_LENGTH = 80"
   ]
  },
  {
   "cell_type": "code",
   "execution_count": 18,
   "metadata": {},
   "outputs": [],
   "source": [
    "def get_embedding_matrix(embeddings_index, word_index, dim_embeddings=EMBEDDING_DIM):\n",
    "    \"\"\"\n",
    "    Tramite questa funzione creiamo una matrice in cui le righe siano nello stesso ordine dell'indice ottenuto dal tokenizer \n",
    "    e che contenga solo i vettori relativi alle parole in esso contenute\n",
    "    \n",
    "    :param embeddings_index: il dizionario, ottenuto dall'embedding, avente le parole come indice ed i vettori come valore\n",
    "    :param word_index:  il dizionario ottenuto dal tokenizer avente come indice la parola e come valore il suo indice\n",
    "    :param dim_embeddings: la lunghezza dei vettori dell'embedding che stiamo utilizzando\n",
    "    :return: la matrice dei vettori dell'embedding ordinata come il nostro indice\n",
    "\n",
    "    \"\"\"\n",
    "    embedding_matrix = np.zeros((len(word_index) + 1, dim_embeddings))  # creiamo la matrice di zeri avente tante righe quante sono le parole (più una) e tante colonne quante sono quelle dei vettori\n",
    "    print(embedding_matrix.shape)\n",
    "    for word in word_index.keys():  # Scorriamo le parole dell'indice del tokenizer\n",
    "        embedding_vector = embeddings_index.get(word)  # estraiamo il vettore corrispondente\n",
    "        if embedding_vector is not None:  # verifichiamo che esista (anche se il nostro dizionario è più piccolo di quello dell'embedding potrebbe contenere parolo non presenti in esso)\n",
    "            # se la parola è presente andiamo avanti (se non è presente, in corrispondenza di questo indice, rimarrà il vettore formato da zeri)\n",
    "            embedding_matrix[word_index[word]] = embedding_vector  # impostiamo nella matrice quella riga con il vettore corrispondente alla parola\n",
    "    \n",
    "    return embedding_matrix"
   ]
  },
  {
   "cell_type": "markdown",
   "metadata": {},
   "source": [
    "###### ora abbiamo tutti gli elementi per fare lo strato di tipo Embedding che sarà il primo della nostra rete, possiamo scrivere una funzione che lo valorizzi nel modo corretto\n"
   ]
  },
  {
   "cell_type": "code",
   "execution_count": 19,
   "metadata": {},
   "outputs": [
    {
     "name": "stdout",
     "output_type": "stream",
     "text": [
      "(40978, 100)\n"
     ]
    }
   ],
   "source": [
    "embedding_matrix = get_embedding_matrix(word_matrix, tokenizer.word_index)"
   ]
  },
  {
   "cell_type": "code",
   "execution_count": 20,
   "metadata": {},
   "outputs": [],
   "source": [
    "def get_embedding_layer(embedding_matrix, input_length=SENTENCE_LENGTH, trainable=False):\n",
    "    \"\"\"\n",
    "     Instanzia lo strato di tipo Embedding\n",
    "\n",
    "    :param embedding_matrix: Il dizionario ottenuto dall'embedding avente le parole come indice e il vettore come valore\n",
    "    :param input_length: La lunghezza delle frasi che saranno passate come input\n",
    "    \n",
    "    :return: lo strato di tipo Embedding\n",
    "    \"\"\"\n",
    "\n",
    "    embedding_layer = Embedding(  # Creiamo un'istanza del layer di tipo Embedding ed impostiamo i parametri indispensabili e quelli necessari per le nostre esigenze\n",
    "                        embedding_matrix.shape[0],  # il numero di righe (numero di parole + 1)\n",
    "                        embedding_matrix.shape[1],  #  il numero di colonne (lunghezza dei vettori)\n",
    "                        weights=[embedding_matrix],  # l'embedding_matrix creata tramite la funzione precedente\n",
    "                        input_length=input_length,  # la lunghezza delle frasi\n",
    "                        trainable=trainable)  # Impostiamo se questo strato deve essere addestrabile o meno, se lo impostiamo addestrabile i vettori si modificheranno\n",
    "\n",
    "    return embedding_layer  # restituiamo lo strato Embedding\n",
    "\n"
   ]
  },
  {
   "cell_type": "code",
   "execution_count": 21,
   "metadata": {},
   "outputs": [
    {
     "name": "stdout",
     "output_type": "stream",
     "text": [
      "(40978, 100)\n"
     ]
    }
   ],
   "source": [
    "print(embedding_matrix.shape)"
   ]
  },
  {
   "cell_type": "markdown",
   "metadata": {},
   "source": [
    "##### Ora riprendiamo la pipeline per la realizzazione del classificatore\n",
    "##### trasformiamo la lista di frasi, ciascuna costituita da liste di parole, in liste degli indici corrispondenti"
   ]
  },
  {
   "cell_type": "code",
   "execution_count": 22,
   "metadata": {},
   "outputs": [],
   "source": [
    "sequences = tokenizer.texts_to_sequences(x_rec)"
   ]
  },
  {
   "cell_type": "code",
   "execution_count": 24,
   "metadata": {},
   "outputs": [
    {
     "name": "stdout",
     "output_type": "stream",
     "text": [
      "3449\n"
     ]
    }
   ],
   "source": [
    "print(len(sequences))"
   ]
  },
  {
   "cell_type": "code",
   "execution_count": 25,
   "metadata": {},
   "outputs": [
    {
     "name": "stdout",
     "output_type": "stream",
     "text": [
      "['rowing,', 'sometimes', 'referred', 'crew', 'united', 'states,', 'sport', 'whose', 'origins', 'reach', 'back', 'ancient', 'egyptian', 'timesit', 'involves', 'propelling', 'boat', '(racing', 'shell)', 'water', 'using', 'oarsby', 'pushing', 'water', 'oars,', 'rowers', 'generate', 'force', 'move', 'boatthe', 'sport', 'either', 'recreational', 'enjoyment', 'fitness,', 'competitive,', 'athletes', 'race', 'one', 'another', 'boatsthe', 'training', 'physical', 'strain', 'body', 'required', 'successful', 'rower', 'intense']\n"
     ]
    }
   ],
   "source": [
    "print(x_rec[0])"
   ]
  },
  {
   "cell_type": "markdown",
   "metadata": {},
   "source": [
    "##### al posto delle parole della frase precedente sono stati messi gli indici corrispondenti"
   ]
  },
  {
   "cell_type": "code",
   "execution_count": 26,
   "metadata": {},
   "outputs": [
    {
     "name": "stdout",
     "output_type": "stream",
     "text": [
      "[2901, 206, 312, 1575, 51, 287, 23, 476, 1090, 1638, 332, 98, 2665, 9288, 465, 14330, 351, 14331, 14332, 408, 101, 14333, 7116, 408, 7117, 1283, 2666, 726, 1639, 7118, 23, 237, 2667, 3856, 7119, 9289, 127, 368, 7, 183, 14334, 477, 131, 4911, 210, 313, 758, 1284, 2668]\n"
     ]
    }
   ],
   "source": [
    "print(sequences[0])"
   ]
  },
  {
   "cell_type": "markdown",
   "metadata": {},
   "source": [
    "##### Facciamo il padding per portare tutte le sequenze alla lunghezza impostate con la costante SENTENCE_LENGTH "
   ]
  },
  {
   "cell_type": "markdown",
   "metadata": {},
   "source": [
    "##### Per farlo dobbiamo importare pad_sequences da keras"
   ]
  },
  {
   "cell_type": "code",
   "execution_count": 27,
   "metadata": {},
   "outputs": [],
   "source": [
    "from tensorflow.keras.preprocessing.sequence import pad_sequences\n"
   ]
  },
  {
   "cell_type": "code",
   "execution_count": 28,
   "metadata": {},
   "outputs": [],
   "source": [
    "x_num_fix = pad_sequences(sequences, maxlen=SENTENCE_LENGTH)  \n"
   ]
  },
  {
   "cell_type": "markdown",
   "metadata": {},
   "source": [
    "##### Infatti la sequence precedente è diventata:"
   ]
  },
  {
   "cell_type": "code",
   "execution_count": 29,
   "metadata": {},
   "outputs": [
    {
     "data": {
      "text/plain": [
       "array([    0,     0,     0,     0,     0,     0,     0,     0,     0,\n",
       "           0,     0,     0,     0,     0,     0,     0,     0,     0,\n",
       "           0,     0,     0,     0,     0,     0,     0,     0,     0,\n",
       "           0,     0,     0,     0,  2901,   206,   312,  1575,    51,\n",
       "         287,    23,   476,  1090,  1638,   332,    98,  2665,  9288,\n",
       "         465, 14330,   351, 14331, 14332,   408,   101, 14333,  7116,\n",
       "         408,  7117,  1283,  2666,   726,  1639,  7118,    23,   237,\n",
       "        2667,  3856,  7119,  9289,   127,   368,     7,   183, 14334,\n",
       "         477,   131,  4911,   210,   313,   758,  1284,  2668])"
      ]
     },
     "execution_count": 29,
     "metadata": {},
     "output_type": "execute_result"
    }
   ],
   "source": [
    "x_num_fix[0]"
   ]
  },
  {
   "cell_type": "markdown",
   "metadata": {},
   "source": [
    "##### Creiamo il modello, prima di farlo dobbiamo importare i layer necessari "
   ]
  },
  {
   "cell_type": "code",
   "execution_count": 30,
   "metadata": {},
   "outputs": [],
   "source": [
    "from tensorflow.keras.models import Sequential\n",
    "from tensorflow.keras.layers import Dense, Embedding, Flatten, Dropout\n"
   ]
  },
  {
   "cell_type": "code",
   "execution_count": 31,
   "metadata": {},
   "outputs": [],
   "source": [
    "embedding_layer = get_embedding_layer(embedding_matrix)"
   ]
  },
  {
   "cell_type": "markdown",
   "metadata": {},
   "source": [
    "##### Prima di lanciare l'addestramento dividiamo il dataset tra una parte da utilizzare per il train ed una per la validazione  \n",
    "##### Per farlo utilizziamo una funzione di sklearn: train_test_split"
   ]
  },
  {
   "cell_type": "code",
   "execution_count": 33,
   "metadata": {},
   "outputs": [],
   "source": [
    "from sklearn.model_selection import train_test_split"
   ]
  },
  {
   "cell_type": "code",
   "execution_count": 34,
   "metadata": {},
   "outputs": [],
   "source": [
    "X_train, X_test, y_train, y_test = train_test_split(x_num_fix, y_rec, test_size=0.20, random_state=42)  # dividiamo il dataset lasciando una parte (0.2 quindi 20%) per la validation\n"
   ]
  },
  {
   "cell_type": "code",
   "execution_count": 49,
   "metadata": {},
   "outputs": [
    {
     "name": "stdout",
     "output_type": "stream",
     "text": [
      "Model: \"sequential_5\"\n",
      "_________________________________________________________________\n",
      " Layer (type)                Output Shape              Param #   \n",
      "=================================================================\n",
      " embedding_1 (Embedding)     (None, 80, 100)           4097800   \n",
      "                                                                 \n",
      " Layer1 (Dense)              (None, 80, 128)           12928     \n",
      "                                                                 \n",
      " Layer2 (Dense)              (None, 80, 64)            8256      \n",
      "                                                                 \n",
      " No_Layer (Flatten)          (None, 5120)              0         \n",
      "                                                                 \n",
      " Layer3 (Dense)              (None, 64)                327744    \n",
      "                                                                 \n",
      " Layer_n-1 (Dense)           (None, 48)                3120      \n",
      "                                                                 \n",
      " Output_Layer (Dense)        (None, 7)                 343       \n",
      "                                                                 \n",
      "=================================================================\n",
      "Total params: 4,450,191\n",
      "Trainable params: 4,450,191\n",
      "Non-trainable params: 0\n",
      "_________________________________________________________________\n",
      "None\n"
     ]
    }
   ],
   "source": [
    "model = Sequential()  # Instanziamo Sequential\n",
    "model.add(Embedding(embedding_matrix.shape[0],  # il numero di righe (numero di parole + 1)\n",
    "                        embedding_matrix.shape[1],  #  il numero di colonne (lunghezza dei vettori)\n",
    "                        input_length=SENTENCE_LENGTH,  # la lunghezza delle frasi\n",
    "                        trainable=True))\n",
    "model.add(Dense(128, name=\"Layer1\"))  # Aggiungiamo i vari layers (gli assegnamo anche un nome per individuarli nella stampa successiva)\n",
    "model.add(Dense(64, name=\"Layer2\")) \n",
    "model.add(Flatten(name=\"No_Layer\"))  # Aggiungiamo questo per passare dalle due dimensioni avute finora alla dimensione singola\n",
    "model.add(Dense(64, name=\"Layer3\"))\n",
    "model.add(Dense(48, name=\"Layer_n-1\"))\n",
    "model.add(Dense(7, activation='softmax', name=\"Output_Layer\"))  # Lo strato finale ha un numero di neuroni pari al numero di categorie\n",
    "model.compile(optimizer='adam', loss='categorical_crossentropy', metrics=['acc'])  # Compiliamo il modello definendo loss, metrica per la valutazione (accuratezza) \n",
    "print(model.summary())\n"
   ]
  },
  {
   "cell_type": "code",
   "execution_count": 50,
   "metadata": {},
   "outputs": [
    {
     "name": "stdout",
     "output_type": "stream",
     "text": [
      "Epoch 1/10\n",
      "22/22 [==============================] - 2s 45ms/step - loss: 1.8930 - acc: 0.2341 - val_loss: 1.8332 - val_acc: 0.2609\n",
      "Epoch 2/10\n",
      "22/22 [==============================] - 1s 26ms/step - loss: 0.9188 - acc: 0.8300 - val_loss: 0.8504 - val_acc: 0.7000\n",
      "Epoch 3/10\n",
      "22/22 [==============================] - 1s 27ms/step - loss: 0.0478 - acc: 0.9931 - val_loss: 0.6609 - val_acc: 0.7855\n",
      "Epoch 4/10\n",
      "22/22 [==============================] - 1s 26ms/step - loss: 0.0020 - acc: 1.0000 - val_loss: 0.7254 - val_acc: 0.7971\n",
      "Epoch 5/10\n",
      "22/22 [==============================] - 1s 26ms/step - loss: 4.2660e-04 - acc: 1.0000 - val_loss: 0.7171 - val_acc: 0.8101\n",
      "Epoch 6/10\n",
      "22/22 [==============================] - 1s 26ms/step - loss: 1.7924e-04 - acc: 1.0000 - val_loss: 0.7158 - val_acc: 0.8072\n",
      "Epoch 7/10\n",
      "22/22 [==============================] - 1s 26ms/step - loss: 1.2501e-04 - acc: 1.0000 - val_loss: 0.7094 - val_acc: 0.8029\n",
      "Epoch 8/10\n",
      "22/22 [==============================] - 1s 26ms/step - loss: 1.0095e-04 - acc: 1.0000 - val_loss: 0.7090 - val_acc: 0.8058\n",
      "Epoch 9/10\n",
      "22/22 [==============================] - 1s 26ms/step - loss: 8.9387e-05 - acc: 1.0000 - val_loss: 0.7098 - val_acc: 0.8029\n",
      "Epoch 10/10\n",
      "22/22 [==============================] - 1s 26ms/step - loss: 8.0241e-05 - acc: 1.0000 - val_loss: 0.7104 - val_acc: 0.8043\n"
     ]
    }
   ],
   "source": [
    "history = model.fit(X_train, y_train, epochs=10, verbose=1, batch_size=128, validation_data=(X_test, y_test))"
   ]
  },
  {
   "cell_type": "code",
   "execution_count": null,
   "metadata": {},
   "outputs": [],
   "source": [
    "model = Sequential()  # Instanziamo Sequential\n",
    "model.add(embedding_layer)  # Aggiungiamo lo strato Embeddings appena creato\n",
    "model.add(Dense(128, name=\"Layer1\"))  # Aggiungiamo i vari layers (gli assegnamo anche un nome per individuarli nella stampa successiva)\n",
    "model.add(Dense(64, name=\"Layer2\")) \n",
    "model.add(Flatten(name=\"No_Layer\"))  # Aggiungiamo questo per passare dalle due dimensioni avute finora alla dimensione singola\n",
    "model.add(Dense(64, name=\"Layer3\"))\n",
    "model.add(Dense(48, name=\"Layer_n-1\"))\n",
    "model.add(Dense(7, activation='softmax', name=\"Output_Layer\"))  # Lo strato finale ha un numero di neuroni pari al numero di categorie\n",
    "model.compile(optimizer='adam', loss='categorical_crossentropy', metrics=['acc'])  # Compiliamo il modello definendo loss, metrica per la valutazione (accuratezza) \n",
    "print(model.summary())"
   ]
  },
  {
   "cell_type": "markdown",
   "metadata": {},
   "source": [
    "#### Lanciamo l'addestramento "
   ]
  },
  {
   "cell_type": "code",
   "execution_count": 37,
   "metadata": {},
   "outputs": [
    {
     "name": "stdout",
     "output_type": "stream",
     "text": [
      "Epoch 1/10\n",
      "22/22 [==============================] - 2s 33ms/step - loss: 1.3545 - acc: 0.5205 - val_loss: 0.8060 - val_acc: 0.7087\n",
      "Epoch 2/10\n",
      "22/22 [==============================] - 0s 12ms/step - loss: 0.4025 - acc: 0.8681 - val_loss: 0.6527 - val_acc: 0.7667\n",
      "Epoch 3/10\n",
      "22/22 [==============================] - 0s 12ms/step - loss: 0.1675 - acc: 0.9638 - val_loss: 0.6783 - val_acc: 0.7797\n",
      "Epoch 4/10\n",
      "22/22 [==============================] - 0s 12ms/step - loss: 0.0664 - acc: 0.9935 - val_loss: 0.7564 - val_acc: 0.7667\n",
      "Epoch 5/10\n",
      "22/22 [==============================] - 0s 12ms/step - loss: 0.0266 - acc: 1.0000 - val_loss: 0.8034 - val_acc: 0.7696\n",
      "Epoch 6/10\n",
      "22/22 [==============================] - 0s 12ms/step - loss: 0.0134 - acc: 1.0000 - val_loss: 0.8489 - val_acc: 0.7710\n",
      "Epoch 7/10\n",
      "22/22 [==============================] - 0s 12ms/step - loss: 0.0081 - acc: 1.0000 - val_loss: 0.8875 - val_acc: 0.7696\n",
      "Epoch 8/10\n",
      "22/22 [==============================] - 0s 13ms/step - loss: 0.0056 - acc: 1.0000 - val_loss: 0.9129 - val_acc: 0.7725\n",
      "Epoch 9/10\n",
      "22/22 [==============================] - 0s 12ms/step - loss: 0.0041 - acc: 1.0000 - val_loss: 0.9397 - val_acc: 0.7710\n",
      "Epoch 10/10\n",
      "22/22 [==============================] - 0s 12ms/step - loss: 0.0033 - acc: 1.0000 - val_loss: 0.9599 - val_acc: 0.7667\n"
     ]
    }
   ],
   "source": [
    "history = model.fit(X_train, y_train, epochs=10, verbose=1, batch_size=128, validation_data=(X_test, y_test))"
   ]
  },
  {
   "cell_type": "markdown",
   "metadata": {},
   "source": [
    "#### Notando che va molto presto in overfitting, è chiaro che dovremmo aumentare il numero degli esempi andando a raccogliere altri documenti, comunque possiamo provare ad aggiungere un po' di dropout"
   ]
  },
  {
   "cell_type": "code",
   "execution_count": null,
   "metadata": {},
   "outputs": [],
   "source": [
    "model = Sequential()  \n",
    "model.add(embedding_layer) \n",
    "model.add(Dense(128, name=\"Layer1\"))  \n",
    "model.add(Dropout(0.5)) # Strato di Dropout che ad ogni passaggio disabilita una certa quantità di connessioni (in questo caso il 30%)\n",
    "model.add(Dense(64, name=\"Layer2\"))  \n",
    "model.add(Flatten(name=\"No_Layer\"))\n",
    "model.add(Dropout(0.4))\n",
    "model.add(Dense(64, name=\"Layer3\"))\n",
    "model.add(Dropout(0.3)) # Qui ne disabilitiamo il 20%\n",
    "model.add(Dense(48, name=\"Layer_n-1\"))\n",
    "model.add(Dense(7, activation='softmax', name=\"Output_Layer\"))  \n",
    "model.compile(optimizer='adam', loss='categorical_crossentropy', metrics=['acc'])  \n",
    "print(model.summary())\n"
   ]
  },
  {
   "cell_type": "code",
   "execution_count": 39,
   "metadata": {},
   "outputs": [
    {
     "name": "stdout",
     "output_type": "stream",
     "text": [
      "Epoch 1/10\n",
      "22/22 [==============================] - 2s 38ms/step - loss: 2.1841 - acc: 0.3298 - val_loss: 0.9979 - val_acc: 0.6594\n",
      "Epoch 2/10\n",
      "22/22 [==============================] - 0s 15ms/step - loss: 1.0874 - acc: 0.6173 - val_loss: 0.8194 - val_acc: 0.7087\n",
      "Epoch 3/10\n",
      "22/22 [==============================] - 0s 16ms/step - loss: 0.7882 - acc: 0.7177 - val_loss: 0.6840 - val_acc: 0.7580\n",
      "Epoch 4/10\n",
      "22/22 [==============================] - 0s 16ms/step - loss: 0.6204 - acc: 0.7767 - val_loss: 0.6423 - val_acc: 0.7754\n",
      "Epoch 5/10\n",
      "22/22 [==============================] - 0s 17ms/step - loss: 0.5310 - acc: 0.8112 - val_loss: 0.6232 - val_acc: 0.7710\n",
      "Epoch 6/10\n",
      "22/22 [==============================] - 0s 16ms/step - loss: 0.4506 - acc: 0.8267 - val_loss: 0.6334 - val_acc: 0.7812\n",
      "Epoch 7/10\n",
      "22/22 [==============================] - 0s 17ms/step - loss: 0.4242 - acc: 0.8449 - val_loss: 0.6150 - val_acc: 0.7841\n",
      "Epoch 8/10\n",
      "22/22 [==============================] - 0s 17ms/step - loss: 0.3734 - acc: 0.8608 - val_loss: 0.6270 - val_acc: 0.7841\n",
      "Epoch 9/10\n",
      "22/22 [==============================] - 0s 15ms/step - loss: 0.3202 - acc: 0.8851 - val_loss: 0.6316 - val_acc: 0.7855\n",
      "Epoch 10/10\n",
      "22/22 [==============================] - 0s 15ms/step - loss: 0.3053 - acc: 0.8942 - val_loss: 0.6308 - val_acc: 0.7986\n"
     ]
    }
   ],
   "source": [
    "history = model.fit(X_train, y_train, epochs=10, verbose=1, batch_size=128, validation_data=(X_test, y_test))"
   ]
  },
  {
   "cell_type": "markdown",
   "metadata": {},
   "source": [
    "### A questo punto si posso provare altri aggiustamenti, tra cui soprattutto aggiungere strati più sofisticati che prevedono convoluzione e ricorrenza\n",
    "### Ad esempio Conv1D, Bidirectional, GRU, LSTM ecc."
   ]
  },
  {
   "cell_type": "code",
   "execution_count": null,
   "metadata": {},
   "outputs": [],
   "source": []
  },
  {
   "cell_type": "code",
   "execution_count": 41,
   "metadata": {},
   "outputs": [],
   "source": [
    "from tensorflow.keras.layers import Conv1D, Bidirectional, GRU, LSTM\n"
   ]
  },
  {
   "cell_type": "code",
   "execution_count": 42,
   "metadata": {},
   "outputs": [
    {
     "name": "stdout",
     "output_type": "stream",
     "text": [
      "Model: \"sequential_3\"\n",
      "_________________________________________________________________\n",
      " Layer (type)                Output Shape              Param #   \n",
      "=================================================================\n",
      " embedding (Embedding)       (None, 80, 100)           4097800   \n",
      "                                                                 \n",
      " bidirectional (Bidirectiona  (None, 128)              63744     \n",
      " l)                                                              \n",
      "                                                                 \n",
      " Layer1 (Dense)              (None, 128)               16512     \n",
      "                                                                 \n",
      " dropout_6 (Dropout)         (None, 128)               0         \n",
      "                                                                 \n",
      " Layer2 (Dense)              (None, 64)                8256      \n",
      "                                                                 \n",
      " No_Layer (Flatten)          (None, 64)                0         \n",
      "                                                                 \n",
      " Layer3 (Dense)              (None, 64)                4160      \n",
      "                                                                 \n",
      " dropout_7 (Dropout)         (None, 64)                0         \n",
      "                                                                 \n",
      " Layer_n-1 (Dense)           (None, 48)                3120      \n",
      "                                                                 \n",
      " Output_Layer (Dense)        (None, 7)                 343       \n",
      "                                                                 \n",
      "=================================================================\n",
      "Total params: 4,193,935\n",
      "Trainable params: 96,135\n",
      "Non-trainable params: 4,097,800\n",
      "_________________________________________________________________\n",
      "None\n"
     ]
    }
   ],
   "source": [
    "model = Sequential() \n",
    "model.add(embedding_layer)  \n",
    "model.add(Bidirectional(GRU(64)))\n",
    "model.add(Dense(128, name=\"Layer1\"))  \n",
    "model.add(Dropout(0.4))\n",
    "model.add(Dense(64, name=\"Layer2\")) \n",
    "model.add(Flatten(name=\"No_Layer\")) \n",
    "model.add(Dense(64, name=\"Layer3\"))\n",
    "model.add(Dropout(0.3))\n",
    "model.add(Dense(48, name=\"Layer_n-1\"))\n",
    "model.add(Dense(7, activation='softmax', name=\"Output_Layer\"))\n",
    "model.compile(optimizer='adam', loss='categorical_crossentropy', metrics=['acc']) \n",
    "print(model.summary())\n"
   ]
  },
  {
   "cell_type": "code",
   "execution_count": 43,
   "metadata": {},
   "outputs": [
    {
     "name": "stdout",
     "output_type": "stream",
     "text": [
      "Epoch 1/15\n",
      "22/22 [==============================] - 35s 105ms/step - loss: 1.7917 - acc: 0.2878 - val_loss: 1.4954 - val_acc: 0.4696\n",
      "Epoch 2/15\n",
      "22/22 [==============================] - 1s 35ms/step - loss: 1.4541 - acc: 0.4715 - val_loss: 1.2843 - val_acc: 0.5333\n",
      "Epoch 3/15\n",
      "22/22 [==============================] - 1s 36ms/step - loss: 1.2303 - acc: 0.5611 - val_loss: 1.0814 - val_acc: 0.6217\n",
      "Epoch 4/15\n",
      "22/22 [==============================] - 1s 37ms/step - loss: 0.9986 - acc: 0.6419 - val_loss: 0.8649 - val_acc: 0.6855\n",
      "Epoch 5/15\n",
      "22/22 [==============================] - 1s 37ms/step - loss: 0.7849 - acc: 0.7264 - val_loss: 0.7220 - val_acc: 0.7420\n",
      "Epoch 6/15\n",
      "22/22 [==============================] - 1s 38ms/step - loss: 0.6232 - acc: 0.7880 - val_loss: 0.5863 - val_acc: 0.7942\n",
      "Epoch 7/15\n",
      "22/22 [==============================] - 1s 35ms/step - loss: 0.5261 - acc: 0.8112 - val_loss: 0.5464 - val_acc: 0.8116\n",
      "Epoch 8/15\n",
      "22/22 [==============================] - 1s 36ms/step - loss: 0.4706 - acc: 0.8387 - val_loss: 0.5269 - val_acc: 0.8159\n",
      "Epoch 9/15\n",
      "22/22 [==============================] - 1s 36ms/step - loss: 0.4279 - acc: 0.8576 - val_loss: 0.5125 - val_acc: 0.8420\n",
      "Epoch 10/15\n",
      "22/22 [==============================] - 1s 38ms/step - loss: 0.3781 - acc: 0.8757 - val_loss: 0.4830 - val_acc: 0.8304\n",
      "Epoch 11/15\n",
      "22/22 [==============================] - 1s 35ms/step - loss: 0.3359 - acc: 0.8779 - val_loss: 0.5162 - val_acc: 0.8391\n",
      "Epoch 12/15\n",
      "22/22 [==============================] - 1s 35ms/step - loss: 0.3187 - acc: 0.8862 - val_loss: 0.4665 - val_acc: 0.8507\n",
      "Epoch 13/15\n",
      "22/22 [==============================] - 1s 35ms/step - loss: 0.2606 - acc: 0.9065 - val_loss: 0.5347 - val_acc: 0.8478\n",
      "Epoch 14/15\n",
      "22/22 [==============================] - 1s 37ms/step - loss: 0.2637 - acc: 0.9065 - val_loss: 0.4911 - val_acc: 0.8464\n",
      "Epoch 15/15\n",
      "22/22 [==============================] - 1s 35ms/step - loss: 0.2369 - acc: 0.9145 - val_loss: 0.4789 - val_acc: 0.8464\n"
     ]
    }
   ],
   "source": [
    "history = model.fit(X_train, y_train, epochs=15, verbose=1, batch_size=128, validation_data=(X_test, y_test))"
   ]
  },
  {
   "cell_type": "markdown",
   "metadata": {},
   "source": [
    "#### L'accuratezza del dataset di validazione è decisamente maggiore ed abbiamo ancora margine avendo una loss ancora alta e l'accuratezza del train set ancora sotto l'1\n",
    "### Lanciamo nuovamente l'addestramento facendo altre 9 epoche"
   ]
  },
  {
   "cell_type": "code",
   "execution_count": 44,
   "metadata": {},
   "outputs": [
    {
     "name": "stdout",
     "output_type": "stream",
     "text": [
      "Epoch 1/9\n",
      "22/22 [==============================] - 1s 43ms/step - loss: 0.1976 - acc: 0.9326 - val_loss: 0.4910 - val_acc: 0.8652\n",
      "Epoch 2/9\n",
      "22/22 [==============================] - 1s 36ms/step - loss: 0.1759 - acc: 0.9377 - val_loss: 0.5181 - val_acc: 0.8652\n",
      "Epoch 3/9\n",
      "22/22 [==============================] - 1s 35ms/step - loss: 0.1440 - acc: 0.9478 - val_loss: 0.5139 - val_acc: 0.8652\n",
      "Epoch 4/9\n",
      "22/22 [==============================] - 1s 35ms/step - loss: 0.1213 - acc: 0.9558 - val_loss: 0.6013 - val_acc: 0.8522\n",
      "Epoch 5/9\n",
      "22/22 [==============================] - 1s 38ms/step - loss: 0.1585 - acc: 0.9445 - val_loss: 0.6240 - val_acc: 0.8594\n",
      "Epoch 6/9\n",
      "22/22 [==============================] - 1s 36ms/step - loss: 0.1297 - acc: 0.9529 - val_loss: 0.6010 - val_acc: 0.8681\n",
      "Epoch 7/9\n",
      "22/22 [==============================] - 1s 36ms/step - loss: 0.1106 - acc: 0.9572 - val_loss: 0.6039 - val_acc: 0.8565\n",
      "Epoch 8/9\n",
      "22/22 [==============================] - 1s 37ms/step - loss: 0.1250 - acc: 0.9551 - val_loss: 0.6628 - val_acc: 0.8507\n",
      "Epoch 9/9\n",
      "22/22 [==============================] - 1s 39ms/step - loss: 0.0814 - acc: 0.9732 - val_loss: 0.6575 - val_acc: 0.8609\n"
     ]
    }
   ],
   "source": [
    "history = model.fit(X_train, y_train, epochs=9, verbose=1, batch_size=128, validation_data=(X_test, y_test))"
   ]
  },
  {
   "cell_type": "markdown",
   "metadata": {},
   "source": [
    "#### Proviamo il modello con delle frasi nuove"
   ]
  },
  {
   "cell_type": "code",
   "execution_count": 45,
   "metadata": {},
   "outputs": [],
   "source": [
    "from ipynb.fs.defs.data_collect_preprocessing import preprocess_text\n",
    "from ipynb.fs.defs.data_collect_preprocessing import CATEGORIES"
   ]
  },
  {
   "cell_type": "code",
   "execution_count": 46,
   "metadata": {},
   "outputs": [
    {
     "name": "stdout",
     "output_type": "stream",
     "text": [
      "[[24, 909, 16901, 15, 580, 18113, 138, 219, 2421, 425, 580, 1413, 787, 2073, 8182, 385, 502]]\n",
      "[[0.02623279 0.00159637 0.00317192 0.17968048 0.62699157 0.00201284\n",
      "  0.16031402]]\n",
      "4\n",
      "philosophy\n"
     ]
    }
   ],
   "source": [
    "text = \"There are two broad stances about what is the world studied by metaphysics. The strong, classical view assumes that the objects studied by metaphysics exist independently of any observer so that the subject is the most fundamental of all sciences.\"\n",
    "text = preprocess_text(text)\n",
    "sequence = tokenizer.texts_to_sequences([text])\n",
    "print(sequence)\n",
    "padded_seq = pad_sequences(sequence, maxlen=SENTENCE_LENGTH) \n",
    "y = model.predict(padded_seq)\n",
    "print(y)\n",
    "print(np.argmax(y))\n",
    "print(CATEGORIES[np.argmax(y)])"
   ]
  },
  {
   "cell_type": "code",
   "execution_count": null,
   "metadata": {},
   "outputs": [],
   "source": []
  }
 ],
 "metadata": {
  "kernelspec": {
   "display_name": "Python 3",
   "language": "python",
   "name": "python3"
  },
  "language_info": {
   "codemirror_mode": {
    "name": "ipython",
    "version": 3
   },
   "file_extension": ".py",
   "mimetype": "text/x-python",
   "name": "python",
   "nbconvert_exporter": "python",
   "pygments_lexer": "ipython3",
   "version": "3.8.5"
  }
 },
 "nbformat": 4,
 "nbformat_minor": 4
}
