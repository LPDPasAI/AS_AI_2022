{
 "cells": [
  {
   "cell_type": "markdown",
   "metadata": {},
   "source": [
    "# Data collect and preprocessing\n"
   ]
  },
  {
   "cell_type": "code",
   "execution_count": 1,
   "metadata": {},
   "outputs": [],
   "source": [
    "import wikipedia\n",
    "import re\n",
    "import os\n",
    "import csv\n",
    "\n",
    "import numpy as np\n",
    "#from tqdm import tqdm\n",
    "from tqdm.notebook import tqdm"
   ]
  },
  {
   "cell_type": "code",
   "execution_count": 2,
   "metadata": {},
   "outputs": [],
   "source": [
    "import nltk \n",
    "from nltk.corpus import stopwords"
   ]
  },
  {
   "cell_type": "code",
   "execution_count": 4,
   "metadata": {},
   "outputs": [],
   "source": [
    "CATEGORIES = [\"sport\", \"politics\", \"economics\", \"psychology\", \"philosophy\", \"literature\", \"physics\"]\n",
    "DATASET_PATH = \"./dataset/\"\n",
    "SENTENCE_LENGTH = 80"
   ]
  },
  {
   "cell_type": "code",
   "execution_count": 64,
   "metadata": {},
   "outputs": [],
   "source": [
    "pag = wikipedia.page('mass')"
   ]
  },
  {
   "cell_type": "code",
   "execution_count": 65,
   "metadata": {},
   "outputs": [
    {
     "name": "stdout",
     "output_type": "stream",
     "text": [
      "A map is a symbolic depiction emphasizing relationships between elements of some space, such as objects, regions, or themes.\n",
      "Many maps are static, fixed to paper or some other durable medium, while others are dynamic or interactive. Although most commonly used to depict geography, maps may represent any space, real or fictional, without regard to context or scale, such as in brain mapping, DNA mapping, or computer network topology mapping. The space being mapped may be two dimensional, such as the surface of the earth, three dimensional, such as the interior of the earth, or even more abstract spaces of any dimension, such as arise in modeling phenomena having many independent variables.\n",
      "Although the earliest maps known are of the heavens, geographic maps of territory have a very long tradition and exist from ancient times. The word \"map\" comes from the medieval Latin Mappa mundi, wherein mappa meant napkin or cloth and mundi the world. Thus, \"map\" became a shortened term referring to a two-dimensional representation of the surface of the world.\n",
      "\n",
      "\n",
      "== History ==\n",
      "\n",
      "\n",
      "== Geography ==\n",
      "\n",
      "Cartography or map-making is the study and practice of crafting representations of the Earth upon a flat surface (see History of cartography), and one who makes maps is called a cartographer.\n",
      "Road maps are perhaps the most widely used maps today, and form a subset of navigational maps, which also include aeronautical and nautical charts, railroad network maps, and hiking and bicycling maps. In terms of quantity, the largest number of drawn map sheets is probably made up by local surveys, carried out by municipalities, utilities, tax assessors, emergency services providers, and other local agencies.  Many national surveying projects have been carried out by the military, such as the British Ordnance Survey: a civilian government agency, internationally renowned for its comprehensively detailed work.\n",
      "In addition to location information, maps may also be used to portray contour lines indicating constant values of elevation, temperature, rainfall, etc.\n",
      "\n",
      "\n",
      "== Orientation ==\n",
      "\n",
      "The orientation of a map is the relationship between the directions on the map and the corresponding compass directions in reality. The word \"orient\" is derived from Latin oriens, meaning east. In the Middle Ages many maps, including the T and O maps, were drawn with east at the top (meaning that the direction \"up\" on the map corresponds to East on the compass). The most common cartographic convention is that north is at the top of a map.\n",
      "\n",
      "Maps not oriented with north at the top:\n",
      "\n",
      "Maps from non-Western traditions have oriented a variety of ways. Old maps of Edo show the Japanese imperial palace as the \"top\", but also at the center, of the map. Labels on the map are oriented in such a way that you cannot read them properly unless you put the imperial palace above your head.\n",
      "Medieval European T and O maps such as the Hereford Mappa Mundi were centered on Jerusalem with East at the top. Indeed, before the reintroduction of Ptolemy's Geography to Europe around 1400, there was no single convention in the West. Portolan charts, for example, are oriented to the shores they describe.\n",
      "Maps of cities bordering a sea are often conventionally oriented with the sea at the top.\n",
      "Route and channel maps have traditionally been oriented to the road or waterway they describe.\n",
      "Polar maps of the Arctic or Antarctic regions are conventionally centered on the pole; the direction North would be toward or away from the center of the map, respectively. Typical maps of the Arctic have 0° meridian toward the bottom of the page; maps of the Antarctic have the 0° meridian toward the top of the page.\n",
      "Reversed maps, also known as Upside-Down maps or South-Up maps, reverse the North is up convention and have south at the top. Ancient Africans including in Ancient Egypt utilized this orientation, as some maps in Brazil do today.\n",
      "Buckminster Fuller's Dymaxion maps are based on a projection of the Earth's sphere onto an icosahedron. The resulting triangular pieces may be arranged in any order or orientation.\n",
      "\n",
      "\n",
      "== Scale and accuracy ==\n",
      "\n",
      "Many maps are drawn to a scale expressed as a ratio, such as 1:10,000, which means that 1 unit of measurement on the map corresponds to 10,000 of that same unit on the ground. The scale statement can be accurate when the region mapped is small enough for the curvature of the Earth to be neglected, such as a city map. Mapping larger regions, where the curvature cannot be ignored, requires projections to map from the curved surface of the Earth to the plane. The impossibility of flattening the sphere to the plane without distortion means that the map cannot have a constant scale. Rather, on most projections, the best that can be attained is an accurate scale along one or two paths on the projection. Because scale differs everywhere, it can only be measured meaningfully as point scale per location. Most maps strive to keep point scale variation within narrow bounds. Although the scale statement is nominal it is usually accurate enough for most purposes unless the map covers a large fraction of the earth. At the scope of a world map, scale as a single number is practically meaningless throughout most of the map. Instead, it usually refers to the scale along the equator.\n",
      "\n",
      "Some maps, called cartograms, have the scale deliberately distorted to reflect information other than land area or distance. For example, this map (at the right) of Europe has been distorted to show population distribution, while the rough shape of the continent is still discernible.\n",
      "Another example of distorted scale is the famous London Underground map. The basic geographical structure is respected but the tube lines (and the River Thames) are smoothed to clarify the relationships between stations. Near the center of the map, stations are spaced out more than near the edges of the map.\n",
      "Further inaccuracies may be deliberate. For example, cartographers may simply omit military installations or remove features solely to enhance the clarity of the map. For example, a road map may not show railroads, smaller waterways, or other prominent non-road objects, and even if it does, it may show them less clearly (e.g. dashed or dotted lines/outlines) than the main roads. Known as decluttering, the practice makes the subject matter that the user is interested in easier to read, usually without sacrificing overall accuracy. Software-based maps often allow the user to toggle decluttering between ON, OFF, and AUTO as needed. In AUTO the degree of decluttering is adjusted as the user changes the scale being displayed.\n",
      "\n",
      "\n",
      "== Projection ==\n",
      "\n",
      "Geographic maps use a projection to translate the three-dimensional real surface of the geoid to a two-dimensional picture. Projection always distorts the surface. There are many ways to apportion the distortion, and so there are many map projections. Which projection to use depends on the purpose of the map.\n",
      "\n",
      "\n",
      "== Symbology ==\n",
      "\n",
      "The various features shown on a map are represented by conventional signs or symbols.  For example, colors can be used to indicate a classification of roads.  Those signs are usually explained in the margin of the map, or on a separately published characteristic sheet.Some cartographers prefer to make the map cover practically the entire screen or sheet of paper, leaving no room \"outside\" the map for information about the map as a whole.\n",
      "These cartographers typically place such information in an otherwise \"blank\" region \"inside\" the map—cartouche, map legend, title, compass rose, bar scale, etc.\n",
      "In particular, some maps contain smaller \"sub-maps\" in otherwise blank regions—often one at a much smaller scale showing the whole globe and where the whole map fits on that globe, and a few showing \"regions of interest\" at a larger scale to show details that wouldn't otherwise fit.\n",
      "Occasionally sub-maps use the same scale as the large map—a few maps of the contiguous United States include a sub-map to the same scale for each of the two non-contiguous states.\n",
      "\n",
      "\n",
      "== Design ==\n",
      "\n",
      "The design and production of maps is a craft that has developed over thousands of years, from clay tablets to Geographic information systems. As a form of Design, particularly closely related to Graphic design, map making incorporates scientific knowledge about how maps are used, integrated with principles of artistic expression, to create an aesthetically attractive product, carries an aura of authority, and functionally serves a particular purpose for an intended audience.\n",
      "Designing a map involves bringing together a number of elements and making a large number of decisions. The elements of design fall into several broad topics, each of which has its own theory, its own research agenda, and its own best practices. That said, there are synergistic effects between these elements, meaning that the overall design process is not just working on each element one at a time, but an iterative feedback process of adjusting each to achieve the desired gestalt.\n",
      "\n",
      "Map projections: The foundation of the map is the plane on which it rests (whether paper or screen), but projections are required to flatten the surface of the earth. All projections distort this surface, but the cartographer can be strategic about how and where distortion occurs.\n",
      " Generalization: All maps must be drawn at a smaller scale than reality, requiring that the information included on a map be a very small sample of the wealth of information about a place. Generalization is the process of adjusting the level of detail in geographic information to be appropriate for the scale and purpose of a map, through procedures such as selection, simplification, and classification.\n",
      " Symbology: Any map visually represents the location and properties of geographic phenomena using map symbols, graphical depictions composed of several  visual variables, such as size, shape, color, and pattern.\n",
      "Composition: As all of the symbols are brought together, their interactions have major effects on map reading, such as  grouping and Visual hierarchy.\n",
      " Typography or Labeling: Text serves a number of purposes on the map, especially aiding the recognition of features, but labels must be designed and positioned well to be effective.\n",
      " Layout: The map image must be placed on the page (whether paper, web, or other media), along with related elements, such as the title, legend, additional maps, text, images, and so on. Each of these elements have their own design considerations, as does their integration, which largely follows the principles of Graphic design.\n",
      "Map type-specific design: Different kinds of maps, especially thematic maps, have their own design needs and best practices.\n",
      "\n",
      "\n",
      "== Types ==\n",
      "\n",
      "Maps of the world or large areas are often either 'political' or 'physical'. The most important purpose of the political map is to show territorial borders; the purpose of the physical is to show features of geography such as mountains, soil type, or land use including infrastructures such as roads, railroads, and buildings. Topographic maps show elevations and relief with contour lines or shading. Geological maps show not only the physical surface, but characteristics of the underlying rock, fault lines, and subsurface structures.\n",
      "\n",
      "\n",
      "=== Electronic ===\n",
      "\n",
      "From the last quarter of the 20th century, the indispensable tool of the cartographer has been the computer. Much of cartography, especially at the data-gathering survey level, has been subsumed by Geographic Information Systems (GIS). The functionality of maps has been greatly advanced by technology simplifying the superimposition of spatially located variables onto existing geographical maps. Having local information such as rainfall level, distribution of wildlife, or demographic data integrated within the map allows more efficient analysis and better decision making. In the pre-electronic age such superimposition of data led Dr. John Snow to identify the location of an outbreak of cholera. Today, it is used by agencies of humankind, as diverse as wildlife conservationists and militaries around the world.\n",
      "\n",
      "Even when GIS is not involved, most cartographers now use a variety of computer graphics programs to generate new maps.\n",
      "Interactive, computerized maps are commercially available, allowing users to zoom in or zoom out (respectively meaning to increase or decrease the scale), sometimes by replacing one map with another of different scale, centered where possible on the same point.  In-car global navigation satellite systems are computerized maps with route planning and advice facilities that monitor the user's position with the help of satellites. From the computer scientist's point of view, zooming in entails one or a combination of:\n",
      "\n",
      "replacing the map by a more detailed one\n",
      "enlarging the same map without enlarging the pixels, hence showing more detail by removing less information compared to the less detailed version\n",
      "enlarging the same map with the pixels enlarged (replaced by rectangles of pixels); no additional detail is shown, but, depending on the quality of one's vision, possibly more detail can be seen; if a computer display does not show adjacent pixels really separate, but overlapping instead (this does not apply for an LCD, but may apply for a cathode ray tube), then replacing a pixel by a rectangle of pixels does show more detail.  A variation of this method is interpolation.\n",
      "For example:\n",
      "\n",
      "Typically (2) applies to a Portable Document Format (PDF) file or other format based on vector graphics. The increase in detail is limited to the information contained in the file: enlargement of a curve may eventually result in a series of standard geometric figures such as straight lines, arcs of circles, or splines.\n",
      "(2) may apply to text and (3) to the outline of a map feature such as a forest or building.\n",
      "(1) may apply to the text as needed (displaying labels for more features), while (2) applies to the rest of the image.  Text is not necessarily enlarged when zooming in. Similarly, a road represented by a double line may or may not become wider when one zooms in.\n",
      "The map may also have layers that are partly raster graphics and partly vector graphics.  For a single raster graphics image (2) applies until the pixels in the image file correspond to the pixels of the display, thereafter (3) applies.\n",
      "\n",
      "\n",
      "=== Climatic ===\n",
      "\n",
      "The maps that reflect the territorial distribution of climatic conditions based on the results of long-term observations are called climatic maps. These maps can be compiled both for individual climatic features (temperature, precipitation, humidity) and for combinations of them at the earth's surface and in the upper layers of the atmosphere. Climatic maps show climatic features across a large region and permit values of climatic features to be compared in different parts of the region. When generating the map, spatial interpolation can be used to synthesize values where there are no measurements, under the assumption that conditions change smoothly.\n",
      "Climatic maps generally apply to individual months and the year as a whole, sometimes to the four seasons, to the growing period, and so forth. On maps compiled from the observations of ground meteorological stations, atmospheric pressure is converted to sea level. Air temperature maps are compiled both from the actual values observed on the surface of the earth and from values converted to sea level. The pressure field in the free atmosphere is represented either by maps of the distribution of pressure at different standard altitudes—for example, at every kilometer above sea level—or by maps of baric topography on which altitudes (more precisely geopotentials) of the main isobaric surfaces (for example, 900, 800, and 700 millibars) counted off from sea level are plotted. The temperature, humidity, and wind on aeroclimatic maps may apply either to standard altitudes or to the main isobaric surfaces.\n",
      "Isolines are drawn on maps of such climatic features as the long-term mean values (of atmospheric pressure, temperature, humidity, total precipitation, and so forth) to connect points with equal values of the feature in question—for example, isobars for pressure, isotherms for temperature, and isohyets for precipitation. Isoamplitudes are drawn on maps of amplitudes (for example, annual amplitudes of air temperature—that is, the differences between the mean temperatures of the warmest and coldest month). Isanomals are drawn on maps of anomalies (for example, deviations of the mean temperature of each place from the mean temperature of the entire latitudinal zone). Isolines of frequency are drawn on maps showing the frequency of a particular phenomenon (for example, the annual number of days with a thunderstorm or snow cover). Isochrones are drawn on maps showing the dates of onset of a given phenomenon (for example, the first frost and appearance or disappearance of the snow cover) or the date of a particular value of a meteorological element in the course of a year (for example, passing of the mean daily air temperature through zero). Isolines of the mean numerical value of wind velocity or isotachs are drawn on wind maps (charts); the wind resultants and directions of prevailing winds are indicated by arrows of different lengths or arrows with different plumes; lines of flow are often drawn. Maps of the zonal and meridional components of wind are frequently compiled for the free atmosphere. Atmospheric pressure and wind are usually combined on climatic maps. Wind roses, curves showing the distribution of other meteorological elements, diagrams of the annual course of elements at individual stations, and the like are also plotted on climatic maps.\n",
      "Maps of climatic regionalization, that is, division of the earth's surface into climatic zones and regions according to some classification of climates, are a special kind of climatic map.\n",
      "Climatic maps are often incorporated into climatic atlases of varying geographic ranges (globe, hemispheres, continents, countries, oceans) or included in comprehensive atlases. Besides general climatic maps, applied climatic maps and atlases have great practical value. Aeroclimatic maps, aeroclimatic atlases, and agroclimatic maps are the most numerous.\n",
      "\n",
      "\n",
      "=== Extraterrestrial ===\n",
      "Maps exist of the Solar System, and other cosmological features such as star maps. In addition maps of other bodies such as the Moon and other planets are technically not geographical maps.\n",
      "Floor maps are also spatial but not necessarily geospatial.\n",
      "\n",
      "\n",
      "=== Topological ===\n",
      "\n",
      "Diagrams such as schematic diagrams and Gantt charts and treemaps display logical relationships between items, rather than geographical relationships. Topological in nature, only the connectivity is significant. The London Underground map and similar subway maps around the world are a common example of these maps.\n",
      "\n",
      "\n",
      "=== General ===\n",
      "General-purpose maps provide many types of information on one map. Most atlas maps, wall maps, and road maps fall into this category. The following are some features that might be shown on general-purpose maps: bodies of water, roads, railway lines, parks, elevations, towns and cities, political boundaries, latitude and longitude, national and provincial parks. These maps give a broad understanding of the location and features of an area.  The reader may gain an understanding of the type of landscape, the location of urban places, and the location of major transportation routes all at once.\n",
      "\n",
      "\n",
      "=== List ===\n",
      "\n",
      "\n",
      "== Legal regulation ==\n",
      "Some countries required that all published maps represent their national claims regarding border disputes.  For example:\n",
      "\n",
      "Within Russia, Google Maps shows Crimea as part of Russia.\n",
      "Both the Republic of India and the People's Republic of China require that all maps show areas subject to the Sino-Indian border dispute in their own favor.In 2010, the People's Republic of China began requiring that all online maps served from within China be hosted there, making them subject to Chinese laws.\n",
      "\n",
      "\n",
      "== See also ==\n",
      "General\n",
      "Map designing and types\n",
      "Map history\n",
      "Related topics\n",
      "\n",
      "\n",
      "== References ==\n",
      "Citations\n",
      "BibliographyDavid Buisseret, ed., Monarchs, Ministers and Maps: The Emergence of Cartography as a Tool of Government in Early Modern Europe. Chicago: University of Chicago Press, 1992, ISBN 0-226-07987-2\n",
      "Denis E. Cosgrove (ed.) Mappings. Reaktion Books, 1999 ISBN 1-86189-021-4\n",
      "Freeman, Herbert, Automated Cartographic Text Placement. White paper.\n",
      "Ahn, J. and Freeman, H., “A program for automatic name placement,” Proc. AUTO-CARTO 6, Ottawa, 1983. 444–455.\n",
      "Freeman, H., “Computer Name Placement,” ch. 29, in Geographical Information Systems, 1, D.J. Maguire, M.F. Goodchild, and D.W. Rhind, John Wiley, New York, 1991, 449–460.\n",
      "Mark Monmonier, How to Lie with Maps, ISBN 0-226-53421-9\n",
      "O'Connor, J.J. and E.F. Robertson, The History of Cartography. Scotland : St. Andrews University, 2002.\n",
      "\n",
      "\n",
      "== External links ==\n",
      "\n",
      "International Cartographic Association (ICA), the world body for mapping and GIScience professionals\n",
      "Geography and Maps, an Illustrated Guide, by the staff of the U.S. Library of Congress.\n",
      "The History of Cartography Project at the University of Wisconsin, a comprehensive research project in the history of maps and mapping\n"
     ]
    }
   ],
   "source": [
    "print(pag.content)"
   ]
  },
  {
   "cell_type": "code",
   "execution_count": 55,
   "metadata": {},
   "outputs": [],
   "source": [
    "pag = pag.content"
   ]
  },
  {
   "cell_type": "code",
   "execution_count": 56,
   "metadata": {},
   "outputs": [],
   "source": [
    "pag = re.sub('===', ' ', pag)\n",
    "pag = re.sub('==', ' ', pag)\n",
    "pag = re.sub('=', ' ', pag)"
   ]
  },
  {
   "cell_type": "code",
   "execution_count": 59,
   "metadata": {},
   "outputs": [],
   "source": [
    "print(pag)"
   ]
  },
  {
   "cell_type": "code",
   "execution_count": 16,
   "metadata": {},
   "outputs": [],
   "source": [
    "def verify_or_create_dir(directory):\n",
    "    if not os.path.isdir(directory):\n",
    "        os.makedirs(directory)\n",
    "        print(\"directory\", directory, \"created\")\n",
    "    else:\n",
    "        print(\"directory\", directory, \"exist\")"
   ]
  },
  {
   "cell_type": "code",
   "execution_count": 17,
   "metadata": {},
   "outputs": [],
   "source": [
    "def get_art(category):\n",
    "    #for cat in category:\n",
    "    cat = category\n",
    "    ric = wikipedia.search(cat)\n",
    "    dir_name = DATASET_PATH + cat + \"/\"\n",
    "    verify_or_create_dir(dir_name)\n",
    "    for art in ric:\n",
    "        try:\n",
    "            pag = wikipedia.page(art)\n",
    "            pag = pag.content\n",
    "            pag = re.sub('===', ' ', pag)\n",
    "            pag = re.sub('==', ' ', pag)\n",
    "            pag = re.sub('=', ' ', pag)\n",
    "            with open(dir_name + art + \".txt\", 'w', encoding='UTF-8') as file:\n",
    "                file.write(pag)\n",
    "        except:\n",
    "            print(\"Error in \", art)"
   ]
  },
  {
   "cell_type": "code",
   "execution_count": 18,
   "metadata": {},
   "outputs": [],
   "source": [
    "def get_categories(cats):\n",
    "    for cat in cats:\n",
    "        get_art(cat)"
   ]
  },
  {
   "cell_type": "code",
   "execution_count": 19,
   "metadata": {},
   "outputs": [
    {
     "name": "stdout",
     "output_type": "stream",
     "text": [
      "directory ./dataset/sport/ created\n",
      "Error in  Sport Chek\n",
      "Error in  Swimming (sport)\n",
      "directory ./dataset/politics/ created\n",
      "directory ./dataset/economics/ created\n",
      "Error in  Socioeconomics\n",
      "Error in  Bachelor of Economics\n",
      "directory ./dataset/psychology/ created\n",
      "directory ./dataset/philosophy/ created\n",
      "Error in  Indian philosophy\n",
      "directory ./dataset/literature/ created\n",
      "directory ./dataset/physics/ created\n",
      "Error in  Physics\n"
     ]
    }
   ],
   "source": [
    "get_categories(CATEGORIES)   # get_categories(CATEGORIES[2:])"
   ]
  },
  {
   "cell_type": "code",
   "execution_count": 20,
   "metadata": {},
   "outputs": [],
   "source": [
    "def save_dataset(categories, name_file):\n",
    "    count = 0\n",
    "    with open(DATASET_PATH + name_file + \".csv\", 'w', newline='', encoding='UTF-8') as file_out:\n",
    "        writer = csv.writer(file_out, delimiter= ',')\n",
    "        for idx, cat in tqdm(enumerate(categories)):\n",
    "            print(\"\\n *** Importing\", cat)\n",
    "            path_cat = DATASET_PATH + cat + \"/\"\n",
    "            files = os.listdir(path_cat)\n",
    "            print(files)\n",
    "            for f in files:\n",
    "                with open(path_cat + f, 'r', encoding='UTF-8') as file_in:\n",
    "                    file_text = file_in.read()\n",
    "                    file_text = re.sub(\"\\n\", \" \", file_text)\n",
    "                    lst_sentences = file_text.split('. ')\n",
    "                    row = ''\n",
    "                    row_len = 0\n",
    "                    for sentence in lst_sentences:\n",
    "                        len_sent = len(sentence.split())\n",
    "                        row += sentence\n",
    "                        row_len += len_sent\n",
    "                        if row_len + 9 > SENTENCE_LENGTH:\n",
    "                            count += 1\n",
    "                            writer.writerow([row, idx])\n",
    "                            row = ''\n",
    "                            row_len = 0\n",
    "            print(count)\n",
    "                    "
   ]
  },
  {
   "cell_type": "code",
   "execution_count": 21,
   "metadata": {},
   "outputs": [
    {
     "data": {
      "application/vnd.jupyter.widget-view+json": {
       "model_id": "3964828eb27f4ba89bb624f275e48d9c",
       "version_major": 2,
       "version_minor": 0
      },
      "text/plain": [
       "HBox(children=(HTML(value=''), FloatProgress(value=1.0, bar_style='info', layout=Layout(width='20px'), max=1.0…"
      ]
     },
     "metadata": {},
     "output_type": "display_data"
    },
    {
     "name": "stdout",
     "output_type": "stream",
     "text": [
      "\n",
      " *** Importing sport\n",
      "['BBC Sport.txt', 'Bugatti Chiron.txt', 'Rowing (sport).txt', 'Sport (US magazine).txt', 'Sport diving (sport).txt', 'Sport of athletics.txt', 'Sport, Sport, Sport.txt', 'Sport.txt']\n",
      "307\n",
      "\n",
      " *** Importing politics\n",
      "['Ireland.txt', 'Political moderate.txt', 'Political party.txt', 'Political science.txt', 'Political spectrum.txt', 'Politics (Aristotle).txt', 'Politics of India.txt', 'Politics of the United States.txt', 'Politics.txt', 'Right-wing politics.txt']\n",
      "758\n",
      "\n",
      " *** Importing economics\n",
      "['Behavioral economics.txt', 'Economics.txt', 'Keynesian economics.txt', 'Labour economics.txt', 'London School of Economics.txt', 'Managerial economics.txt', 'Positive economics.txt', 'Service (economics).txt']\n",
      "1174\n",
      "\n",
      " *** Importing psychology\n",
      "['AP Psychology.txt', 'Cognitive psychology.txt', 'Developmental psychology.txt', 'Evolutionary psychology.txt', 'Flow (psychology).txt', 'Gestalt psychology.txt', 'Psyche (psychology).txt', 'Psychology.txt', 'Social psychology.txt', 'Transpersonal psychology.txt']\n",
      "1930\n",
      "\n",
      " *** Importing philosophy\n",
      "['Cynicism (philosophy).txt', 'Doctor of Philosophy.txt', 'Hindu philosophy.txt', 'Philosophy of science.txt', 'Philosophy.txt', 'Political philosophy.txt', \"The Philosophy of 'As if'.txt\", 'Western philosophy.txt', 'Will (philosophy).txt']\n",
      "2532\n",
      "\n",
      " *** Importing literature\n",
      "['Erotic literature.txt', 'Grey literature.txt', 'History of literature.txt', 'Literature review.txt', 'Literature.txt', 'Nobel Prize in Literature.txt', 'Philippine literature.txt', 'Victorian literature.txt', 'Western literature.txt', 'World literature.txt']\n",
      "2892\n",
      "\n",
      " *** Importing physics\n",
      "['Glossary of physics.txt', 'Nobel Prize in Physics.txt', 'Nuclear physics.txt', 'Particle physics.txt', 'Plasma (physics).txt', 'Power (physics).txt', 'Quantum mechanics.txt', 'Theoretical physics.txt', 'Work (physics).txt']\n",
      "3341\n",
      "\n"
     ]
    }
   ],
   "source": [
    "save_dataset(CATEGORIES, \"dataset_cat\")"
   ]
  },
  {
   "cell_type": "code",
   "execution_count": 27,
   "metadata": {},
   "outputs": [],
   "source": [
    "def noise_removal(text):\n",
    "    text = re.sub('@', '', text)    \n",
    "    text = re.sub('#', '', text)    \n",
    "    text = re.sub('°', '', text)\n",
    "    #text = re.sub('<[/A-Za-z]*>', '', text)\n",
    "    text = re.sub('\\...', '', text)\n",
    "    return text"
   ]
  },
  {
   "cell_type": "code",
   "execution_count": 28,
   "metadata": {},
   "outputs": [],
   "source": [
    "def normalization(text):\n",
    "    text = text.replace(\":-)\", \"smile\")\n",
    "    text = text.replace(\":)\", \"smile\")\n",
    "    text = text.replace(\":D\", \"smile\")\n",
    "    text = text.replace(\"b4\", \"before\")\n",
    "    text = text.replace(\"\\n\", \" \")\n",
    "    text = text.replace(\",\", \" , \")\n",
    "    text = text.replace(\".\", \" . \")\n",
    "    text = text.replace(\":\", \" : \")\n",
    "    text = text.replace(\";\", \" ; \")\n",
    "    text = text.replace(\"   \", \" \")\n",
    "    text = text.replace(\"  \", \" \")\n",
    "    text = text.replace(\"  \", \" \")    \n",
    "    return text"
   ]
  },
  {
   "cell_type": "code",
   "execution_count": 22,
   "metadata": {},
   "outputs": [
    {
     "name": "stderr",
     "output_type": "stream",
     "text": [
      "[nltk_data] Downloading package punkt to\n",
      "[nltk_data]     C:\\Users\\lpdepersiis\\AppData\\Roaming\\nltk_data...\n",
      "[nltk_data]   Package punkt is already up-to-date!\n"
     ]
    },
    {
     "data": {
      "text/plain": [
       "True"
      ]
     },
     "execution_count": 22,
     "metadata": {},
     "output_type": "execute_result"
    }
   ],
   "source": [
    "nltk.download('punkt')"
   ]
  },
  {
   "cell_type": "code",
   "execution_count": 23,
   "metadata": {},
   "outputs": [],
   "source": [
    "def stopword_removal(text):\n",
    "    new_words = []\n",
    "    for word in text:\n",
    "        if word not in stopwords.words('english'):\n",
    "            new_words.append(word)\n",
    "    return new_words\n",
    "    "
   ]
  },
  {
   "cell_type": "code",
   "execution_count": 39,
   "metadata": {},
   "outputs": [],
   "source": [
    "def preprocess_text(text):\n",
    "    #print(text)\n",
    "    text = text.lower()\n",
    "    #print(text)\n",
    "    text = normalization(text)\n",
    "    #print(text)\n",
    "    text = noise_removal(text)\n",
    "    #print(text)\n",
    "    text = text.split(' ')\n",
    "    #text = nltk.word_tokenize(text)\n",
    "    #print(text)\n",
    "    text = stopword_removal(text)\n",
    "    \n",
    "    return text"
   ]
  },
  {
   "cell_type": "code",
   "execution_count": 58,
   "metadata": {},
   "outputs": [],
   "source": [
    "text = \"asfdaf, Risultati immagini per bloomberg health care efficiency * # The Bloomberg Health-Efficiency Index, first conducted in 2013, tracks life expectancy and medical spending to determine which health-care systems have the best outcomes.\""
   ]
  },
  {
   "cell_type": "code",
   "execution_count": 44,
   "metadata": {},
   "outputs": [],
   "source": [
    "#print(preprocess_text(text))"
   ]
  },
  {
   "cell_type": "code",
   "execution_count": null,
   "metadata": {},
   "outputs": [],
   "source": [
    "print(noise_removal(text))"
   ]
  },
  {
   "cell_type": "code",
   "execution_count": 40,
   "metadata": {},
   "outputs": [],
   "source": [
    "def get_one_hot(pos, len_vect):\n",
    "    vec = np.zeros(len_vect)\n",
    "    vec[int(pos)] = 1\n",
    "    return vec"
   ]
  },
  {
   "cell_type": "code",
   "execution_count": 41,
   "metadata": {},
   "outputs": [
    {
     "name": "stdout",
     "output_type": "stream",
     "text": [
      "[0. 0. 1. 0. 0. 0. 0.]\n"
     ]
    }
   ],
   "source": [
    "print(get_one_hot(2, 7))"
   ]
  },
  {
   "cell_type": "code",
   "execution_count": 1,
   "metadata": {},
   "outputs": [],
   "source": [
    "def get_x_y_preprocessed(name_file):\n",
    "    x_rec = []\n",
    "    y_rec = []\n",
    "    with open(DATASET_PATH + name_file + \".csv\", 'r', encoding='UTF-8') as file_dtset:\n",
    "        reader = csv.reader(file_dtset, delimiter= ',')\n",
    "        lines = [line for line in reader]\n",
    "        #header = next(lines)\n",
    "        # pbar = tqdm(lines)\n",
    "        for row in tqdm(lines, total=len(lines)):\n",
    "            try:\n",
    "                text = row[0]\n",
    "                text = preprocess_text(text)\n",
    "                x_rec.append(text)\n",
    "                y_rec.append(get_one_hot(row[1], len(CATEGORIES)))\n",
    "                #print(type(y_rec))\n",
    "                #print(type(x_rec))\n",
    "            except:\n",
    "                print(\"Exception:\", row[0], row[1])\n",
    "        y_rec = np.array(y_rec)\n",
    "        \n",
    "    return x_rec, y_rec\n"
   ]
  },
  {
   "cell_type": "code",
   "execution_count": 43,
   "metadata": {},
   "outputs": [
    {
     "data": {
      "application/vnd.jupyter.widget-view+json": {
       "model_id": "1458a099afe3473fa5839afce2481125",
       "version_major": 2,
       "version_minor": 0
      },
      "text/plain": [
       "HBox(children=(HTML(value=''), FloatProgress(value=0.0, max=3341.0), HTML(value='')))"
      ]
     },
     "metadata": {},
     "output_type": "display_data"
    },
    {
     "name": "stdout",
     "output_type": "stream",
     "text": [
      "\n"
     ]
    }
   ],
   "source": [
    "x_rec, y_rec = get_x_y_preprocessed(\"dataset_cat\")"
   ]
  },
  {
   "cell_type": "code",
   "execution_count": 45,
   "metadata": {},
   "outputs": [
    {
     "name": "stdout",
     "output_type": "stream",
     "text": [
      "<class 'numpy.ndarray'>\n"
     ]
    }
   ],
   "source": [
    "print(type(y_rec))"
   ]
  },
  {
   "cell_type": "code",
   "execution_count": 46,
   "metadata": {},
   "outputs": [
    {
     "name": "stdout",
     "output_type": "stream",
     "text": [
      "3341\n",
      "(3341, 7)\n"
     ]
    }
   ],
   "source": [
    "print(len(x_rec))\n",
    "print(y_rec.shape)"
   ]
  },
  {
   "cell_type": "code",
   "execution_count": 47,
   "metadata": {},
   "outputs": [
    {
     "name": "stdout",
     "output_type": "stream",
     "text": [
      "[[1. 0. 0. ... 0. 0. 0.]\n",
      " [1. 0. 0. ... 0. 0. 0.]\n",
      " [1. 0. 0. ... 0. 0. 0.]\n",
      " ...\n",
      " [0. 0. 0. ... 0. 0. 1.]\n",
      " [0. 0. 0. ... 0. 0. 1.]\n",
      " [0. 0. 0. ... 0. 0. 1.]]\n"
     ]
    }
   ],
   "source": [
    "print(y_rec)"
   ]
  },
  {
   "cell_type": "code",
   "execution_count": null,
   "metadata": {},
   "outputs": [],
   "source": []
  }
 ],
 "metadata": {
  "kernelspec": {
   "display_name": "Python 3",
   "language": "python",
   "name": "python3"
  },
  "language_info": {
   "codemirror_mode": {
    "name": "ipython",
    "version": 3
   },
   "file_extension": ".py",
   "mimetype": "text/x-python",
   "name": "python",
   "nbconvert_exporter": "python",
   "pygments_lexer": "ipython3",
   "version": "3.8.5"
  }
 },
 "nbformat": 4,
 "nbformat_minor": 4
}
