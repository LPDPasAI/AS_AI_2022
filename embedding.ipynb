{
 "cells": [
  {
   "cell_type": "markdown",
   "metadata": {},
   "source": [
    "# Embedding"
   ]
  },
  {
   "cell_type": "code",
   "execution_count": 1,
   "metadata": {},
   "outputs": [],
   "source": [
    "import numpy as np\n",
    "import os\n",
    "from gensim.models import KeyedVectors"
   ]
  },
  {
   "cell_type": "code",
   "execution_count": 2,
   "metadata": {},
   "outputs": [],
   "source": [
    "from gensim.scripts.glove2word2vec import glove2word2vec"
   ]
  },
  {
   "cell_type": "code",
   "execution_count": 3,
   "metadata": {},
   "outputs": [],
   "source": [
    "MY_EMBEDDING_PATH = \"C:\\\\Users\\\\lpdepersiis\\\\PycharmProjects\\\\autoencoderNlp\\\\embedding\\\\en\\\\glove\\\\\""
   ]
  },
  {
   "cell_type": "code",
   "execution_count": 4,
   "metadata": {},
   "outputs": [],
   "source": [
    "EMBEDDING_DIM = 100"
   ]
  },
  {
   "cell_type": "code",
   "execution_count": null,
   "metadata": {},
   "outputs": [],
   "source": [
    "os.listdir(MY_EMBEDDING_PATH)"
   ]
  },
  {
   "cell_type": "code",
   "execution_count": 5,
   "metadata": {},
   "outputs": [
    {
     "name": "stdout",
     "output_type": "stream",
     "text": [
      "the -0.038194 -0.24487 0.72812 -0.39961 0.083172 0.043953 -0.39141 0.3344 -0.57545 0.087459 0.28787 -0.06731 0.30906 -0.26384 -0.13231 -0.20757 0.33395 -0.33848 -0.31743 -0.48336 0.1464 -0.37304 0.34577 0.052041 0.44946 -0.46971 0.02628 -0.54155 -0.15518 -0.14107 -0.039722 0.28277 0.14393 0.23464 -0.31021 0.086173 0.20397 0.52624 0.17164 -0.082378 -0.71787 -0.41531 0.20335 -0.12763 0.41367 0.55187 0.57908 -0.33477 -0.36559 -0.54857 -0.062892 0.26584 0.30205 0.99775 -0.80481 -3.0243 0.01254 -0.36942 2.2167 0.72201 -0.24978 0.92136 0.034514 0.46745 1.1079 -0.19358 -0.074575 0.23353 -0.052062 -0.22044 0.057162 -0.15806 -0.30798 -0.41625 0.37972 0.15006 -0.53212 -0.2055 -1.2526 0.071624 0.70565 0.49744 -0.42063 0.26148 -1.538 -0.30223 -0.073438 -0.28312 0.37104 -0.25217 0.016215 -0.017099 -0.38984 0.87424 -0.72569 -0.51058 -0.52028 -0.1459 0.8278 0.27062\n",
      "\n",
      ", -0.10767 0.11053 0.59812 -0.54361 0.67396 0.10663 0.038867 0.35481 0.06351 -0.094189 0.15786 -0.81665 0.14172 0.21939 0.58505 -0.52158 0.22783 -0.16642 -0.68228 0.3587 0.42568 0.19021 0.91963 0.57555 0.46185 0.42363 -0.095399 -0.42749 -0.16567 -0.056842 -0.29595 0.26037 -0.26606 -0.070404 -0.27662 0.15821 0.69825 0.43081 0.27952 -0.45437 -0.33801 -0.58184 0.22364 -0.5778 -0.26862 -0.20425 0.56394 -0.58524 -0.14365 -0.64218 0.0054697 -0.35248 0.16162 1.1796 -0.47674 -2.7553 -0.1321 -0.047729 1.0655 1.1034 -0.2208 0.18669 0.13177 0.15117 0.7131 -0.35215 0.91348 0.61783 0.70992 0.23955 -0.14571 -0.37859 -0.045959 -0.47368 0.2385 0.20536 -0.18996 0.32507 -1.1112 -0.36341 0.98679 -0.084776 -0.54008 0.11726 -1.0194 -0.24424 0.12771 0.013884 0.080374 -0.35414 0.34951 -0.7226 0.37549 0.4441 -0.99059 0.61214 -0.35111 -0.83155 0.45293 0.082577\n",
      "\n",
      ". -0.33979 0.20941 0.46348 -0.64792 -0.38377 0.038034 0.17127 0.15978 0.46619 -0.019169 0.41479 -0.34349 0.26872 0.04464 0.42131 -0.41032 0.15459 0.022239 -0.64653 0.25256 0.043136 -0.19445 0.46516 0.45651 0.68588 0.091295 0.21875 -0.70351 0.16785 -0.35079 -0.12634 0.66384 -0.2582 0.036542 -0.13605 0.40253 0.14289 0.38132 -0.12283 -0.45886 -0.25282 -0.30432 -0.11215 -0.26182 -0.22482 -0.44554 0.2991 -0.85612 -0.14503 -0.49086 0.0082973 -0.17491 0.27524 1.4401 -0.21239 -2.8435 -0.27958 -0.45722 1.6386 0.78808 -0.55262 0.65 0.086426 0.39012 1.0632 -0.35379 0.48328 0.346 0.84174 0.098707 -0.24213 -0.27053 0.045287 -0.40147 0.11395 0.0062226 0.036673 0.018518 -1.0213 -0.20806 0.64072 -0.068763 -0.58635 0.33476 -1.1432 -0.1148 -0.25091 -0.45907 -0.096819 -0.17946 -0.063351 -0.67412 -0.068895 0.53604 -0.87773 0.31802 -0.39242 -0.23394 0.47298 -0.028803\n",
      "\n"
     ]
    }
   ],
   "source": [
    "with open(MY_EMBEDDING_PATH + 'glove.6B.100d.txt', 'r') as file_emb:\n",
    "    for i in range (3):\n",
    "        riga = file_emb.readline()\n",
    "        print(riga)"
   ]
  },
  {
   "cell_type": "code",
   "execution_count": 6,
   "metadata": {},
   "outputs": [],
   "source": [
    "word_matrix = {}\n",
    "with open(MY_EMBEDDING_PATH + 'glove.6B.100d.txt', 'r', encoding='UTF-8') as file_emb:\n",
    "    for row in file_emb: \n",
    "        row = row.split() \n",
    "        word_matrix[row[0]] = np.array(row[1:], dtype='float32') \n"
   ]
  },
  {
   "cell_type": "code",
   "execution_count": 7,
   "metadata": {},
   "outputs": [
    {
     "data": {
      "text/plain": [
       "array([-0.038194, -0.24487 ,  0.72812 , -0.39961 ,  0.083172,  0.043953,\n",
       "       -0.39141 ,  0.3344  , -0.57545 ,  0.087459,  0.28787 , -0.06731 ,\n",
       "        0.30906 , -0.26384 , -0.13231 , -0.20757 ,  0.33395 , -0.33848 ,\n",
       "       -0.31743 , -0.48336 ,  0.1464  , -0.37304 ,  0.34577 ,  0.052041,\n",
       "        0.44946 , -0.46971 ,  0.02628 , -0.54155 , -0.15518 , -0.14107 ,\n",
       "       -0.039722,  0.28277 ,  0.14393 ,  0.23464 , -0.31021 ,  0.086173,\n",
       "        0.20397 ,  0.52624 ,  0.17164 , -0.082378, -0.71787 , -0.41531 ,\n",
       "        0.20335 , -0.12763 ,  0.41367 ,  0.55187 ,  0.57908 , -0.33477 ,\n",
       "       -0.36559 , -0.54857 , -0.062892,  0.26584 ,  0.30205 ,  0.99775 ,\n",
       "       -0.80481 , -3.0243  ,  0.01254 , -0.36942 ,  2.2167  ,  0.72201 ,\n",
       "       -0.24978 ,  0.92136 ,  0.034514,  0.46745 ,  1.1079  , -0.19358 ,\n",
       "       -0.074575,  0.23353 , -0.052062, -0.22044 ,  0.057162, -0.15806 ,\n",
       "       -0.30798 , -0.41625 ,  0.37972 ,  0.15006 , -0.53212 , -0.2055  ,\n",
       "       -1.2526  ,  0.071624,  0.70565 ,  0.49744 , -0.42063 ,  0.26148 ,\n",
       "       -1.538   , -0.30223 , -0.073438, -0.28312 ,  0.37104 , -0.25217 ,\n",
       "        0.016215, -0.017099, -0.38984 ,  0.87424 , -0.72569 , -0.51058 ,\n",
       "       -0.52028 , -0.1459  ,  0.8278  ,  0.27062 ], dtype=float32)"
      ]
     },
     "execution_count": 7,
     "metadata": {},
     "output_type": "execute_result"
    }
   ],
   "source": [
    "word_matrix[\"the\"]"
   ]
  },
  {
   "cell_type": "code",
   "execution_count": 8,
   "metadata": {},
   "outputs": [],
   "source": [
    "glove_file_path = MY_EMBEDDING_PATH + 'glove.6B.100d.txt' # the path of glove embedding\n",
    "word2vec_glove_file_path = MY_EMBEDDING_PATH + 'glove.6B.word2vec.txt' \n",
    "glove2word2vec(glove_file_path, word2vec_glove_file_path)\n",
    "\n",
    "model = KeyedVectors.load_word2vec_format(MY_EMBEDDING_PATH + 'glove.6B.word2vec.txt')"
   ]
  },
  {
   "cell_type": "code",
   "execution_count": 9,
   "metadata": {},
   "outputs": [],
   "source": [
    "def euclidean_distance(word1, word2):\n",
    "    v1 = model[word1]\n",
    "    v2 = model[word2]\n",
    "    eucl = np.sqrt(np.sum((v1-v2)**2))\n",
    "    return eucl"
   ]
  },
  {
   "cell_type": "code",
   "execution_count": 10,
   "metadata": {},
   "outputs": [
    {
     "name": "stdout",
     "output_type": "stream",
     "text": [
      "<class 'gensim.models.keyedvectors.Word2VecKeyedVectors'>\n"
     ]
    }
   ],
   "source": [
    "print(type(model))\n"
   ]
  },
  {
   "cell_type": "code",
   "execution_count": 12,
   "metadata": {},
   "outputs": [
    {
     "name": "stdout",
     "output_type": "stream",
     "text": [
      "[ 0.058599  0.32109   0.13023  -0.082613 -0.21887  -0.36561  -0.61741\n",
      " -0.38255  -0.15554  -1.2769   -0.33592   0.72739   0.83975   0.15045\n",
      "  0.15586   0.58761   0.76943   0.050015 -0.74405   0.27222  -0.17157\n",
      " -0.0263   -0.41211   0.2121   -0.063788  0.72447  -1.3064    0.18043\n",
      " -0.23386  -0.087528  0.65693  -0.31243   0.027384  0.067259 -0.088452\n",
      " -0.3833    0.47839   0.27438   0.6315   -0.43812   0.42713  -0.16148\n",
      " -0.51099  -0.11995  -0.021659  0.34015   0.35593   0.55595  -0.84954\n",
      " -0.52109  -0.3573   -0.32797   0.1428    0.87888   0.25859  -2.0342\n",
      " -0.016375 -0.36715   0.78913   0.013592  0.68704   1.2293   -0.29089\n",
      "  0.34655   0.95929   0.044547  0.20548   0.34915   0.074704  0.17018\n",
      " -0.89121  -0.42363  -0.43282   0.1571   -0.014452  0.070268 -0.90682\n",
      " -0.19523  -0.94521  -0.14821   0.46188  -0.20295  -0.28233  -0.32566\n",
      " -0.44746  -0.41196  -0.38912  -0.63425   0.83687   0.48267   0.097352\n",
      " -0.45653   0.64334  -0.79794  -0.35467   0.20268  -0.68918   0.11792\n",
      "  0.36543   0.22123 ]\n"
     ]
    }
   ],
   "source": [
    "v1 = model[\"bear\"]\n",
    "print(v1)"
   ]
  },
  {
   "cell_type": "code",
   "execution_count": null,
   "metadata": {},
   "outputs": [],
   "source": [
    "print(v1)"
   ]
  },
  {
   "cell_type": "code",
   "execution_count": 17,
   "metadata": {},
   "outputs": [
    {
     "name": "stdout",
     "output_type": "stream",
     "text": [
      "4.5664806\n"
     ]
    }
   ],
   "source": [
    "print(euclidean_distance(\"spain\", \"france\"))"
   ]
  },
  {
   "cell_type": "code",
   "execution_count": 18,
   "metadata": {},
   "outputs": [],
   "source": [
    "def cos_similarity(word1, word2):\n",
    "    v1 = model[word1]\n",
    "    v2 = model[word2]\n",
    "    cos = np.dot(v1, v2) /( np.sqrt(np.dot(v1, v1)) *  np.sqrt(np.dot(v2, v2)) )\n",
    "    return cos   "
   ]
  },
  {
   "cell_type": "code",
   "execution_count": 21,
   "metadata": {},
   "outputs": [
    {
     "name": "stdout",
     "output_type": "stream",
     "text": [
      "0.46939516\n"
     ]
    }
   ],
   "source": [
    "print(cos_similarity(\"man\", \"stone\"))"
   ]
  },
  {
   "cell_type": "code",
   "execution_count": 22,
   "metadata": {},
   "outputs": [
    {
     "data": {
      "text/plain": [
       "[('woman', 0.832349419593811),\n",
       " ('boy', 0.7914870977401733),\n",
       " ('one', 0.7788748741149902),\n",
       " ('person', 0.7526816129684448),\n",
       " ('another', 0.752223551273346),\n",
       " ('old', 0.7409117221832275),\n",
       " ('life', 0.7371696829795837),\n",
       " ('father', 0.7370322942733765),\n",
       " ('turned', 0.7347694635391235),\n",
       " ('who', 0.7345511317253113)]"
      ]
     },
     "execution_count": 22,
     "metadata": {},
     "output_type": "execute_result"
    }
   ],
   "source": [
    "model.most_similar(\"man\")"
   ]
  },
  {
   "cell_type": "code",
   "execution_count": 23,
   "metadata": {},
   "outputs": [
    {
     "data": {
      "text/plain": [
       "[('freedoms', 0.7783921957015991),\n",
       " ('rights', 0.7624185085296631),\n",
       " ('democracy', 0.73871248960495),\n",
       " ('liberty', 0.7168192267417908),\n",
       " ('independence', 0.7036619782447815),\n",
       " ('equality', 0.7002560496330261),\n",
       " ('dignity', 0.6816196441650391),\n",
       " ('liberties', 0.680070161819458),\n",
       " ('respect', 0.6753633618354797),\n",
       " ('free', 0.6614599227905273)]"
      ]
     },
     "execution_count": 23,
     "metadata": {},
     "output_type": "execute_result"
    }
   ],
   "source": [
    "model.most_similar(\"freedom\")"
   ]
  },
  {
   "cell_type": "code",
   "execution_count": 24,
   "metadata": {},
   "outputs": [
    {
     "data": {
      "text/plain": [
       "[('reconciliation', 0.7765945196151733),\n",
       " ('accord', 0.7573467493057251),\n",
       " ('talks', 0.744116485118866),\n",
       " ('unity', 0.7382168769836426),\n",
       " ('ceasefire', 0.7309714555740356),\n",
       " ('truce', 0.725864827632904),\n",
       " ('progress', 0.7246789932250977),\n",
       " ('negotiations', 0.7207326889038086),\n",
       " ('cease', 0.7177103757858276),\n",
       " ('conflict', 0.7151065468788147)]"
      ]
     },
     "execution_count": 24,
     "metadata": {},
     "output_type": "execute_result"
    }
   ],
   "source": [
    "model.most_similar(\"peace\")"
   ]
  },
  {
   "cell_type": "code",
   "execution_count": 25,
   "metadata": {},
   "outputs": [
    {
     "data": {
      "text/plain": [
       "[('criminal', 0.7858530879020691),\n",
       " ('crimes', 0.7696138024330139),\n",
       " ('murder', 0.6961432695388794),\n",
       " ('trafficking', 0.6933754682540894),\n",
       " ('terrorism', 0.6890307664871216),\n",
       " ('homicide', 0.6839002966880798),\n",
       " ('corruption', 0.6802183389663696),\n",
       " ('criminals', 0.6694587469100952),\n",
       " ('gang', 0.6650997400283813),\n",
       " ('dealing', 0.6498420238494873)]"
      ]
     },
     "execution_count": 25,
     "metadata": {},
     "output_type": "execute_result"
    }
   ],
   "source": [
    "model.most_similar(\"crime\")"
   ]
  },
  {
   "cell_type": "code",
   "execution_count": 26,
   "metadata": {},
   "outputs": [
    {
     "data": {
      "text/plain": [
       "[('studies', 0.832676887512207),\n",
       " ('college', 0.8150205612182617),\n",
       " ('students', 0.7983406782150269),\n",
       " ('university', 0.7973281741142273),\n",
       " ('teaching', 0.784005880355835),\n",
       " ('education', 0.7823034524917603),\n",
       " ('schools', 0.7784463763237),\n",
       " ('graduate', 0.7747242450714111),\n",
       " ('student', 0.761145830154419),\n",
       " ('studying', 0.7476437091827393)]"
      ]
     },
     "execution_count": 26,
     "metadata": {},
     "output_type": "execute_result"
    }
   ],
   "source": [
    "model.most_similar([\"school\", 'study'])"
   ]
  },
  {
   "cell_type": "code",
   "execution_count": 29,
   "metadata": {},
   "outputs": [
    {
     "data": {
      "text/plain": [
       "[('animals', 0.8552765250205994),\n",
       " ('human', 0.7462461590766907),\n",
       " ('livestock', 0.6930027008056641),\n",
       " ('dog', 0.6817063093185425),\n",
       " ('insect', 0.6751538515090942),\n",
       " ('humans', 0.6686381697654724),\n",
       " ('pet', 0.6652495861053467),\n",
       " ('dogs', 0.6558347940444946),\n",
       " ('bird', 0.6503939628601074),\n",
       " ('fish', 0.6432332992553711)]"
      ]
     },
     "execution_count": 29,
     "metadata": {},
     "output_type": "execute_result"
    }
   ],
   "source": [
    "model.most_similar(positive=[\"animal\"]) # , negative=[\"farm\"]"
   ]
  },
  {
   "cell_type": "code",
   "execution_count": 30,
   "metadata": {},
   "outputs": [
    {
     "data": {
      "text/plain": [
       "[('coastal', 0.661559522151947),\n",
       " ('ocean', 0.6466212868690491),\n",
       " ('waters', 0.6355233192443848),\n",
       " ('port', 0.6046868562698364),\n",
       " ('coast', 0.5993459224700928),\n",
       " ('seas', 0.5930671691894531),\n",
       " ('maritime', 0.5906367301940918),\n",
       " ('coastline', 0.5898096561431885),\n",
       " ('southern', 0.5802326202392578),\n",
       " ('mediterranean', 0.5787149667739868)]"
      ]
     },
     "execution_count": 30,
     "metadata": {},
     "output_type": "execute_result"
    }
   ],
   "source": [
    "model.most_similar(positive=[\"city\", 'sea'], negative=[\"home\"])"
   ]
  },
  {
   "cell_type": "code",
   "execution_count": 31,
   "metadata": {},
   "outputs": [
    {
     "data": {
      "text/plain": [
       "[('queen', 0.7698541283607483),\n",
       " ('monarch', 0.6843380928039551),\n",
       " ('throne', 0.6755737066268921),\n",
       " ('daughter', 0.6594556570053101),\n",
       " ('princess', 0.6520533561706543),\n",
       " ('prince', 0.6517034769058228),\n",
       " ('elizabeth', 0.6464517116546631),\n",
       " ('mother', 0.631171703338623),\n",
       " ('emperor', 0.6106470823287964),\n",
       " ('wife', 0.6098655462265015)]"
      ]
     },
     "execution_count": 31,
     "metadata": {},
     "output_type": "execute_result"
    }
   ],
   "source": [
    "model.most_similar(positive=[\"woman\", 'king'], negative=[\"man\"])"
   ]
  },
  {
   "cell_type": "code",
   "execution_count": 32,
   "metadata": {},
   "outputs": [],
   "source": [
    "def similitude(w1, w2, w3):\n",
    "    w = model.most_similar(positive=[w3, w2], negative=[w1])[0][0]\n",
    "    return w"
   ]
  },
  {
   "cell_type": "code",
   "execution_count": 33,
   "metadata": {},
   "outputs": [
    {
     "name": "stdout",
     "output_type": "stream",
     "text": [
      "queen\n"
     ]
    }
   ],
   "source": [
    "print(similitude(\"man\", \"king\", \"woman\"))"
   ]
  },
  {
   "cell_type": "code",
   "execution_count": 34,
   "metadata": {},
   "outputs": [
    {
     "name": "stdout",
     "output_type": "stream",
     "text": [
      "queen\n"
     ]
    }
   ],
   "source": [
    "print(similitude(\"man\", \"woman\", \"king\"))"
   ]
  },
  {
   "cell_type": "code",
   "execution_count": 35,
   "metadata": {},
   "outputs": [
    {
     "name": "stdout",
     "output_type": "stream",
     "text": [
      "boy\n"
     ]
    }
   ],
   "source": [
    "print(similitude(\"princess\", \"prince\", \"girl\"))"
   ]
  },
  {
   "cell_type": "code",
   "execution_count": 36,
   "metadata": {},
   "outputs": [
    {
     "name": "stdout",
     "output_type": "stream",
     "text": [
      "eyes\n"
     ]
    }
   ],
   "source": [
    "print(similitude(\"house\", \"window\", \"face\"))"
   ]
  },
  {
   "cell_type": "code",
   "execution_count": 37,
   "metadata": {},
   "outputs": [
    {
     "name": "stdout",
     "output_type": "stream",
     "text": [
      "retina\n"
     ]
    }
   ],
   "source": [
    "print(similitude(\"house\", \"window\", \"eye\"))"
   ]
  },
  {
   "cell_type": "code",
   "execution_count": 38,
   "metadata": {},
   "outputs": [
    {
     "name": "stdout",
     "output_type": "stream",
     "text": [
      "three\n"
     ]
    }
   ],
   "source": [
    "print(similitude(\"one\", \"two\", \"two\"))"
   ]
  },
  {
   "cell_type": "code",
   "execution_count": null,
   "metadata": {},
   "outputs": [],
   "source": []
  }
 ],
 "metadata": {
  "kernelspec": {
   "display_name": "Python 3",
   "language": "python",
   "name": "python3"
  },
  "language_info": {
   "codemirror_mode": {
    "name": "ipython",
    "version": 3
   },
   "file_extension": ".py",
   "mimetype": "text/x-python",
   "name": "python",
   "nbconvert_exporter": "python",
   "pygments_lexer": "ipython3",
   "version": "3.8.5"
  }
 },
 "nbformat": 4,
 "nbformat_minor": 4
}
