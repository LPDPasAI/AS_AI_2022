{
 "cells": [
  {
   "cell_type": "markdown",
   "metadata": {},
   "source": [
    "# Conv1D Text Classifier\n"
   ]
  },
  {
   "cell_type": "code",
   "execution_count": 1,
   "metadata": {},
   "outputs": [],
   "source": [
    "from tensorflow.keras.preprocessing.text import Tokenizer\n",
    "import ipynb\n",
    "from ipynb.fs.defs.data_collect_preprocessing import get_x_y_preprocessed\n",
    "from ipynb.fs.defs.data_collect_preprocessing import get_one_hot\n",
    "import numpy as np\n",
    "from tensorflow.keras.preprocessing.sequence import pad_sequences\n",
    "from tensorflow.keras.models import Sequential, Model\n",
    "from tensorflow.keras.layers import InputLayer, Input, Dense, Embedding, Flatten, Dropout\n",
    "from sklearn.model_selection import train_test_split\n",
    "from keras.utils.np_utils import to_categorical\n",
    "import matplotlib.pyplot as plt\n",
    "import sys\n",
    "# from tqdm import tqdm\n",
    "# from tqdm.notebook import tqdm"
   ]
  },
  {
   "cell_type": "code",
   "execution_count": 2,
   "metadata": {},
   "outputs": [
    {
     "data": {
      "application/vnd.jupyter.widget-view+json": {
       "model_id": "51086c0dff8943c6b245c676364e1372",
       "version_major": 2,
       "version_minor": 0
      },
      "text/plain": [
       "HBox(children=(HTML(value=''), FloatProgress(value=0.0, max=3114.0), HTML(value='')))"
      ]
     },
     "metadata": {},
     "output_type": "display_data"
    },
    {
     "name": "stdout",
     "output_type": "stream",
     "text": [
      "\n"
     ]
    }
   ],
   "source": [
    "x_rec, y_rec = get_x_y_preprocessed(\"dataset_cat\")"
   ]
  },
  {
   "cell_type": "code",
   "execution_count": 3,
   "metadata": {},
   "outputs": [
    {
     "name": "stdout",
     "output_type": "stream",
     "text": [
      "type x_rec:  <class 'list'>\n",
      "type y_rec:  <class 'tuple'>\n",
      "x_rec:  3114\n",
      "y_rec:  (3114, 7)\n"
     ]
    }
   ],
   "source": [
    "print(\"type x_rec: \", type(x_rec))\n",
    "print(\"type y_rec: \", type(y_rec.shape))\n",
    "print(\"x_rec: \", len(x_rec))\n",
    "print(\"y_rec: \", y_rec.shape)"
   ]
  },
  {
   "cell_type": "code",
   "execution_count": 4,
   "metadata": {},
   "outputs": [
    {
     "name": "stdout",
     "output_type": "stream",
     "text": [
      "['bbc', 'sport', 'sports', 'division', 'bbc', ',', 'providing', 'national', 'sports', 'coverage', 'bbc', 'television', ',', 'radio', 'onlinethe', 'bbc', 'holds', 'television', 'radio', 'uk', 'broadcasting', 'rights', 'several', 'sports', ',', 'broadcasting', 'sport', 'live', 'alongside', 'flagship', 'analysis', 'programmes', 'match', 'day', ',', 'test', 'match', 'special', ',', 'ski', 'sunday', ',', 'today', 'wimbledon', 'previously', 'grandstandresults', ',', 'analysis', 'coverage', 'also', 'added', 'bbc', 'sport', 'website', 'bbc', 'red', 'button', 'interactive', 'television', 'service']\n",
      "[1. 0. 0. 0. 0. 0. 0.]\n"
     ]
    }
   ],
   "source": [
    "print(x_rec[0])\n",
    "print(y_rec[0])"
   ]
  },
  {
   "cell_type": "code",
   "execution_count": 5,
   "metadata": {},
   "outputs": [],
   "source": [
    "tokenizer = Tokenizer(num_words=2000)"
   ]
  },
  {
   "cell_type": "code",
   "execution_count": 6,
   "metadata": {},
   "outputs": [],
   "source": [
    "tokenizer.fit_on_texts(x_rec)"
   ]
  },
  {
   "cell_type": "code",
   "execution_count": 7,
   "metadata": {},
   "outputs": [],
   "source": [
    "word_index = tokenizer.word_index"
   ]
  },
  {
   "cell_type": "code",
   "execution_count": 8,
   "metadata": {},
   "outputs": [
    {
     "data": {
      "text/plain": [
       "30"
      ]
     },
     "execution_count": 8,
     "metadata": {},
     "output_type": "execute_result"
    }
   ],
   "source": [
    "word_index[\"sport\"]"
   ]
  },
  {
   "cell_type": "code",
   "execution_count": 9,
   "metadata": {},
   "outputs": [
    {
     "name": "stdout",
     "output_type": "stream",
     "text": [
      "<class 'dict'>\n"
     ]
    }
   ],
   "source": [
    "print(type(word_index))"
   ]
  },
  {
   "cell_type": "code",
   "execution_count": 10,
   "metadata": {},
   "outputs": [
    {
     "name": "stdout",
     "output_type": "stream",
     "text": [
      "2000\n"
     ]
    }
   ],
   "source": [
    "NUM_WORDS = tokenizer.num_words\n",
    "print(NUM_WORDS)"
   ]
  },
  {
   "cell_type": "markdown",
   "metadata": {},
   "source": [
    "##### trasformiamo la lista di frasi, ciascuna costituita da liste di parole, in liste degli indici corrispondenti"
   ]
  },
  {
   "cell_type": "code",
   "execution_count": 11,
   "metadata": {},
   "outputs": [],
   "source": [
    "sequences = tokenizer.texts_to_sequences(x_rec)"
   ]
  },
  {
   "cell_type": "code",
   "execution_count": 12,
   "metadata": {},
   "outputs": [
    {
     "name": "stdout",
     "output_type": "stream",
     "text": [
      "3114\n"
     ]
    }
   ],
   "source": [
    "print(len(sequences))"
   ]
  },
  {
   "cell_type": "markdown",
   "metadata": {},
   "source": [
    "##### al posto delle parole della frase precedente sono stati messi gli indici corrispondenti"
   ]
  },
  {
   "cell_type": "code",
   "execution_count": 13,
   "metadata": {},
   "outputs": [
    {
     "name": "stdout",
     "output_type": "stream",
     "text": [
      "[794, 447, 2, 447, 1702, 544, 826, 458, 1542, 732, 2, 897, 2, 2, 2, 1016, 506, 5, 1052, 54, 2, 2, 2, 661, 1895, 1790, 1397, 2, 18, 1013, 268, 660, 49, 2, 20, 57, 1702, 1013, 87]\n",
      "39\n"
     ]
    }
   ],
   "source": [
    "print(sequences[7])\n",
    "print(len(sequences[7]))"
   ]
  },
  {
   "cell_type": "code",
   "execution_count": 14,
   "metadata": {},
   "outputs": [
    {
     "name": "stdout",
     "output_type": "stream",
     "text": [
      "min: 15\n",
      "max: 1236\n",
      "mean: 45.33815028901734\n",
      "num over 40: 1129\n"
     ]
    }
   ],
   "source": [
    "seq_max = 0\n",
    "seq_min = 100\n",
    "sum_seq = 0\n",
    "num_over40 = 0\n",
    "for s in sequences:\n",
    "    sum_seq += len(s)\n",
    "    if len(s) > seq_max:\n",
    "        seq_max = len(s)\n",
    "    if len(s) < seq_min:\n",
    "        seq_min = len(s)\n",
    "    if len(s) > 40:\n",
    "        num_over40 += 1\n",
    "\n",
    "print(\"min:\", seq_min) \n",
    "print(\"max:\", seq_max) \n",
    "print(\"mean:\", sum_seq / len(sequences)) \n",
    "print(\"num over 40:\", num_over40)"
   ]
  },
  {
   "cell_type": "code",
   "execution_count": 15,
   "metadata": {},
   "outputs": [],
   "source": [
    "SENTENCE_LENGTH = 40"
   ]
  },
  {
   "cell_type": "markdown",
   "metadata": {},
   "source": [
    "##### Facciamo il padding per portare tutte le sequenze alla lunghezza impostate con la costante SENTENCE_LENGTH "
   ]
  },
  {
   "cell_type": "code",
   "execution_count": 16,
   "metadata": {},
   "outputs": [],
   "source": [
    "x_num_fix = pad_sequences(sequences, maxlen=SENTENCE_LENGTH)  "
   ]
  },
  {
   "cell_type": "markdown",
   "metadata": {},
   "source": [
    "##### Infatti la sequence precedente è diventata:"
   ]
  },
  {
   "cell_type": "code",
   "execution_count": 17,
   "metadata": {},
   "outputs": [
    {
     "data": {
      "text/plain": [
       "array([ 528,    2,  174,   18,  696,  528,  174,  570,  216,  175,   69,\n",
       "          2,   30,   57, 1542,  166, 1700, 1543, 1086,    2,  447, 1543,\n",
       "        621,    2,    2,  794, 1121,    2,  166,  243,    5, 1456,   18,\n",
       "         30, 1787,   18,  752, 1012,  528,  160])"
      ]
     },
     "execution_count": 17,
     "metadata": {},
     "output_type": "execute_result"
    }
   ],
   "source": [
    "x_num_fix[0]"
   ]
  },
  {
   "cell_type": "code",
   "execution_count": 18,
   "metadata": {},
   "outputs": [],
   "source": [
    "X_train, X_test, y_train, y_test = train_test_split(x_num_fix, y_rec, test_size=0.20, random_state=42)  # dividiamo il dataset lasciando una parte (0.2 quindi 20%) per la validation\n"
   ]
  },
  {
   "cell_type": "code",
   "execution_count": 19,
   "metadata": {},
   "outputs": [
    {
     "name": "stdout",
     "output_type": "stream",
     "text": [
      "X_train:  2491\n",
      "y_train:  (2491, 7)\n",
      "X_test:  623\n",
      "y_test:  (623, 7)\n"
     ]
    }
   ],
   "source": [
    "print(\"X_train: \", len(X_train))\n",
    "print(\"y_train: \", y_train.shape)\n",
    "print(\"X_test: \", len(X_test))\n",
    "print(\"y_test: \", y_test.shape)"
   ]
  },
  {
   "cell_type": "code",
   "execution_count": 20,
   "metadata": {},
   "outputs": [
    {
     "name": "stdout",
     "output_type": "stream",
     "text": [
      "398672\n"
     ]
    }
   ],
   "source": [
    "print(sys.getsizeof(X_train))\n"
   ]
  },
  {
   "cell_type": "markdown",
   "metadata": {},
   "source": [
    "### Basic model - embedding layer"
   ]
  },
  {
   "cell_type": "code",
   "execution_count": 21,
   "metadata": {},
   "outputs": [],
   "source": [
    "EMBEDDING_DIM = 100"
   ]
  },
  {
   "cell_type": "code",
   "execution_count": 22,
   "metadata": {},
   "outputs": [
    {
     "name": "stdout",
     "output_type": "stream",
     "text": [
      "Model: \"sequential\"\n",
      "_________________________________________________________________\n",
      " Layer (type)                Output Shape              Param #   \n",
      "=================================================================\n",
      " embedding (Embedding)       (None, 40, 100)           200100    \n",
      "                                                                 \n",
      " Layer1 (Dense)              (None, 40, 128)           12928     \n",
      "                                                                 \n",
      " Layer2 (Dense)              (None, 40, 64)            8256      \n",
      "                                                                 \n",
      " No_Layer (Flatten)          (None, 2560)              0         \n",
      "                                                                 \n",
      " Layer3 (Dense)              (None, 64)                163904    \n",
      "                                                                 \n",
      " Layer_n-1 (Dense)           (None, 48)                3120      \n",
      "                                                                 \n",
      " Output_Layer (Dense)        (None, 7)                 343       \n",
      "                                                                 \n",
      "=================================================================\n",
      "Total params: 388,651\n",
      "Trainable params: 388,651\n",
      "Non-trainable params: 0\n",
      "_________________________________________________________________\n",
      "None\n"
     ]
    }
   ],
   "source": [
    "model_basic_emb = Sequential()  # Instanziamo Sequential\n",
    "model_basic_emb.add(Embedding(NUM_WORDS + 1,  # il numero di righe (numero di parole + 1)\n",
    "                        EMBEDDING_DIM,  #  il numero di colonne (lunghezza dei vettori)\n",
    "                        input_length=SENTENCE_LENGTH,  # la lunghezza delle frasi\n",
    "                        trainable=True))\n",
    "model_basic_emb.add(Dense(128, name=\"Layer1\"))  # Aggiungiamo i vari layers (gli assegnamo anche un nome per individuarli nella stampa successiva)\n",
    "model_basic_emb.add(Dense(64, name=\"Layer2\")) \n",
    "model_basic_emb.add(Flatten(name=\"No_Layer\"))  # Aggiungiamo questo per passare dalle due dimensioni avute finora alla dimensione singola\n",
    "model_basic_emb.add(Dense(64, name=\"Layer3\"))\n",
    "model_basic_emb.add(Dense(48, name=\"Layer_n-1\"))\n",
    "model_basic_emb.add(Dense(7, activation='softmax', name=\"Output_Layer\"))  # Lo strato finale ha un numero di neuroni pari al numero di categorie\n",
    "model_basic_emb.compile(optimizer='adam', loss='categorical_crossentropy', metrics=['acc'])  # Compiliamo il modello definendo loss, metrica per la valutazione (accuratezza) \n",
    "\n",
    "print(model_basic_emb.summary())\n"
   ]
  },
  {
   "cell_type": "code",
   "execution_count": 23,
   "metadata": {},
   "outputs": [
    {
     "name": "stdout",
     "output_type": "stream",
     "text": [
      "Epoch 1/7\n",
      "20/20 [==============================] - 1s 19ms/step - loss: 1.7776 - acc: 0.3027 - val_loss: 1.5460 - val_acc: 0.3644\n",
      "Epoch 2/7\n",
      "20/20 [==============================] - 0s 8ms/step - loss: 0.9253 - acc: 0.6925 - val_loss: 0.6205 - val_acc: 0.7913\n",
      "Epoch 3/7\n",
      "20/20 [==============================] - 0s 8ms/step - loss: 0.2166 - acc: 0.9422 - val_loss: 0.3810 - val_acc: 0.8844\n",
      "Epoch 4/7\n",
      "20/20 [==============================] - 0s 9ms/step - loss: 0.0554 - acc: 0.9839 - val_loss: 0.3637 - val_acc: 0.8925\n",
      "Epoch 5/7\n",
      "20/20 [==============================] - 0s 8ms/step - loss: 0.0139 - acc: 0.9980 - val_loss: 0.3482 - val_acc: 0.9037\n",
      "Epoch 6/7\n",
      "20/20 [==============================] - 0s 8ms/step - loss: 0.0038 - acc: 1.0000 - val_loss: 0.3598 - val_acc: 0.9117\n",
      "Epoch 7/7\n",
      "20/20 [==============================] - 0s 9ms/step - loss: 0.0017 - acc: 1.0000 - val_loss: 0.3590 - val_acc: 0.9085\n"
     ]
    }
   ],
   "source": [
    "history_basic_emb = model_basic_emb.fit(X_train, y_train, epochs=7, verbose=1, batch_size=128, validation_data=(X_test, y_test))"
   ]
  },
  {
   "cell_type": "code",
   "execution_count": 24,
   "metadata": {
    "scrolled": false
   },
   "outputs": [],
   "source": [
    "\n",
    "def plot_loss_accuracy(acc, val_acc, loss, val_loss):\n",
    "    plt.figure(figsize=(10, 10))\n",
    "    plt.subplot(2, 1, 1)\n",
    "    plt.plot(acc, label='Training Accuracy')\n",
    "    plt.plot(val_acc, label='Validation Accuracy')\n",
    "    plt.legend(loc='lower right')\n",
    "    plt.ylabel('Accuracy')\n",
    "    plt.title('Training and Validation Accuracy')\n",
    "\n",
    "    plt.subplot(2, 1, 2)\n",
    "    plt.plot(loss, label='Training Loss')\n",
    "    plt.plot(val_loss, label='Validation Loss')\n",
    "    plt.legend(loc='upper right')\n",
    "    plt.ylabel('Cross Entropy')\n",
    "    plt.title('Training and Validation Loss')\n",
    "    plt.xlabel('epoch')\n",
    "    plt.show()\n",
    "    "
   ]
  },
  {
   "cell_type": "code",
   "execution_count": 25,
   "metadata": {},
   "outputs": [
    {
     "data": {
      "image/png": "[encoded data removed]",
      "text/plain": [
       "<Figure size 720x720 with 2 Axes>"
      ]
     },
     "metadata": {
      "needs_background": "light"
     },
     "output_type": "display_data"
    }
   ],
   "source": [
    "acc = history_basic_emb.history['acc']\n",
    "val_acc = history_basic_emb.history['val_acc']\n",
    "\n",
    "loss = history_basic_emb.history['loss']\n",
    "val_loss = history_basic_emb.history['val_loss']\n",
    "\n",
    "plot_loss_accuracy(acc, val_acc, loss, val_loss)"
   ]
  },
  {
   "cell_type": "markdown",
   "metadata": {},
   "source": [
    "### Basic model - embedding glove"
   ]
  },
  {
   "cell_type": "code",
   "execution_count": 26,
   "metadata": {},
   "outputs": [],
   "source": [
    "MY_EMBEDDING_PATH = \"C:\\\\Users\\\\lpdepersiis\\\\PycharmProjects\\\\autoencoderNlp\\\\embedding\\\\en\\\\glove\\\\\"\n"
   ]
  },
  {
   "cell_type": "code",
   "execution_count": 27,
   "metadata": {},
   "outputs": [],
   "source": [
    "def get_word_matrix():\n",
    "    \"\"\"\n",
    "    Questa funzione ci serve per crearci un dizionario avente come indice la parola e come valore il vettore dell'embedding corrispondente\n",
    "    \"\"\"\n",
    "    word_matrix = {}\n",
    "    with open(MY_EMBEDDING_PATH + 'glove.6B.100d.txt', 'r', encoding='UTF-8') as file_emb:\n",
    "        #lines = [line for line in file_emb]\n",
    "        for row in file_emb:   # tqdm(lines, total=len(lines)): # leggo ogni riga del file di testo contenente l'embedding\n",
    "            row = row.split() # la divido nei suoi elementi\n",
    "            word_matrix[row[0]] = np.array(row[1:], dtype='float32') # il primo è la parola e sarà l'indice di questa voce, gli altri andranno a formare il vettore \n",
    "    return word_matrix"
   ]
  },
  {
   "cell_type": "code",
   "execution_count": 28,
   "metadata": {},
   "outputs": [
    {
     "name": "stdout",
     "output_type": "stream",
     "text": [
      "400000\n"
     ]
    }
   ],
   "source": [
    "word_matrix = get_word_matrix()\n",
    "\n",
    "print(len(word_matrix))"
   ]
  },
  {
   "cell_type": "code",
   "execution_count": 29,
   "metadata": {},
   "outputs": [
    {
     "data": {
      "text/plain": [
       "array([-0.18867  , -0.040943 ,  0.58878  ,  0.11062  ,  0.14236  ,\n",
       "        0.4885   , -0.31832  ,  0.53819  , -0.018549 ,  0.029687 ,\n",
       "        0.30299  , -0.16522  , -0.18896  ,  0.5148   , -0.79405  ,\n",
       "        0.26409  ,  0.027747 ,  0.041163 , -0.49378  , -0.14263  ,\n",
       "        0.29017  , -0.25369  ,  0.70559  , -1.0501   , -0.49344  ,\n",
       "       -0.37148  , -0.85796  , -0.55158  , -0.60251  , -0.0099676,\n",
       "        0.8725   ,  0.12149  ,  0.551    ,  0.49924  , -0.3088   ,\n",
       "        1.1067   , -0.15494  , -0.29923  ,  0.91149  ,  0.19859  ,\n",
       "       -0.73946  , -1.0182   ,  0.37208  , -0.10043  ,  0.13537  ,\n",
       "       -0.52687  , -0.60437  , -0.15906  ,  0.49283  , -0.61386  ,\n",
       "        0.046815 , -0.88806  ,  0.60229  ,  0.72199  , -0.4316   ,\n",
       "       -3.0706   , -0.11233  , -0.45713  ,  0.95737  ,  0.59174  ,\n",
       "       -0.17124  ,  0.65746  ,  0.44741  ,  0.6101   ,  1.0216   ,\n",
       "       -0.2458   ,  0.90191  ,  0.78319  ,  0.28272  , -0.4539   ,\n",
       "        0.16309  , -0.0078932, -0.27714  , -0.87249  , -0.19716  ,\n",
       "       -0.076285 , -0.28422  , -0.089584 , -1.3132   ,  0.16372  ,\n",
       "       -0.25441  , -0.076529 ,  0.44458  , -0.17525  , -0.74084  ,\n",
       "       -0.25415  ,  0.52886  , -0.46958  ,  0.16487  , -0.57443  ,\n",
       "        0.47239  , -0.52798  ,  0.65184  ,  0.803    , -0.93156  ,\n",
       "       -0.055967 ,  0.26932  ,  0.16221  ,  1.1238   , -0.4168   ],\n",
       "      dtype=float32)"
      ]
     },
     "execution_count": 29,
     "metadata": {},
     "output_type": "execute_result"
    }
   ],
   "source": [
    "word_matrix[\"house\"]  "
   ]
  },
  {
   "cell_type": "markdown",
   "metadata": {},
   "source": [
    "##### ora abbiamo l'indice ottenuto tramite Tokenizer dai nostri testi ed abbiamo un dizionario che fa corrispondere ad ogni parola il vettore corrispondente dell'embedding GloVe, dobbiamo creare una matrice in cui le righe siano nello stesso ordine dell'indice ottenuto dal tokenizer e che contenga solo quei vettori (più lo 0 che è lasciato con un vettore di zeri per essere usato ad indicare l'assenza di una parola)"
   ]
  },
  {
   "cell_type": "code",
   "execution_count": 30,
   "metadata": {},
   "outputs": [],
   "source": [
    "def get_embedding_matrix(embeddings_index, word_index, dim_embeddings=EMBEDDING_DIM, num_words=NUM_WORDS):\n",
    "    \"\"\"\n",
    "    Tramite questa funzione creiamo una matrice in cui le righe siano nello stesso ordine dell'indice ottenuto dal tokenizer \n",
    "    e che contenga solo i vettori relativi alle parole in esso contenute\n",
    "    \n",
    "    :param embeddings_index: il dizionario, ottenuto dall'embedding, avente le parole come indice ed i vettori come valore\n",
    "    :param word_index:  il dizionario ottenuto dal tokenizer avente come indice la parola e come valore il suo indice\n",
    "    :param dim_embeddings: la lunghezza dei vettori dell'embedding che stiamo utilizzando\n",
    "    :param num_words: il numero di parole più frequenti da utilizzare\n",
    "    :return: la matrice dei vettori dell'embedding ordinata come il nostro indice\n",
    "\n",
    "    \"\"\"\n",
    "    embedding_matrix = np.zeros((num_words + 1, dim_embeddings))  # creiamo la matrice di zeri avente tante righe quante sono le parole (più una) e tante colonne quante sono quelle dei vettori\n",
    "    error_word = []\n",
    "    for word in word_index.keys():  # tqdm(word_index.keys(), total=num_words):  # Scorriamo le parole dell'indice del tokenizer\n",
    "        if word_index[word] >= num_words:\n",
    "            break\n",
    "        embedding_vector = embeddings_index.get(word)  # estraiamo il vettore corrispondente\n",
    "        if embedding_vector is not None:  # verifichiamo che esista (anche se il nostro dizionario è più piccolo di quello dell'embedding potrebbe contenere parolo non presenti in esso)\n",
    "            # se la parola è presente andiamo avanti (se non è presente, in corrispondenza di questo indice, rimarrà il vettore formato da zeri)\n",
    "            embedding_matrix[word_index[word]] = embedding_vector  # impostiamo nella matrice quella riga con il vettore corrispondente alla parola\n",
    "        else:\n",
    "            error_word.append(word)\n",
    "    \n",
    "    print(error_word)\n",
    "    return embedding_matrix"
   ]
  },
  {
   "cell_type": "code",
   "execution_count": 31,
   "metadata": {},
   "outputs": [
    {
     "name": "stdout",
     "output_type": "stream",
     "text": [
      "['', '{\\\\displaystyle', '\"the', '⋅', '−', '(or', '(e', '(the', \"one's\", '(such', '\\\\mathbf', '∫', '{x}', '\\\\cdot', \"women's\", '(see', '{f}', '˙', '{v}', '\\\\psi', '{\\\\mathbf', '(in', \"master's\", '(i', '\"a', \"world's\", \"keynes's\", '(and', '(a', '{\\\\frac', 'ℏ', '(also', \"country's\", 'championships:', '(as', \"individual's\", '\\t\\t', '{d}', '(including', 'left–right', \"school's\", 'include:', '{\\\\dot', \"lse's\", 'bce)', \"people's\", \"newton's\", 'mph)', '(which', '(sometimes', 'are:', '(for', 'csikszentmihályi']\n"
     ]
    }
   ],
   "source": [
    "word_index = tokenizer.word_index\n",
    "embedding_matrix = get_embedding_matrix(word_matrix, word_index)"
   ]
  },
  {
   "cell_type": "code",
   "execution_count": 32,
   "metadata": {},
   "outputs": [
    {
     "name": "stdout",
     "output_type": "stream",
     "text": [
      "(2001, 100)\n"
     ]
    }
   ],
   "source": [
    "print(embedding_matrix.shape)"
   ]
  },
  {
   "cell_type": "code",
   "execution_count": 33,
   "metadata": {},
   "outputs": [],
   "source": [
    "def get_embedding_layer(embedding_matrix, input_length=SENTENCE_LENGTH, trainable=False):\n",
    "    \"\"\"\n",
    "     Instanzia lo strato di tipo Embedding\n",
    "\n",
    "    :param embedding_matrix: Il dizionario ottenuto dall'embedding avente le parole come indice e il vettore come valore\n",
    "    :param input_length: La lunghezza delle frasi che saranno passate come input\n",
    "    \n",
    "    :return: lo strato di tipo Embedding\n",
    "    \"\"\"\n",
    "\n",
    "    embedding_layer = Embedding(  # Creiamo un'istanza del layer di tipo Embedding ed impostiamo i parametri indispensabili e quelli necessari per le nostre esigenze\n",
    "                        embedding_matrix.shape[0],  # il numero di righe (numero di parole + 1)\n",
    "                        embedding_matrix.shape[1],  #  il numero di colonne (lunghezza dei vettori)\n",
    "                        weights=[embedding_matrix],  # l'embedding_matrix creata tramite la funzione precedente\n",
    "                        input_length=input_length,  # la lunghezza delle frasi\n",
    "                        trainable=trainable)  # Impostiamo se questo strato deve essere addestrabile o meno, se lo impostiamo addestrabile i vettori si modificheranno\n",
    "\n",
    "    return embedding_layer  # restituiamo lo strato Embedding\n",
    "\n"
   ]
  },
  {
   "cell_type": "code",
   "execution_count": null,
   "metadata": {},
   "outputs": [],
   "source": []
  },
  {
   "cell_type": "code",
   "execution_count": 34,
   "metadata": {},
   "outputs": [
    {
     "name": "stdout",
     "output_type": "stream",
     "text": [
      "Model: \"sequential_1\"\n",
      "_________________________________________________________________\n",
      " Layer (type)                Output Shape              Param #   \n",
      "=================================================================\n",
      " embedding_1 (Embedding)     (None, 40, 100)           200100    \n",
      "                                                                 \n",
      " Layer1 (Dense)              (None, 40, 128)           12928     \n",
      "                                                                 \n",
      " Layer2 (Dense)              (None, 40, 64)            8256      \n",
      "                                                                 \n",
      " No_Layer (Flatten)          (None, 2560)              0         \n",
      "                                                                 \n",
      " Layer3 (Dense)              (None, 64)                163904    \n",
      "                                                                 \n",
      " Layer_n-1 (Dense)           (None, 48)                3120      \n",
      "                                                                 \n",
      " Output_Layer (Dense)        (None, 7)                 343       \n",
      "                                                                 \n",
      "=================================================================\n",
      "Total params: 388,651\n",
      "Trainable params: 388,651\n",
      "Non-trainable params: 0\n",
      "_________________________________________________________________\n",
      "None\n"
     ]
    }
   ],
   "source": [
    "model_base_glove = Sequential()  # Instanziamo Sequential\n",
    "model_base_glove.add(Embedding(embedding_matrix.shape[0],  # il numero di righe (numero di parole + 1)\n",
    "                    embedding_matrix.shape[1],  #  il numero di colonne (lunghezza dei vettori)\n",
    "                    weights=[embedding_matrix],  # l'embedding_matrix creata tramite la funzione precedente\n",
    "                    input_length=SENTENCE_LENGTH,  # la lunghezza delle frasi\n",
    "                    trainable=True)  # Impostiamo se questo strato deve essere addestrabile o meno, se lo impostiamo addestrabile i vettori si modificheranno\n",
    "                    )  \n",
    "model_base_glove.add(Dense(128, name=\"Layer1\"))  # Aggiungiamo i vari layers (gli assegnamo anche un nome per individuarli nella stampa successiva)\n",
    "model_base_glove.add(Dense(64, name=\"Layer2\")) \n",
    "model_base_glove.add(Flatten(name=\"No_Layer\"))  # Aggiungiamo questo per passare dalle due dimensioni avute finora alla dimensione singola\n",
    "model_base_glove.add(Dense(64, name=\"Layer3\"))\n",
    "model_base_glove.add(Dense(48, name=\"Layer_n-1\"))\n",
    "model_base_glove.add(Dense(7, activation='softmax', name=\"Output_Layer\"))  # Lo strato finale ha un numero di neuroni pari al numero di categorie\n",
    "\n",
    "model_base_glove.compile(optimizer='adam', loss='categorical_crossentropy', metrics=['acc'])  # Compiliamo il modello definendo loss, metrica per la valutazione (accuratezza) \n",
    "\n",
    "print(model_base_glove.summary())"
   ]
  },
  {
   "cell_type": "markdown",
   "metadata": {},
   "source": [
    "#### Lanciamo l'addestramento "
   ]
  },
  {
   "cell_type": "code",
   "execution_count": 35,
   "metadata": {},
   "outputs": [
    {
     "name": "stdout",
     "output_type": "stream",
     "text": [
      "Epoch 1/10\n",
      "20/20 [==============================] - 1s 24ms/step - loss: 1.8078 - acc: 0.4316 - val_loss: 0.8381 - val_acc: 0.7255\n",
      "Epoch 2/10\n",
      "20/20 [==============================] - 0s 9ms/step - loss: 0.5354 - acc: 0.8282 - val_loss: 0.5925 - val_acc: 0.7978\n",
      "Epoch 3/10\n",
      "20/20 [==============================] - 0s 9ms/step - loss: 0.2656 - acc: 0.9209 - val_loss: 0.4634 - val_acc: 0.8491\n",
      "Epoch 4/10\n",
      "20/20 [==============================] - 0s 8ms/step - loss: 0.1390 - acc: 0.9711 - val_loss: 0.4487 - val_acc: 0.8604\n",
      "Epoch 5/10\n",
      "20/20 [==============================] - 0s 8ms/step - loss: 0.0673 - acc: 0.9940 - val_loss: 0.4357 - val_acc: 0.8604\n",
      "Epoch 6/10\n",
      "20/20 [==============================] - 0s 8ms/step - loss: 0.0343 - acc: 0.9992 - val_loss: 0.4195 - val_acc: 0.8652\n",
      "Epoch 7/10\n",
      "20/20 [==============================] - 0s 8ms/step - loss: 0.0197 - acc: 0.9996 - val_loss: 0.4168 - val_acc: 0.8668\n",
      "Epoch 8/10\n",
      "20/20 [==============================] - 0s 8ms/step - loss: 0.0125 - acc: 1.0000 - val_loss: 0.4243 - val_acc: 0.8604\n",
      "Epoch 9/10\n",
      "20/20 [==============================] - 0s 9ms/step - loss: 0.0086 - acc: 1.0000 - val_loss: 0.4362 - val_acc: 0.8668\n",
      "Epoch 10/10\n",
      "20/20 [==============================] - 0s 9ms/step - loss: 0.0063 - acc: 1.0000 - val_loss: 0.4403 - val_acc: 0.8700\n"
     ]
    }
   ],
   "source": [
    "history_base_glove = model_base_glove.fit(X_train, y_train, epochs=10, verbose=1, batch_size=128, validation_data=(X_test, y_test))"
   ]
  },
  {
   "cell_type": "code",
   "execution_count": 36,
   "metadata": {},
   "outputs": [
    {
     "data": {
      "image/png": "[encoded data removed]",
      "text/plain": [
       "<Figure size 720x720 with 2 Axes>"
      ]
     },
     "metadata": {
      "needs_background": "light"
     },
     "output_type": "display_data"
    }
   ],
   "source": [
    "acc = history_base_glove.history['acc']\n",
    "val_acc = history_base_glove.history['val_acc']\n",
    "\n",
    "loss = history_base_glove.history['loss']\n",
    "val_loss = history_base_glove.history['val_loss']\n",
    "\n",
    "plot_loss_accuracy(acc, val_acc, loss, val_loss)"
   ]
  },
  {
   "cell_type": "markdown",
   "metadata": {},
   "source": [
    "#### Notando che va molto presto in overfitting, è chiaro che dovremmo aumentare il numero degli esempi andando a raccogliere altri documenti, comunque possiamo provare ad aggiungere un po' di dropout"
   ]
  },
  {
   "cell_type": "markdown",
   "metadata": {},
   "source": [
    "### Model embedding glove dropout"
   ]
  },
  {
   "cell_type": "code",
   "execution_count": 37,
   "metadata": {},
   "outputs": [
    {
     "name": "stdout",
     "output_type": "stream",
     "text": [
      "Model: \"sequential_2\"\n",
      "_________________________________________________________________\n",
      " Layer (type)                Output Shape              Param #   \n",
      "=================================================================\n",
      " embedding_2 (Embedding)     (None, 40, 100)           200100    \n",
      "                                                                 \n",
      " Layer1 (Dense)              (None, 40, 128)           12928     \n",
      "                                                                 \n",
      " dropout (Dropout)           (None, 40, 128)           0         \n",
      "                                                                 \n",
      " Layer2 (Dense)              (None, 40, 64)            8256      \n",
      "                                                                 \n",
      " No_Layer (Flatten)          (None, 2560)              0         \n",
      "                                                                 \n",
      " dropout_1 (Dropout)         (None, 2560)              0         \n",
      "                                                                 \n",
      " Layer3 (Dense)              (None, 64)                163904    \n",
      "                                                                 \n",
      " dropout_2 (Dropout)         (None, 64)                0         \n",
      "                                                                 \n",
      " Layer_n-1 (Dense)           (None, 48)                3120      \n",
      "                                                                 \n",
      " Output_Layer (Dense)        (None, 7)                 343       \n",
      "                                                                 \n",
      "=================================================================\n",
      "Total params: 388,651\n",
      "Trainable params: 388,651\n",
      "Non-trainable params: 0\n",
      "_________________________________________________________________\n",
      "None\n"
     ]
    }
   ],
   "source": [
    "model_glove_dropout = Sequential()  \n",
    "model_glove_dropout.add(get_embedding_layer(embedding_matrix, trainable=True)) \n",
    "model_glove_dropout.add(Dense(128, name=\"Layer1\"))  \n",
    "model_glove_dropout.add(Dropout(0.5)) # Strato di Dropout che ad ogni passaggio disabilita una certa quantità di connessioni (in questo caso il 30%)\n",
    "model_glove_dropout.add(Dense(64, name=\"Layer2\"))  \n",
    "model_glove_dropout.add(Flatten(name=\"No_Layer\"))\n",
    "model_glove_dropout.add(Dropout(0.4))\n",
    "model_glove_dropout.add(Dense(64, name=\"Layer3\"))\n",
    "model_glove_dropout.add(Dropout(0.3)) # Qui ne disabilitiamo il 20%\n",
    "model_glove_dropout.add(Dense(48, name=\"Layer_n-1\"))\n",
    "model_glove_dropout.add(Dense(7, activation='softmax', name=\"Output_Layer\"))  \n",
    "\n",
    "model_glove_dropout.compile(optimizer='adam', loss='categorical_crossentropy', metrics=['acc'])  \n",
    "\n",
    "print(model_glove_dropout.summary())\n"
   ]
  },
  {
   "cell_type": "code",
   "execution_count": 38,
   "metadata": {},
   "outputs": [
    {
     "name": "stdout",
     "output_type": "stream",
     "text": [
      "Epoch 1/15\n",
      "20/20 [==============================] - 1s 26ms/step - loss: 2.6527 - acc: 0.2778 - val_loss: 1.0068 - val_acc: 0.6549\n",
      "Epoch 2/15\n",
      "20/20 [==============================] - 0s 12ms/step - loss: 1.2931 - acc: 0.5588 - val_loss: 0.7047 - val_acc: 0.7657\n",
      "Epoch 3/15\n",
      "20/20 [==============================] - 0s 11ms/step - loss: 0.8474 - acc: 0.7009 - val_loss: 0.5764 - val_acc: 0.8122\n",
      "Epoch 4/15\n",
      "20/20 [==============================] - 0s 12ms/step - loss: 0.6550 - acc: 0.7728 - val_loss: 0.4990 - val_acc: 0.8427\n",
      "Epoch 5/15\n",
      "20/20 [==============================] - 0s 12ms/step - loss: 0.5223 - acc: 0.8242 - val_loss: 0.4514 - val_acc: 0.8507\n",
      "Epoch 6/15\n",
      "20/20 [==============================] - 0s 11ms/step - loss: 0.4554 - acc: 0.8426 - val_loss: 0.3944 - val_acc: 0.8716\n",
      "Epoch 7/15\n",
      "20/20 [==============================] - 0s 11ms/step - loss: 0.3674 - acc: 0.8655 - val_loss: 0.3623 - val_acc: 0.8860\n",
      "Epoch 8/15\n",
      "20/20 [==============================] - 0s 11ms/step - loss: 0.3200 - acc: 0.8904 - val_loss: 0.3820 - val_acc: 0.8716\n",
      "Epoch 9/15\n",
      "20/20 [==============================] - 0s 12ms/step - loss: 0.2637 - acc: 0.9125 - val_loss: 0.3825 - val_acc: 0.8812\n",
      "Epoch 10/15\n",
      "20/20 [==============================] - 0s 12ms/step - loss: 0.2355 - acc: 0.9141 - val_loss: 0.3638 - val_acc: 0.8941\n",
      "Epoch 11/15\n",
      "20/20 [==============================] - 0s 11ms/step - loss: 0.1901 - acc: 0.9326 - val_loss: 0.3461 - val_acc: 0.8941\n",
      "Epoch 12/15\n",
      "20/20 [==============================] - 0s 12ms/step - loss: 0.1783 - acc: 0.9358 - val_loss: 0.3481 - val_acc: 0.8941\n",
      "Epoch 13/15\n",
      "20/20 [==============================] - 0s 14ms/step - loss: 0.1763 - acc: 0.9366 - val_loss: 0.3107 - val_acc: 0.9021\n",
      "Epoch 14/15\n",
      "20/20 [==============================] - 0s 12ms/step - loss: 0.1425 - acc: 0.9526 - val_loss: 0.3189 - val_acc: 0.9037\n",
      "Epoch 15/15\n",
      "20/20 [==============================] - 0s 13ms/step - loss: 0.1251 - acc: 0.9582 - val_loss: 0.3777 - val_acc: 0.8860\n"
     ]
    }
   ],
   "source": [
    "history_glove_dropout = model_glove_dropout.fit(X_train, y_train, epochs=15, verbose=1, batch_size=128, validation_data=(X_test, y_test))"
   ]
  },
  {
   "cell_type": "code",
   "execution_count": 39,
   "metadata": {},
   "outputs": [
    {
     "data": {
      "image/png": "[encoded data removed]",
      "text/plain": [
       "<Figure size 720x720 with 2 Axes>"
      ]
     },
     "metadata": {
      "needs_background": "light"
     },
     "output_type": "display_data"
    }
   ],
   "source": [
    "acc = history_glove_dropout.history['acc']\n",
    "val_acc = history_glove_dropout.history['val_acc']\n",
    "\n",
    "loss = history_glove_dropout.history['loss']\n",
    "val_loss = history_glove_dropout.history['val_loss']\n",
    "\n",
    "plot_loss_accuracy(acc, val_acc, loss, val_loss)"
   ]
  },
  {
   "cell_type": "markdown",
   "metadata": {},
   "source": [
    "##### A questo punto si possono provare altri aggiustamenti, tra cui soprattutto aggiungere strati più sofisticati che prevedono convoluzione e ricorrenza\n",
    "#### Ad esempio Conv1D, Bidirectional, GRU, LSTM ecc."
   ]
  },
  {
   "cell_type": "markdown",
   "metadata": {},
   "source": [
    "### Model embedding glove GRU dropout"
   ]
  },
  {
   "cell_type": "code",
   "execution_count": 40,
   "metadata": {},
   "outputs": [],
   "source": [
    "from tensorflow.keras.layers import Conv1D, Bidirectional, GRU, LSTM\n"
   ]
  },
  {
   "cell_type": "code",
   "execution_count": 41,
   "metadata": {},
   "outputs": [
    {
     "name": "stdout",
     "output_type": "stream",
     "text": [
      "Model: \"sequential_3\"\n",
      "_________________________________________________________________\n",
      " Layer (type)                Output Shape              Param #   \n",
      "=================================================================\n",
      " embedding_3 (Embedding)     (None, 40, 100)           200100    \n",
      "                                                                 \n",
      " bidirectional (Bidirectiona  (None, 80)               34080     \n",
      " l)                                                              \n",
      "                                                                 \n",
      " dropout_3 (Dropout)         (None, 80)                0         \n",
      "                                                                 \n",
      " Layer1 (Dense)              (None, 128)               10368     \n",
      "                                                                 \n",
      " dropout_4 (Dropout)         (None, 128)               0         \n",
      "                                                                 \n",
      " Layer2 (Dense)              (None, 64)                8256      \n",
      "                                                                 \n",
      " No_Layer (Flatten)          (None, 64)                0         \n",
      "                                                                 \n",
      " dropout_5 (Dropout)         (None, 64)                0         \n",
      "                                                                 \n",
      " Layer3 (Dense)              (None, 64)                4160      \n",
      "                                                                 \n",
      " dropout_6 (Dropout)         (None, 64)                0         \n",
      "                                                                 \n",
      " Layer_n-1 (Dense)           (None, 48)                3120      \n",
      "                                                                 \n",
      " Output_Layer (Dense)        (None, 7)                 343       \n",
      "                                                                 \n",
      "=================================================================\n",
      "Total params: 260,427\n",
      "Trainable params: 260,427\n",
      "Non-trainable params: 0\n",
      "_________________________________________________________________\n",
      "None\n"
     ]
    }
   ],
   "source": [
    "model_glove_gru = Sequential() \n",
    "model_glove_gru.add(get_embedding_layer(embedding_matrix, trainable=True))  \n",
    "model_glove_gru.add(Bidirectional(GRU(40, dropout=0.3)))\n",
    "model_glove_gru.add(Dropout(0.3))\n",
    "model_glove_gru.add(Dense(128, name=\"Layer1\"))  \n",
    "model_glove_gru.add(Dropout(0.5))\n",
    "model_glove_gru.add(Dense(64, name=\"Layer2\")) \n",
    "model_glove_gru.add(Flatten(name=\"No_Layer\")) \n",
    "model_glove_gru.add(Dropout(0.5))\n",
    "model_glove_gru.add(Dense(64, name=\"Layer3\"))\n",
    "model_glove_gru.add(Dropout(0.4))\n",
    "model_glove_gru.add(Dense(48, name=\"Layer_n-1\"))\n",
    "model_glove_gru.add(Dense(7, activation='softmax', name=\"Output_Layer\"))\n",
    "\n",
    "model_glove_gru.compile(optimizer='adam', loss='categorical_crossentropy', metrics=['acc']) \n",
    "\n",
    "print(model_glove_gru.summary())\n"
   ]
  },
  {
   "cell_type": "code",
   "execution_count": 42,
   "metadata": {},
   "outputs": [
    {
     "name": "stdout",
     "output_type": "stream",
     "text": [
      "Epoch 1/15\n",
      "20/20 [==============================] - 6s 63ms/step - loss: 2.3435 - acc: 0.1714 - val_loss: 1.7651 - val_acc: 0.3194\n",
      "Epoch 2/15\n",
      "20/20 [==============================] - 0s 20ms/step - loss: 1.9602 - acc: 0.2328 - val_loss: 1.6786 - val_acc: 0.3772\n",
      "Epoch 3/15\n",
      "20/20 [==============================] - 0s 23ms/step - loss: 1.8125 - acc: 0.2862 - val_loss: 1.5759 - val_acc: 0.4398\n",
      "Epoch 4/15\n",
      "20/20 [==============================] - 0s 22ms/step - loss: 1.7139 - acc: 0.3372 - val_loss: 1.4071 - val_acc: 0.5345\n",
      "Epoch 5/15\n",
      "20/20 [==============================] - 0s 23ms/step - loss: 1.5829 - acc: 0.3902 - val_loss: 1.2181 - val_acc: 0.5811\n",
      "Epoch 6/15\n",
      "20/20 [==============================] - 0s 23ms/step - loss: 1.4191 - acc: 0.4793 - val_loss: 0.9901 - val_acc: 0.6533\n",
      "Epoch 7/15\n",
      "20/20 [==============================] - 0s 22ms/step - loss: 1.2124 - acc: 0.5604 - val_loss: 0.7569 - val_acc: 0.7464\n",
      "Epoch 8/15\n",
      "20/20 [==============================] - 0s 23ms/step - loss: 1.0282 - acc: 0.6323 - val_loss: 0.5804 - val_acc: 0.8026\n",
      "Epoch 9/15\n",
      "20/20 [==============================] - 0s 23ms/step - loss: 0.8456 - acc: 0.6933 - val_loss: 0.4482 - val_acc: 0.8363\n",
      "Epoch 10/15\n",
      "20/20 [==============================] - 0s 20ms/step - loss: 0.7045 - acc: 0.7631 - val_loss: 0.3876 - val_acc: 0.8555\n",
      "Epoch 11/15\n",
      "20/20 [==============================] - 0s 24ms/step - loss: 0.5627 - acc: 0.8157 - val_loss: 0.2901 - val_acc: 0.9021\n",
      "Epoch 12/15\n",
      "20/20 [==============================] - 0s 23ms/step - loss: 0.4710 - acc: 0.8491 - val_loss: 0.2738 - val_acc: 0.9085\n",
      "Epoch 13/15\n",
      "20/20 [==============================] - 0s 23ms/step - loss: 0.4075 - acc: 0.8731 - val_loss: 0.2361 - val_acc: 0.9294\n",
      "Epoch 14/15\n",
      "20/20 [==============================] - 0s 23ms/step - loss: 0.4047 - acc: 0.8659 - val_loss: 0.2307 - val_acc: 0.9181\n",
      "Epoch 15/15\n",
      "20/20 [==============================] - 0s 23ms/step - loss: 0.3590 - acc: 0.8888 - val_loss: 0.2392 - val_acc: 0.9149\n"
     ]
    }
   ],
   "source": [
    "history_glove_gru = model_glove_gru.fit(X_train, y_train, epochs=20, verbose=1, batch_size=128, validation_data=(X_test, y_test))"
   ]
  },
  {
   "cell_type": "code",
   "execution_count": 43,
   "metadata": {},
   "outputs": [
    {
     "data": {
      "image/png": "[encoded data removed]",
      "text/plain": [
       "<Figure size 720x720 with 2 Axes>"
      ]
     },
     "metadata": {
      "needs_background": "light"
     },
     "output_type": "display_data"
    }
   ],
   "source": [
    "acc = history_glove_gru.history['acc']\n",
    "val_acc = history_glove_gru.history['val_acc']\n",
    "\n",
    "loss = history_glove_gru.history['loss']\n",
    "val_loss = history_glove_gru.history['val_loss']\n",
    "\n",
    "plot_loss_accuracy(acc, val_acc, loss, val_loss)"
   ]
  },
  {
   "cell_type": "code",
   "execution_count": 44,
   "metadata": {},
   "outputs": [
    {
     "name": "stdout",
     "output_type": "stream",
     "text": [
      "Model: \"sequential_4\"\n",
      "_________________________________________________________________\n",
      " Layer (type)                Output Shape              Param #   \n",
      "=================================================================\n",
      " embedding_4 (Embedding)     (None, 40, 100)           200100    \n",
      "                                                                 \n",
      " conv1d (Conv1D)             (None, 36, 32)            16032     \n",
      "                                                                 \n",
      " dropout_7 (Dropout)         (None, 36, 32)            0         \n",
      "                                                                 \n",
      " Layer1 (Dense)              (None, 36, 64)            2112      \n",
      "                                                                 \n",
      " dropout_8 (Dropout)         (None, 36, 64)            0         \n",
      "                                                                 \n",
      " Layer2 (Dense)              (None, 36, 64)            4160      \n",
      "                                                                 \n",
      " No_Layer (Flatten)          (None, 2304)              0         \n",
      "                                                                 \n",
      " dropout_9 (Dropout)         (None, 2304)              0         \n",
      "                                                                 \n",
      " Layer3 (Dense)              (None, 64)                147520    \n",
      "                                                                 \n",
      " dropout_10 (Dropout)        (None, 64)                0         \n",
      "                                                                 \n",
      " Layer_n-1 (Dense)           (None, 48)                3120      \n",
      "                                                                 \n",
      " Output_Layer (Dense)        (None, 7)                 343       \n",
      "                                                                 \n",
      "=================================================================\n",
      "Total params: 373,387\n",
      "Trainable params: 373,387\n",
      "Non-trainable params: 0\n",
      "_________________________________________________________________\n",
      "None\n"
     ]
    }
   ],
   "source": [
    "model_glove_conv = Sequential() \n",
    "model_glove_conv.add(get_embedding_layer(embedding_matrix, trainable=True))  \n",
    "model_glove_conv.add(Conv1D(filters=32, kernel_size=5, activation=\"relu\"))\n",
    "model_glove_conv.add(Dropout(0.3))\n",
    "model_glove_conv.add(Dense(64, name=\"Layer1\"))  \n",
    "model_glove_conv.add(Dropout(0.5))\n",
    "model_glove_conv.add(Dense(64, name=\"Layer2\")) \n",
    "model_glove_conv.add(Flatten(name=\"No_Layer\")) \n",
    "model_glove_conv.add(Dropout(0.5))\n",
    "model_glove_conv.add(Dense(64, name=\"Layer3\"))\n",
    "model_glove_conv.add(Dropout(0.4))\n",
    "model_glove_conv.add(Dense(48, name=\"Layer_n-1\"))\n",
    "model_glove_conv.add(Dense(7, activation='softmax', name=\"Output_Layer\"))\n",
    "\n",
    "model_glove_conv.compile(optimizer='adam', loss='categorical_crossentropy', metrics=['acc']) \n",
    "\n",
    "print(model_glove_conv.summary())\n"
   ]
  },
  {
   "cell_type": "code",
   "execution_count": null,
   "metadata": {},
   "outputs": [
    {
     "name": "stdout",
     "output_type": "stream",
     "text": [
      "Epoch 1/15\n"
     ]
    }
   ],
   "source": [
    "history_glove_conv = model_glove_conv.fit(X_train, y_train, epochs=15, verbose=1, batch_size=64, validation_data=(X_test, y_test))"
   ]
  },
  {
   "cell_type": "code",
   "execution_count": null,
   "metadata": {},
   "outputs": [],
   "source": [
    "acc = history_glove_conv.history['acc']\n",
    "val_acc = history_glove_conv.history['val_acc']\n",
    "\n",
    "loss = history_glove_conv.history['loss']\n",
    "val_loss = history_glove_conv.history['val_loss']\n",
    "\n",
    "plot_loss_accuracy(acc, val_acc, loss, val_loss)"
   ]
  },
  {
   "cell_type": "markdown",
   "metadata": {},
   "source": [
    "#### Confrontiamo i modelli con delle frasi nuove"
   ]
  },
  {
   "cell_type": "code",
   "execution_count": null,
   "metadata": {},
   "outputs": [],
   "source": [
    "from ipynb.fs.defs.data_collect_preprocessing import preprocess_text\n",
    "from ipynb.fs.defs.data_collect_preprocessing import CATEGORIES"
   ]
  },
  {
   "cell_type": "code",
   "execution_count": null,
   "metadata": {},
   "outputs": [],
   "source": [
    "models = {\"model_basic_emb\": [model_basic_emb, history_basic_emb],\n",
    "          \"model_base_glove\": [model_base_glove, history_base_glove], \n",
    "          \"model_glove_dropout\": [model_glove_dropout, history_glove_dropout],\n",
    "          \"model_glove_conv\": [model_glove_conv, history_glove_conv],\n",
    "          \"model_glove_gru\": [model_glove_gru, history_glove_gru]\n",
    "         }\n",
    "for k in models.keys():  \n",
    "    print(\"\\n\", k)\n",
    "    print(max(models[k][1].history['val_acc']))\n"
   ]
  },
  {
   "cell_type": "code",
   "execution_count": null,
   "metadata": {},
   "outputs": [],
   "source": [
    "text = \"There are two broad stances about what is the world studied by metaphysics. The strong, classical view assumes that the objects studied by metaphysics exist independently of any observer so that the subject is the most fundamental of all sciences.\"\n",
    "text = preprocess_text(text)\n",
    "sequence = tokenizer.texts_to_sequences([text])\n",
    "print(sequence)\n",
    "padded_seq = pad_sequences(sequence, maxlen=SENTENCE_LENGTH) \n",
    "for k in models.keys():  \n",
    "    print(\"\\n\", k)\n",
    "    y = models[k][0].predict(padded_seq)\n",
    "    print(y)\n",
    "    print(np.argmax(y))\n",
    "    print(CATEGORIES[np.argmax(y)])\n"
   ]
  },
  {
   "cell_type": "markdown",
   "metadata": {},
   "source": []
  }
 ],
 "metadata": {
  "kernelspec": {
   "display_name": "Python 3",
   "language": "python",
   "name": "python3"
  },
  "language_info": {
   "codemirror_mode": {
    "name": "ipython",
    "version": 3
   },
   "file_extension": ".py",
   "mimetype": "text/x-python",
   "name": "python",
   "nbconvert_exporter": "python",
   "pygments_lexer": "ipython3",
   "version": "3.8.5"
  }
 },
 "nbformat": 4,
 "nbformat_minor": 4
}
